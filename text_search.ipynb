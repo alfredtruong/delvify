{
 "cells": [
  {
   "cell_type": "markdown",
   "id": "aba59712",
   "metadata": {},
   "source": [
    "# IMPORTS"
   ]
  },
  {
   "cell_type": "code",
   "execution_count": null,
   "id": "a17e201c",
   "metadata": {},
   "outputs": [],
   "source": [
    "%run ipynb_setup.ipynb"
   ]
  },
  {
   "cell_type": "code",
   "execution_count": null,
   "id": "1966c595",
   "metadata": {},
   "outputs": [],
   "source": [
    "%run class_TokenSearch.ipynb"
   ]
  },
  {
   "cell_type": "markdown",
   "id": "bbe30f19",
   "metadata": {},
   "source": [
    "# IMPLEMENT TEXT SEARCH"
   ]
  },
  {
   "cell_type": "code",
   "execution_count": null,
   "id": "ac49f7f8",
   "metadata": {
    "scrolled": false
   },
   "outputs": [],
   "source": [
    "d=Dataset()"
   ]
  },
  {
   "cell_type": "code",
   "execution_count": null,
   "id": "2563eca7",
   "metadata": {},
   "outputs": [],
   "source": [
    "d.raw.head(1).transpose()"
   ]
  },
  {
   "cell_type": "markdown",
   "id": "d1a59ffe",
   "metadata": {},
   "source": [
    "### build up regex"
   ]
  },
  {
   "cell_type": "code",
   "execution_count": null,
   "id": "f9a20c6d",
   "metadata": {
    "scrolled": true
   },
   "outputs": [],
   "source": [
    "d.df['title'].str.lower().str.contains('summer|hot')"
   ]
  },
  {
   "cell_type": "code",
   "execution_count": null,
   "id": "baaa0c52",
   "metadata": {},
   "outputs": [],
   "source": [
    "d.df['title'].str.contains('womens|me|dress|banana',flags=re.IGNORECASE,regex=True)"
   ]
  },
  {
   "cell_type": "code",
   "execution_count": null,
   "id": "053fae82",
   "metadata": {
    "scrolled": false
   },
   "outputs": [],
   "source": [
    "pd.concat(\n",
    "    [\n",
    "        d.df['title'],\n",
    "        d.df['title'].str.contains('sans',flags=re.IGNORECASE,regex=True)+0\n",
    "    ],\n",
    "    axis=1,\n",
    ")[:20]"
   ]
  },
  {
   "cell_type": "markdown",
   "id": "9fc5a35e",
   "metadata": {},
   "source": [
    "### combine description / tag columns to do single regex on"
   ]
  },
  {
   "cell_type": "code",
   "execution_count": null,
   "id": "c90177ba",
   "metadata": {
    "scrolled": true
   },
   "outputs": [],
   "source": [
    "d.df[['title','title_orig','tags']].apply(lambda x:x['title']+x['title_orig']+x['tags'],axis=1)"
   ]
  },
  {
   "cell_type": "markdown",
   "id": "7b68678f",
   "metadata": {},
   "source": [
    "# FUNCTIONS TO BUILD UP QUERY"
   ]
  },
  {
   "cell_type": "code",
   "execution_count": null,
   "id": "828d01d0",
   "metadata": {
    "scrolled": true
   },
   "outputs": [],
   "source": [
    "ts=TokenSearch(dataset=Dataset())\n",
    "#ts.tokens_found_count(search_tokens=['summer','short'],verbose=1) # basic logic\n",
    "#ts.tokens_found_count(search_tokens=['harajuku','goth','sexy'],verbose=1) # test rare token logic\n",
    "#ts.tokens_found_count(search_tokens=['kids','top','banana','bobby','henry'],verbose=0) # test bad search tokens\n",
    "#ts.tokens_found_count(search_tokens=['kids','sandals'],verbose=1) # test\n",
    "#ts.tokens_found_count(search_tokens=['balloon'],show_top_n=5,verbose=1) # test show_top_n\n",
    "#ts.tokens_found_count(search_tokens=['balloon'],show_top_n=5,verbose=1) # test results snipping\n",
    "#ts.tokens_found_count(search_tokens=['banana'],show_top_n=5,verbose=1) # test results chat#\n",
    "#ts.tokens_found_count(search_tokens=['sandal'],show_top_n=5,verbose=1) # test results chat\n",
    "#ts.tokens_found_count(search_tokens=['sandal','red'],show_top_n=5,verbose=1) # test results chat\n",
    "#ts.tokens_found_count(search_string='sandal red',show_top_n=5,verbose=1) # test results chat\n",
    "#ts.tokens_found_count(search_tokens=['top','skinny','red'],show_top_n=5,verbose=1) # test results chat\n",
    "#ts.tokens_found_count(search_tokens=['top','skinny','red'],show_top_n=5,exact_search=True,verbose=1) # test results chat\n",
    "#ts.tokens_found_count(search_string='top red',show_top_n=5,verbose=1) # test results chat\n",
    "#ts.tokens_found_count(search_string='top red',show_top_n=5,exact_search=True,verbose=1) # test exact search\n",
    "ts.tokens_found_count(search_string='exy',show_top_n=5,verbose=1) # test exact search\n",
    "#ts.tokens_found_count(search_string='exy',show_top_n=5,exact_search=True,verbose=1) # test exact search\n",
    "#ts.tokens_found_count(search_string='top red',show_top_n=5,exact_search=True,verbose=1) # test exact search"
   ]
  },
  {
   "cell_type": "markdown",
   "id": "84db37b5",
   "metadata": {},
   "source": [
    "### simple way to get description + tags to regex over"
   ]
  },
  {
   "cell_type": "code",
   "execution_count": null,
   "id": "60030fda",
   "metadata": {},
   "outputs": [],
   "source": [
    "d.df[['title','title_orig','tags','product_color']]"
   ]
  }
 ],
 "metadata": {
  "kernelspec": {
   "display_name": "Python 3",
   "language": "python",
   "name": "python3"
  },
  "language_info": {
   "codemirror_mode": {
    "name": "ipython",
    "version": 3
   },
   "file_extension": ".py",
   "mimetype": "text/x-python",
   "name": "python",
   "nbconvert_exporter": "python",
   "pygments_lexer": "ipython3",
   "version": "3.8.10"
  }
 },
 "nbformat": 4,
 "nbformat_minor": 5
}
