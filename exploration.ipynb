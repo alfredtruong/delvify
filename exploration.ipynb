{
 "cells": [
  {
   "cell_type": "markdown",
   "id": "f3764b1b",
   "metadata": {},
   "source": [
    "# [TLDR] CONCLUSIONS\n",
    "- after understanding data from each column I feel \n",
    "\n",
    "1. the following columns are NOT useful for the following reasons (I remove them from consideration as imo it would be fitting noise)\n",
    "\n",
    "    ```\n",
    "    'currency_buyer',                ALWAYS EUR \n",
    "    'uses_ad_boosts',                IS 0 OR 1, IS MORE RELEVANT TO SEARCH RESULT AUGMENTATION, NOT RELEVANT FOR FINDING SIMILAR PRODUCTS\n",
    "    'badges_count',                  IS 0-1-2-3, COUNTS N-BADGES, IS MORE RELEVANT TO SEARCH RESULT AUGMENTATION, NOT RELEVANT FOR FINDING SIMILAR PRODUCTS\n",
    "    'badge_local_product',           IS 0 OR 1, LOCAL PRODUCT OR NOT, IS MORE RELEVANT TO SEARCH RESULT AUGMENTATION, NOT RELEVANT FOR FINDING SIMILAR PRODUCTS\n",
    "    'badge_product_quality',         IS 0 OR 1, IS DEEMED QUALITY PRODUCT OR NOT, IS MORE RELEVANT TO SEARCH RESULT AUGMENTATION, NOT RELEVANT FOR FINDING SIMILAR PRODUCTS\n",
    "    'badge_fast_shipping',           IS 0 OR 1, HAS FAST SHIPPING NOT, IS MORE RELEVANT TO SEARCH RESULT AUGMENTATION, NOT RELEVANT FOR FINDING SIMILAR PRODUCTS\n",
    "    'product_variation_size_id',     SIZES AVAILABLE, NOT FOR FINDING SIMILAR PRODUCTS\n",
    "    'product_variation_inventory',   IS BETWEEN 0 TO 50, IS RELATED TO INVENTORY MANAGEMENT, NOT RELEVANT FOR FINDING SIMILAR PRODUCTS\n",
    "    'shipping_option_name',          SHIPPING COMPANY NAME, NOT RELEVANT FOR FINDING SIMILAR PRODUCTS\n",
    "    'shipping_option_price',         SHIPPING PRICING, NOT RELEVANT FOR FINDING SIMILAR PRODUCTS\n",
    "    'shipping_is_express',           SHIPPING EXPRESSNESS OR NOT, NOT RELEVANT FOR FINDING SIMILAR PRODUCTS\n",
    "    'countries_shipped_to',          SHIPPING LOCATIONS, NOT RELEVANT FOR FINDING SIMILAR PRODUCTS\n",
    "    'inventory_total',               IS BETWEEN 0 TO 50, IS RELATED TO INVENTORY MANAGEMENT, NOT RELEVANT FOR FINDING SIMILAR PRODUCTS\n",
    "    'has_urgency_banner',            IS 0 OR 1, IS DEEMED URGENT OR NOT, IS MORE RELEVANT TO SEARCH RESULT AUGMENTATION, NOT RELEVANT FOR FINDING SIMILAR PRODUCTS\n",
    "    'urgency_text',                  SAME AS has_urgency_banner\n",
    "    'origin_country',                COUNTRY MADE, NOT RELEVANT FOR FINDING SIMILAR PRODUCTS\n",
    "    'merchant_info_subtitle',        WISH MERCHANT IDENTIFIER, NOT RELEVANT FOR FINDING SIMILAR PRODUCTS\n",
    "    'merchant_id',                   WISH MERCHANT IDENTIFIER, NOT RELEVANT FOR FINDING SIMILAR PRODUCTS\n",
    "    'merchant_has_profile_picture',  WISH MERCHANT IDENTIFIER, NOT RELEVANT FOR FINDING SIMILAR PRODUCTS\n",
    "    'merchant_profile_picture',      WISH MERCHANT IDENTIFIER, NOT RELEVANT FOR FINDING SIMILAR PRODUCTS\n",
    "    'merchant_title',                WISH MERCHANT IDENTIFIER, NOT RELEVANT FOR FINDING SIMILAR PRODUCTS\n",
    "    'merchant_name',                 WISH MERCHANT IDENTIFIER, NOT RELEVANT FOR FINDING SIMILAR PRODUCTS\n",
    "    'product_url',                   DEAD LINK, BROWSER INFO, NOT RELEVANT FOR FINDING SIMILAR PRODUCTS\n",
    "    'product_id',                    WISH PRODUCT IDENTIFIER, NOT RELEVANT FOR FINDING SIMILAR PRODUCTS\n",
    "    'theme',                         ALWAYS SUMMER, DATA SCRAPE IDENTIFIER, NOT RELEVANT FOR FINDING SIMILAR PRODUCTS\n",
    "    'crawl_month'                    ALWAYS 202008, DATA SCRAPE IDENTIFIER, NOT RELEVANT FOR FINDING SIMILAR PRODUCTS\n",
    "    ```\n",
    "    \n",
    "2. the following columns COULD be useful for analysis AND could do with the following transformations to make them more normal like (decided by looking at qqplots)\n",
    "\n",
    "    ```\n",
    "    'title',                         PRODUCT DESCRIPTOR STRING IN FRENCH     TEXT SEARCH\n",
    "    'title_orig',                    PRODUCT DESCRIPTOR STRING IN ENGLISH    TEXT SEARCH\n",
    "    'price',                         SEEMS LIKE PURCHASE PRICE               NUMERIC                       LOG / SQRT\n",
    "    'retail_price',                  SEEMS LIKE RECOMMENDED RETAIL PRICE     NUMERIC                       LOG\n",
    "    'units_sold',                    SEEMS LIKE CATEGORY OF SOLDNESS         NUMERIC                       LOG\n",
    "    'rating',                        BETWEEN 0-5, IS WAVG OF RATING_*_COUNT  NUMERIC                       LOG\n",
    "    'rating_count',                  COUNTER OF TOTAL RATINGS                NUMERIC                       LOG\n",
    "    'rating_five_count',             COUNTER OF 5 STAR RATINGS               NUMERIC                       LOG\n",
    "    'rating_four_count',             COUNTER OF 4 STAR RATINGS               NUMERIC                       LOG\n",
    "    'rating_three_count',            COUNTER OF 3 STAR RATINGS               NUMERIC                       LOG\n",
    "    'rating_two_count',              COUNTER OF 2 STAR RATINGS               NUMERIC                       LOG\n",
    "    'rating_one_count',              COUNTER OF 1 STAR RATINGS               NUMERIC                       LOG\n",
    "    'tags',                          ENGLISH TAGS                            TEXT SEARCH\n",
    "    'product_color',                 ENGLISH COLOURS                         TEXT SEARCH\n",
    "    'merchant_rating_count',         COUNTER OF MERCHANT RATINGS             NUMERIC                       LOG\n",
    "    'merchant_rating',               BETWEEN 0-5, MERCHANT RATING            NUMERIC                       NONE\n",
    "    'product_picture',               URL TO PICTURE OR PRODUCT               IMAGE METRICS \n",
    "    ```\n"
   ]
  },
  {
   "cell_type": "markdown",
   "id": "2a4f72be",
   "metadata": {},
   "source": [
    "# IMPORTS"
   ]
  },
  {
   "cell_type": "code",
   "execution_count": null,
   "id": "a9fa478e",
   "metadata": {},
   "outputs": [],
   "source": [
    "%run ipynb_setup.ipynb"
   ]
  },
  {
   "cell_type": "code",
   "execution_count": null,
   "id": "90e5df21",
   "metadata": {},
   "outputs": [],
   "source": [
    "import statsmodels.api as sm\n",
    "import os\n",
    "from pathlib import Path"
   ]
  },
  {
   "cell_type": "code",
   "execution_count": null,
   "id": "d0adff0f",
   "metadata": {},
   "outputs": [],
   "source": [
    "df=pd.read_csv(Path(os.getcwd()) / 'Sales Of Summer Cloths.csv')"
   ]
  },
  {
   "cell_type": "markdown",
   "id": "87f15560",
   "metadata": {},
   "source": [
    "# ASSIGNMENT DETAILS"
   ]
  },
  {
   "cell_type": "code",
   "execution_count": null,
   "id": "57478589",
   "metadata": {},
   "outputs": [],
   "source": [
    "'''\n",
    "Data Scientist Assignement\n",
    "\n",
    "Sample dataset (https://drive.google.com/file/d/10CBAzbLTvEsabM-\n",
    "TrHAcp1GsQynMGsZJ/view?usp=sharing) shows sales of a particular online clothing store.\n",
    "\n",
    "In order to increase their sales, store would like to integrate a recommendation system into\n",
    "it's search functionality. That means that search functionality should demonstrate a certain\n",
    "logic and not just return items based on keyword match against name or description of\n",
    "store’s catalogue.\n",
    "\n",
    "Suggestions include:\n",
    "• Consider rating and number of sold items, when looking at item categories.\n",
    "Submission can be in form of a Python Jupyter notebook, to showcase graphs. That said it\n",
    "must contain a search function that takes a query as input, returning a list of catalogue items.\n",
    "\n",
    "Evaluation criteria includes:\n",
    "• Logic and decisions on how search function was constructed.\n",
    "• Clarity of explanations, so that evaluator can understand mentioned logic.\n",
    "'''\n",
    "None"
   ]
  },
  {
   "cell_type": "code",
   "execution_count": null,
   "id": "b7d1676d",
   "metadata": {},
   "outputs": [],
   "source": [
    "'''\n",
    "wish to increase sales\n",
    "integrate recommendation system into search functionality\n",
    "should NOT just return based on keyword (it CAN have something like it matching name or description)\n",
    "\n",
    "SUGGESTIONS\n",
    "- when looking at item categories\n",
    "- similar ratings\n",
    "- similar numbers sold\n",
    "\n",
    "DO\n",
    "- notebook to show graphs\n",
    "- make search function that takes\n",
    "        INPUT  = query\n",
    "        OUTPUT = list of catalogue items\n",
    "'''\n",
    "None"
   ]
  },
  {
   "cell_type": "markdown",
   "id": "2c7a0940",
   "metadata": {},
   "source": [
    "# UNDERSTAND DATA "
   ]
  },
  {
   "cell_type": "code",
   "execution_count": null,
   "id": "03a20905",
   "metadata": {
    "scrolled": true
   },
   "outputs": [],
   "source": [
    "df.head(1).transpose()"
   ]
  },
  {
   "cell_type": "code",
   "execution_count": null,
   "id": "33765cad",
   "metadata": {
    "scrolled": true
   },
   "outputs": [],
   "source": [
    "df.info()"
   ]
  },
  {
   "cell_type": "markdown",
   "id": "e4b5e20b",
   "metadata": {},
   "source": [
    "### functions to inspect each column by data type"
   ]
  },
  {
   "cell_type": "code",
   "execution_count": null,
   "id": "c449282a",
   "metadata": {},
   "outputs": [],
   "source": [
    "def inspect_object(\n",
    "    col : str, # column name\n",
    "    ) -> None :\n",
    "    uniques=df[col].unique()\n",
    "    print(f'number of uniques = {len(uniques)}')\n",
    "    print()\n",
    "    print(uniques)\n",
    "        \n",
    "def inspect_numeric(\n",
    "    col : str, # column name\n",
    "    ) -> None :\n",
    "    fig,ax=plt.subplots(3,4,figsize=(30,20))\n",
    "\n",
    "    ###################################\n",
    "    # raw\n",
    "    ###################################\n",
    "    # dat\n",
    "    raw=df[col]\n",
    "    raw.plot(title=f'[raw] {col}',ax=ax[0,0])\n",
    "\n",
    "    # hist\n",
    "    raw.hist(ax=ax[1,0])\n",
    "    ax[1,0].set_title('[raw] hist')\n",
    "\n",
    "    # qqplot\n",
    "    sm.qqplot(raw-raw.mean(), line ='45',ax=ax[2,0])\n",
    "    ax[2,0].set_title('[raw] qqplot')\n",
    "\n",
    "    ###################################\n",
    "    # logged\n",
    "    ###################################\n",
    "    # logged\n",
    "    logged=df[col].copy()\n",
    "    logged[logged<=0]=np.nan\n",
    "    logged=np.log(logged+1)\n",
    "    logged.plot(title=f'[logged] {col}',ax=ax[0,1])\n",
    "\n",
    "    # hist\n",
    "    logged.hist(ax=ax[1,1])\n",
    "    ax[1,1].set_title('[logged] hist')\n",
    "\n",
    "    # qqplot\n",
    "    sm.qqplot(logged-logged.mean(), line ='45',ax=ax[2,1])\n",
    "    ax[2,1].set_title('[logged] qqplot')\n",
    "\n",
    "    ###################################\n",
    "    # sqrt\n",
    "    ###################################\n",
    "    # sqrted\n",
    "    sqrted=df[col].copy()\n",
    "    sqrted[sqrted<=0]=np.nan\n",
    "    sqrted=np.sqrt(sqrted)\n",
    "    sqrted.plot(title=f'[sqrted] {col}',ax=ax[0,2])\n",
    "\n",
    "    # hist\n",
    "    sqrted.hist(ax=ax[1,2])\n",
    "    ax[1,2].set_title('[sqrted] hist')\n",
    "\n",
    "    # qqplot\n",
    "    sm.qqplot(sqrted-sqrted.mean(), line ='45',ax=ax[2,2])\n",
    "    ax[2,2].set_title('[sqrted] qqplot')\n",
    "\n",
    "    ###################################\n",
    "    # arcsin\n",
    "    ###################################\n",
    "    # arcsined\n",
    "    arcsined=df[col].copy()\n",
    "    arcsined=np.arcsin(arcsined)\n",
    "    arcsined.plot(title=f'[arcsined] {col}',ax=ax[0,3])\n",
    "\n",
    "    # hist\n",
    "    arcsined.hist(ax=ax[1,3])\n",
    "    ax[1,3].set_title('[arcsined] hist')\n",
    "\n",
    "    # qqplot\n",
    "    sm.qqplot(arcsined-arcsined.mean(), line ='45',ax=ax[2,3])\n",
    "    ax[2,3].set_title('[arcsined] qqplot')\n",
    "\n",
    "    ###################################\n",
    "    # others\n",
    "    ###################################\n",
    "    plt.show()\n",
    "    display(df[col].value_counts().head(10))\n",
    "\n",
    "def understand_col(\n",
    "    col : str, # column name\n",
    "    ) -> None :\n",
    "    print('-'*100)\n",
    "    print(f'col = {col}')\n",
    "    print('-'*100)\n",
    "    \n",
    "    if df[col].dtype in ['object']:\n",
    "        inspect_object(col)\n",
    "    elif df[col].dtype in ['float64','int64']:\n",
    "        inspect_numeric(col)\n",
    "    else:\n",
    "        print(I_AM_AN_ERROR)\n",
    "\n",
    "    print()"
   ]
  },
  {
   "cell_type": "markdown",
   "id": "aaebf519",
   "metadata": {},
   "source": [
    "### look at each column"
   ]
  },
  {
   "cell_type": "code",
   "execution_count": null,
   "id": "bb796b3a",
   "metadata": {
    "scrolled": false
   },
   "outputs": [],
   "source": [
    "for col in df: understand_col(col)"
   ]
  },
  {
   "cell_type": "markdown",
   "id": "f7d4183a",
   "metadata": {},
   "source": [
    "# PAIRPLOT NUMERICS "
   ]
  },
  {
   "cell_type": "code",
   "execution_count": null,
   "id": "fcbc6a17",
   "metadata": {},
   "outputs": [],
   "source": [
    "df_num = df.select_dtypes(include=['int64','float64'])\n",
    "df_num"
   ]
  },
  {
   "cell_type": "code",
   "execution_count": null,
   "id": "4576497b",
   "metadata": {
    "scrolled": false
   },
   "outputs": [],
   "source": [
    "df_preselected_num = df[\n",
    "    [\n",
    "        'title',\n",
    "        'title_orig',\n",
    "        'price',\n",
    "        'retail_price',\n",
    "        'units_sold',\n",
    "        'rating',\n",
    "        'rating_count',\n",
    "        'rating_five_count',\n",
    "        'rating_four_count',\n",
    "        'rating_three_count',\n",
    "        'rating_two_count',\n",
    "        'rating_one_count',\n",
    "        'tags',\n",
    "        'product_color',\n",
    "        'merchant_title',\n",
    "        'merchant_name',\n",
    "        'merchant_rating_count',\n",
    "        'merchant_rating',\n",
    "        'product_picture',\n",
    "    ]\n",
    "].select_dtypes(include=['int64','float64'])\n",
    "sns.pairplot(df_preselected_num)"
   ]
  },
  {
   "cell_type": "markdown",
   "id": "808c859e",
   "metadata": {},
   "source": [
    "# SPECIFIC COLUMNS"
   ]
  },
  {
   "cell_type": "markdown",
   "id": "08438234",
   "metadata": {},
   "source": [
    "### `title` vs `title_orig`"
   ]
  },
  {
   "cell_type": "code",
   "execution_count": null,
   "id": "22def16f",
   "metadata": {},
   "outputs": [],
   "source": [
    "df[['title','title_orig','tags']][:500]"
   ]
  },
  {
   "cell_type": "markdown",
   "id": "7f9691b9",
   "metadata": {},
   "source": [
    "### `price` vs `retail_price`"
   ]
  },
  {
   "cell_type": "code",
   "execution_count": null,
   "id": "1d15725c",
   "metadata": {},
   "outputs": [],
   "source": [
    "df.plot(kind='scatter',x='price',y='retail_price')"
   ]
  },
  {
   "cell_type": "code",
   "execution_count": null,
   "id": "54a4648f",
   "metadata": {},
   "outputs": [],
   "source": [
    "df['price']-df['price'].mean()"
   ]
  },
  {
   "cell_type": "code",
   "execution_count": null,
   "id": "f09f623d",
   "metadata": {},
   "outputs": [],
   "source": [
    "df['price']"
   ]
  },
  {
   "cell_type": "code",
   "execution_count": null,
   "id": "75637bdf",
   "metadata": {},
   "outputs": [],
   "source": [
    "understand_price = df[['price','retail_price']].copy()\n",
    "understand_price['diff']=df['retail_price'] - df['price']\n",
    "understand_price"
   ]
  },
  {
   "cell_type": "code",
   "execution_count": null,
   "id": "129e1829",
   "metadata": {},
   "outputs": [],
   "source": [
    "(understand_price['diff']<0).value_counts() # it can be negative"
   ]
  },
  {
   "cell_type": "markdown",
   "id": "d5ae718e",
   "metadata": {},
   "source": [
    "### `ratings`\n",
    "- `rating_count` = sum of `rating_[one|two|three|four|five]_count`\n",
    "- `ratings` = wavg of `rating_[one|two|three|four|five]_count`"
   ]
  },
  {
   "cell_type": "code",
   "execution_count": null,
   "id": "cfa9d76c",
   "metadata": {},
   "outputs": [],
   "source": [
    "[x for x in df if x.startswith('rating')]"
   ]
  },
  {
   "cell_type": "code",
   "execution_count": null,
   "id": "538722df",
   "metadata": {
    "scrolled": false
   },
   "outputs": [],
   "source": [
    "df[[x for x in df if x.startswith('rating')]]"
   ]
  },
  {
   "cell_type": "code",
   "execution_count": null,
   "id": "7e8a9044",
   "metadata": {},
   "outputs": [],
   "source": [
    "(\n",
    "    df['rating_count'] - df[[x for x in df if (x.startswith('rating')) and (x.endswith('count'))]].drop('rating_count',axis=1).sum(axis=1)\n",
    ").value_counts()"
   ]
  },
  {
   "cell_type": "code",
   "execution_count": null,
   "id": "afba707b",
   "metadata": {},
   "outputs": [],
   "source": [
    "df[[x for x in df if (x.startswith('rating')) and (x.endswith('count'))]].drop('rating_count',axis=1)"
   ]
  },
  {
   "cell_type": "code",
   "execution_count": null,
   "id": "f94ba64d",
   "metadata": {},
   "outputs": [],
   "source": [
    "pd.DataFrame(\n",
    "    {\n",
    "        'wavg' : (\n",
    "            df['rating_five_count']*5+\n",
    "            df['rating_four_count']*4+\n",
    "            df['rating_three_count']*3+\n",
    "            df['rating_two_count']*2+\n",
    "            df['rating_one_count']*1\n",
    "        ) / df[[x for x in df if (x.startswith('rating')) and (x.endswith('count'))]].drop('rating_count',axis=1).sum(axis=1),\n",
    "        'rating' : df['rating'],\n",
    "    }\n",
    ")"
   ]
  },
  {
   "cell_type": "code",
   "execution_count": null,
   "id": "85bf1937",
   "metadata": {},
   "outputs": [],
   "source": [
    "(\n",
    "    (\n",
    "        df['rating_five_count']*5+\n",
    "        df['rating_four_count']*4+\n",
    "        df['rating_three_count']*3+\n",
    "        df['rating_two_count']*2+\n",
    "        df['rating_one_count']*1\n",
    "    ) / df[[x for x in df if (x.startswith('rating')) and (x.endswith('count'))]].drop('rating_count',axis=1).sum(axis=1) - \\\n",
    "    df['rating']\n",
    ").hist()"
   ]
  },
  {
   "cell_type": "markdown",
   "id": "0f602f82",
   "metadata": {},
   "source": [
    "### badges\n",
    "- `badges_count` = sum `badge_*`\n",
    "- `badge_*` data is very sparse"
   ]
  },
  {
   "cell_type": "code",
   "execution_count": null,
   "id": "6b079869",
   "metadata": {},
   "outputs": [],
   "source": [
    "[x for x in df if x.startswith('badge')]"
   ]
  },
  {
   "cell_type": "code",
   "execution_count": null,
   "id": "1879c8d1",
   "metadata": {},
   "outputs": [],
   "source": [
    "(\n",
    "    df['badges_count'] - df[[x for x in df if x.startswith('badge_')]].sum(axis=1)\n",
    ").value_counts()"
   ]
  },
  {
   "cell_type": "code",
   "execution_count": null,
   "id": "381bb56f",
   "metadata": {},
   "outputs": [],
   "source": [
    "df[[x for x in df if x.startswith('badge_')]].sum()"
   ]
  },
  {
   "cell_type": "markdown",
   "id": "47151915",
   "metadata": {},
   "source": [
    "### product\n",
    "- `product_url` is dead\n",
    "- `product_id` is uid for product, can actually be found in link actuall\n",
    "- `product_picture` still works!"
   ]
  },
  {
   "cell_type": "code",
   "execution_count": null,
   "id": "0927e788",
   "metadata": {
    "scrolled": true
   },
   "outputs": [],
   "source": [
    "(\n",
    "    df['product_url'] == df['product_id'].apply(lambda x:'https://www.wish.com/c/'+x)\n",
    ").value_counts()"
   ]
  },
  {
   "cell_type": "markdown",
   "id": "0249fc98",
   "metadata": {},
   "source": [
    "### scrape meta data"
   ]
  },
  {
   "cell_type": "code",
   "execution_count": null,
   "id": "9ef54d82",
   "metadata": {},
   "outputs": [],
   "source": [
    "df['theme'].value_counts() # not useful"
   ]
  },
  {
   "cell_type": "code",
   "execution_count": null,
   "id": "f7c49f3f",
   "metadata": {},
   "outputs": [],
   "source": [
    "df['crawl_month'].value_counts() # not useful"
   ]
  },
  {
   "cell_type": "markdown",
   "id": "e53d45ba",
   "metadata": {},
   "source": [
    "### tags\n",
    "- dont bother splitting, just find strings directly in tags\n",
    "- prob want to join `title`, `title_orig` and `tags` together to do a text search on"
   ]
  },
  {
   "cell_type": "markdown",
   "id": "de30c541",
   "metadata": {},
   "source": [
    "##### extract all tags across all entries"
   ]
  },
  {
   "cell_type": "code",
   "execution_count": null,
   "id": "34e713a5",
   "metadata": {
    "scrolled": true
   },
   "outputs": [],
   "source": [
    "df[['title','title_orig','tags']][:500]"
   ]
  },
  {
   "cell_type": "code",
   "execution_count": null,
   "id": "696569c8",
   "metadata": {},
   "outputs": [],
   "source": [
    "import re\n",
    "\n",
    "def set_ify_tags(t):\n",
    "    l = re.split(',| ',t) # split on comma and space \n",
    "    l = [x.replace('\\'','') for x in l] # remove apostrophes\n",
    "    l = [x.replace('#','') for x in l] # remove apostrophes\n",
    "    l = [x.lower() for x in l] # make all lower\n",
    "    return set(l)"
   ]
  },
  {
   "cell_type": "code",
   "execution_count": null,
   "id": "63a8bf0b",
   "metadata": {
    "scrolled": true
   },
   "outputs": [],
   "source": [
    "# as a set\n",
    "all_tags_set = set.union(*list(df['tags'].apply(set_ify_tags).values))\n",
    "\n",
    "# as a sorted list\n",
    "all_tags_list = list(all_tags_set)\n",
    "all_tags_list = sorted(all_tags_list)\n",
    "\n",
    "print(f'len = {len(all_tags_list)}')\n",
    "display(all_tags_list)"
   ]
  },
  {
   "cell_type": "markdown",
   "id": "07a028a9",
   "metadata": {},
   "source": [
    "# PRESELECTED COLUMNS\n",
    "- selected / unselected columns based off Google Sheet summary"
   ]
  },
  {
   "cell_type": "code",
   "execution_count": null,
   "id": "a6cd6136",
   "metadata": {},
   "outputs": [],
   "source": [
    "preselected_columns = [\n",
    "    'title',\n",
    "    'title_orig',\n",
    "    'price',\n",
    "    'retail_price',\n",
    "    'units_sold',\n",
    "    'rating',\n",
    "    'rating_count',\n",
    "    'rating_five_count',\n",
    "    'rating_four_count',\n",
    "    'rating_three_count',\n",
    "    'rating_two_count',\n",
    "    'rating_one_count',\n",
    "    'tags',\n",
    "    'product_color',\n",
    "    'merchant_title',\n",
    "    'merchant_name',\n",
    "    'merchant_rating_count',\n",
    "    'merchant_rating',\n",
    "    'product_picture',\n",
    " ]"
   ]
  },
  {
   "cell_type": "markdown",
   "id": "498683c7",
   "metadata": {},
   "source": [
    "### selected columns dataset"
   ]
  },
  {
   "cell_type": "code",
   "execution_count": null,
   "id": "d76f6484",
   "metadata": {},
   "outputs": [],
   "source": [
    "df.loc[:,preselected_columns]"
   ]
  },
  {
   "cell_type": "markdown",
   "id": "b57ded32",
   "metadata": {},
   "source": [
    "### unselected columns dataset"
   ]
  },
  {
   "cell_type": "code",
   "execution_count": null,
   "id": "398b0642",
   "metadata": {},
   "outputs": [],
   "source": [
    "[x for x in df.columns if x not in preselected_columns]"
   ]
  },
  {
   "cell_type": "code",
   "execution_count": null,
   "id": "f62d31f8",
   "metadata": {},
   "outputs": [],
   "source": [
    "df.loc[:,[x for x in df.columns if x not in preselected_columns]]"
   ]
  },
  {
   "cell_type": "markdown",
   "id": "05fb37d0",
   "metadata": {},
   "source": [
    "# DUPLICATE PRODUCTS"
   ]
  },
  {
   "cell_type": "code",
   "execution_count": null,
   "id": "058d866f",
   "metadata": {},
   "outputs": [],
   "source": [
    "df.groupby('product_picture').apply(lambda x:x.index)"
   ]
  },
  {
   "cell_type": "code",
   "execution_count": null,
   "id": "dbb98461",
   "metadata": {},
   "outputs": [],
   "source": [
    "df.drop_duplicates()"
   ]
  },
  {
   "cell_type": "code",
   "execution_count": null,
   "id": "fc77286b",
   "metadata": {},
   "outputs": [],
   "source": [
    "df.loc[[555, 1148]].transpose()"
   ]
  },
  {
   "cell_type": "code",
   "execution_count": null,
   "id": "db80ce02",
   "metadata": {},
   "outputs": [],
   "source": [
    "df.groupby('product_picture').apply(lambda x:x.index)"
   ]
  },
  {
   "cell_type": "code",
   "execution_count": null,
   "id": "ed12ecf1",
   "metadata": {},
   "outputs": [],
   "source": [
    "df['product_picture'].value_counts()[:200]"
   ]
  },
  {
   "cell_type": "code",
   "execution_count": null,
   "id": "01227141",
   "metadata": {
    "scrolled": true
   },
   "outputs": [],
   "source": [
    "df.reset_index().groupby('product_picture')"
   ]
  },
  {
   "cell_type": "markdown",
   "id": "76e269c7",
   "metadata": {},
   "source": [
    "# CHECK `df_num` FROM `Dataset()`"
   ]
  },
  {
   "cell_type": "code",
   "execution_count": null,
   "id": "b4f491dc",
   "metadata": {},
   "outputs": [],
   "source": [
    "%run class_DataSet.ipynb"
   ]
  },
  {
   "cell_type": "code",
   "execution_count": null,
   "id": "877a60df",
   "metadata": {},
   "outputs": [],
   "source": [
    "d=Dataset()"
   ]
  },
  {
   "cell_type": "code",
   "execution_count": null,
   "id": "d134fdc1",
   "metadata": {},
   "outputs": [],
   "source": [
    "d.raw.shape"
   ]
  },
  {
   "cell_type": "code",
   "execution_count": null,
   "id": "73c5a039",
   "metadata": {},
   "outputs": [],
   "source": [
    "d.df.shape"
   ]
  },
  {
   "cell_type": "markdown",
   "id": "76a8d9a9",
   "metadata": {},
   "source": [
    "### check nan imputes"
   ]
  },
  {
   "cell_type": "code",
   "execution_count": null,
   "id": "b9b1916f",
   "metadata": {},
   "outputs": [],
   "source": [
    "x=d.df_numeric(\n",
    "    should_impute_nans       = True,  # rather than trashing entry, populate missing ratings with population mean\n",
    "    should_log_transform     = False,  # make data distribution more normal like\n",
    "    should_standard_scale    = False,  # N(0,1) the data\n",
    "    should_minmax_scale      = False,\n",
    "    should_minmax_scale_abs  = 2,\n",
    "    should_pca               = False,  # reduce dimensionality to speed up analysis\n",
    "    should_pca_components    = 6,    # elbow / eyeballed optimal principal components to use\n",
    ")"
   ]
  },
  {
   "cell_type": "code",
   "execution_count": null,
   "id": "3386a36f",
   "metadata": {},
   "outputs": [],
   "source": [
    "x.isna().sum()"
   ]
  },
  {
   "cell_type": "markdown",
   "id": "02911f6f",
   "metadata": {},
   "source": [
    "### check log transform"
   ]
  },
  {
   "cell_type": "code",
   "execution_count": null,
   "id": "1695a57e",
   "metadata": {},
   "outputs": [],
   "source": [
    "x=d.df_numeric(\n",
    "    should_impute_nans       = True,  # rather than trashing entry, populate missing ratings with population mean\n",
    "    should_log_transform     = True,  # make data distribution more normal like\n",
    "    should_standard_scale    = False,  # N(0,1) the data\n",
    "    should_minmax_scale      = False,\n",
    "    should_minmax_scale_abs  = 2,\n",
    "    should_pca               = False,  # reduce dimensionality to speed up analysis\n",
    "    should_pca_components    = 6,    # elbow / eyeballed optimal principal components to use\n",
    ")"
   ]
  },
  {
   "cell_type": "code",
   "execution_count": null,
   "id": "b3ecc92e",
   "metadata": {},
   "outputs": [],
   "source": [
    "x.isna().sum()"
   ]
  },
  {
   "cell_type": "code",
   "execution_count": null,
   "id": "1c4e3a5a",
   "metadata": {
    "scrolled": false
   },
   "outputs": [],
   "source": [
    "for col in x.columns:\n",
    "    ax=x[col].hist()\n",
    "    ax.set_title(f'hist {col}')\n",
    "    plt.show()"
   ]
  },
  {
   "cell_type": "markdown",
   "id": "e723dfc9",
   "metadata": {},
   "source": [
    "### check standard scale"
   ]
  },
  {
   "cell_type": "code",
   "execution_count": null,
   "id": "ab903c8d",
   "metadata": {},
   "outputs": [],
   "source": [
    "x=d.df_numeric(\n",
    "    should_impute_nans       = True,  # rather than trashing entry, populate missing ratings with population mean\n",
    "    should_log_transform     = True,  # make data distribution more normal like\n",
    "    should_standard_scale    = True,  # N(0,1) the data\n",
    "    should_minmax_scale      = False,\n",
    "    should_minmax_scale_abs  = 2,\n",
    "    should_pca               = False,  # reduce dimensionality to speed up analysis\n",
    "    should_pca_components    = 6,    # elbow / eyeballed optimal principal components to use\n",
    ")"
   ]
  },
  {
   "cell_type": "code",
   "execution_count": null,
   "id": "faaa0415",
   "metadata": {},
   "outputs": [],
   "source": [
    "x.isna().sum()"
   ]
  },
  {
   "cell_type": "code",
   "execution_count": null,
   "id": "02f8a8c0",
   "metadata": {
    "scrolled": false
   },
   "outputs": [],
   "source": [
    "for col in x.columns:\n",
    "    ax=x[col].hist()\n",
    "    ax.set_title(f'hist {col}')\n",
    "    plt.show()"
   ]
  },
  {
   "cell_type": "code",
   "execution_count": null,
   "id": "af144cfd",
   "metadata": {},
   "outputs": [],
   "source": [
    "x=d.df_numeric(\n",
    "    should_impute_nans       = True,  # rather than trashing entry, populate missing ratings with population mean\n",
    "    should_log_transform     = True,  # make data distribution more normal like\n",
    "    should_standard_scale    = True,  # N(0,1) the data\n",
    "    should_minmax_scale      = False,\n",
    "    should_minmax_scale_abs  = 2,\n",
    "    should_pca               = False,  # reduce dimensionality to speed up analysis\n",
    "    should_pca_components    = 6,    # elbow / eyeballed optimal principal components to use\n",
    ")\n",
    "x.describe()"
   ]
  },
  {
   "cell_type": "markdown",
   "id": "5be8813d",
   "metadata": {},
   "source": [
    "### check pca"
   ]
  },
  {
   "cell_type": "code",
   "execution_count": null,
   "id": "b5f465b9",
   "metadata": {},
   "outputs": [],
   "source": [
    "x=d.df_numeric(\n",
    "    should_impute_nans       = True,  # rather than trashing entry, populate missing ratings with population mean\n",
    "    should_log_transform     = True,  # make data distribution more normal like\n",
    "    should_standard_scale    = True,  # N(0,1) the data\n",
    "    should_minmax_scale      = False,\n",
    "    should_minmax_scale_abs  = 2,\n",
    "    should_pca               = True,  # reduce dimensionality to speed up analysis\n",
    "    should_pca_components    = 6,    # elbow / eyeballed optimal principal components to use\n",
    ")\n",
    "x.describe()"
   ]
  }
 ],
 "metadata": {
  "kernelspec": {
   "display_name": "Python 3",
   "language": "python",
   "name": "python3"
  },
  "language_info": {
   "codemirror_mode": {
    "name": "ipython",
    "version": 3
   },
   "file_extension": ".py",
   "mimetype": "text/x-python",
   "name": "python",
   "nbconvert_exporter": "python",
   "pygments_lexer": "ipython3",
   "version": "3.8.10"
  }
 },
 "nbformat": 4,
 "nbformat_minor": 5
}
