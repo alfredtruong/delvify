{
 "cells": [
  {
   "cell_type": "markdown",
   "id": "b68c198c",
   "metadata": {},
   "source": [
    "# [TLDR] exploratory work with NearestNeighbors\n",
    "# [LONGER VERSION]\n",
    "- there are many nearest neighbour implementations / function in `sklearn.neighbors`\n",
    "- after playing about it seems `kNeighbors` with `n_neighbors` rather than `radius` is the right tool for the job"
   ]
  },
  {
   "cell_type": "markdown",
   "id": "babe3432",
   "metadata": {},
   "source": [
    "# [RESULT] ACCEPT"
   ]
  },
  {
   "cell_type": "code",
   "execution_count": null,
   "id": "d5ae540f",
   "metadata": {},
   "outputs": [],
   "source": [
    "'''\n",
    "use bottom-up approach\n",
    "\n",
    "- not so appropriate actually, not really looking for clusters, more for nearest neighbours\n",
    "'''\n",
    "None"
   ]
  },
  {
   "cell_type": "markdown",
   "id": "aba59712",
   "metadata": {},
   "source": [
    "# IMPORTS"
   ]
  },
  {
   "cell_type": "code",
   "execution_count": null,
   "id": "d93d8ee2",
   "metadata": {},
   "outputs": [],
   "source": [
    "%run ipynb_setup.ipynb"
   ]
  },
  {
   "cell_type": "code",
   "execution_count": null,
   "id": "1966c595",
   "metadata": {},
   "outputs": [],
   "source": [
    "%run class_Dataset.ipynb"
   ]
  },
  {
   "cell_type": "markdown",
   "id": "0a9a0163",
   "metadata": {},
   "source": [
    "# GET DATA"
   ]
  },
  {
   "cell_type": "code",
   "execution_count": null,
   "id": "c707a443",
   "metadata": {},
   "outputs": [],
   "source": [
    "from sklearn.neighbors import NearestNeighbors"
   ]
  },
  {
   "cell_type": "code",
   "execution_count": null,
   "id": "35548f9e",
   "metadata": {},
   "outputs": [],
   "source": [
    "'''\n",
    " 0   title                  1341 non-null   object          TEXT SEARCH\n",
    " 1   title_orig             1341 non-null   object          TEXT SEARCH\n",
    " 2   price                  1341 non-null   float64         NEAREST NEIGHBOUR\n",
    " 3   retail_price           1341 non-null   int64           NEAREST NEIGHBOUR\n",
    " 4   units_sold             1341 non-null   int64  \n",
    " 5   rating                 1341 non-null   float64\n",
    " 6   rating_count           1341 non-null   int64  \n",
    " 7   rating_five_count      1306 non-null   float64\n",
    " 8   rating_four_count      1306 non-null   float64\n",
    " 9   rating_three_count     1306 non-null   float64\n",
    " 10  rating_two_count       1306 non-null   float64\n",
    " 11  rating_one_count       1306 non-null   float64\n",
    " 12  tags                   1341 non-null   object         TEXT SEARCH\n",
    " 13  product_color          1301 non-null   object         TEXT SEARCH\n",
    " 14  merchant_rating_count  1341 non-null   int64  \n",
    " 15  merchant_rating        1341 non-null   float64\n",
    " 16  product_picture        1341 non-null   object         IMG SEARCH\n",
    "'''\n",
    "None"
   ]
  },
  {
   "cell_type": "code",
   "execution_count": null,
   "id": "f2ab84c7",
   "metadata": {},
   "outputs": [],
   "source": [
    "d=Dataset()\n",
    "d.df_num"
   ]
  },
  {
   "cell_type": "code",
   "execution_count": null,
   "id": "74e56f99",
   "metadata": {},
   "outputs": [],
   "source": [
    "d.df_num"
   ]
  },
  {
   "cell_type": "code",
   "execution_count": null,
   "id": "985d106e",
   "metadata": {},
   "outputs": [],
   "source": [
    "nneighbor = NearestNeighbors(n_neighbors=5)\n",
    "nneighbor.fit(d.df_num)\n",
    "\n",
    "distances,indices=nneighbor.kneighbors(d.df_num.loc[[0,1]],n_neighbors=5)\n",
    "display(distances)\n",
    "display(indices)"
   ]
  },
  {
   "cell_type": "code",
   "execution_count": null,
   "id": "4e292385",
   "metadata": {},
   "outputs": [],
   "source": [
    "d.df_num.loc[0]"
   ]
  },
  {
   "cell_type": "code",
   "execution_count": null,
   "id": "cb0266b8",
   "metadata": {},
   "outputs": [],
   "source": [
    "distances"
   ]
  },
  {
   "cell_type": "code",
   "execution_count": null,
   "id": "cb6720cb",
   "metadata": {},
   "outputs": [],
   "source": [
    "indices.shape"
   ]
  },
  {
   "cell_type": "code",
   "execution_count": null,
   "id": "3bf231d8",
   "metadata": {},
   "outputs": [],
   "source": [
    "d.df_num.shape"
   ]
  },
  {
   "cell_type": "code",
   "execution_count": null,
   "id": "65731d73",
   "metadata": {},
   "outputs": [],
   "source": []
  },
  {
   "cell_type": "code",
   "execution_count": null,
   "id": "1b68bed1",
   "metadata": {},
   "outputs": [],
   "source": [
    "d.df.loc[809]"
   ]
  },
  {
   "cell_type": "code",
   "execution_count": null,
   "id": "92245726",
   "metadata": {},
   "outputs": [],
   "source": [
    "d.df_num.loc[809]"
   ]
  },
  {
   "cell_type": "markdown",
   "id": "444666a3",
   "metadata": {},
   "source": [
    "# REPEAT WITH PIPELINE"
   ]
  },
  {
   "cell_type": "code",
   "execution_count": null,
   "id": "85701389",
   "metadata": {},
   "outputs": [],
   "source": [
    "from sklearn.decomposition import PCA\n",
    "from sklearn.preprocessing import StandardScaler\n",
    "from sklearn.preprocessing import MinMaxScaler\n",
    "from sklearn.pipeline import make_pipeline\n",
    "from sklearn.cluster import AgglomerativeClustering"
   ]
  },
  {
   "cell_type": "markdown",
   "id": "a1831b09",
   "metadata": {},
   "source": [
    "### [figure out best `k` to use] Impute + StandardScaler (+ MinMaxScaler)"
   ]
  },
  {
   "cell_type": "code",
   "execution_count": null,
   "id": "efc707b7",
   "metadata": {},
   "outputs": [],
   "source": [
    "ac=AgglomerativeClustering(memory='mycachedir',compute_full_tree=True)"
   ]
  },
  {
   "cell_type": "code",
   "execution_count": null,
   "id": "e87cff76",
   "metadata": {},
   "outputs": [],
   "source": [
    "ac.fit(d.df_num)"
   ]
  },
  {
   "cell_type": "code",
   "execution_count": null,
   "id": "726049a2",
   "metadata": {},
   "outputs": [],
   "source": [
    "pd.Series(ac.labels_).unique()"
   ]
  },
  {
   "cell_type": "code",
   "execution_count": null,
   "id": "2b8e83fd",
   "metadata": {},
   "outputs": [],
   "source": [
    "model = AgglomerativeClustering(n_clusters=5, affinity='euclidean', linkage='ward')\n",
    "model.fit(d.df_num)\n",
    "labels = model.labels_"
   ]
  },
  {
   "cell_type": "code",
   "execution_count": null,
   "id": "608fa8c8",
   "metadata": {},
   "outputs": [],
   "source": [
    "pd.Series(labels).value_counts()"
   ]
  }
 ],
 "metadata": {
  "kernelspec": {
   "display_name": "Python 3",
   "language": "python",
   "name": "python3"
  },
  "language_info": {
   "codemirror_mode": {
    "name": "ipython",
    "version": 3
   },
   "file_extension": ".py",
   "mimetype": "text/x-python",
   "name": "python",
   "nbconvert_exporter": "python",
   "pygments_lexer": "ipython3",
   "version": "3.8.10"
  }
 },
 "nbformat": 4,
 "nbformat_minor": 5
}
