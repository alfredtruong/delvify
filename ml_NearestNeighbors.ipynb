{
 "cells": [
  {
   "cell_type": "markdown",
   "id": "b68c198c",
   "metadata": {},
   "source": [
    "# PURPOSE"
   ]
  },
  {
   "cell_type": "code",
   "execution_count": 27,
   "id": "d5ae540f",
   "metadata": {},
   "outputs": [],
   "source": [
    "'''\n",
    "use bottom-up approach\n",
    "\n",
    "- not so appropriate actually, not really looking for clusters, more for nearest neighbours\n",
    "'''\n",
    "None"
   ]
  },
  {
   "cell_type": "markdown",
   "id": "aba59712",
   "metadata": {},
   "source": [
    "# IMPORTS"
   ]
  },
  {
   "cell_type": "code",
   "execution_count": 4,
   "id": "d93d8ee2",
   "metadata": {},
   "outputs": [
    {
     "name": "stdout",
     "output_type": "stream",
     "text": [
      "The autoreload extension is already loaded. To reload it, use:\n",
      "  %reload_ext autoreload\n"
     ]
    },
    {
     "data": {
      "text/html": [
       "<style>.container { width:100% !important; }</style>"
      ],
      "text/plain": [
       "<IPython.core.display.HTML object>"
      ]
     },
     "metadata": {},
     "output_type": "display_data"
    }
   ],
   "source": [
    "%run ipynb_setup.ipynb"
   ]
  },
  {
   "cell_type": "code",
   "execution_count": 5,
   "id": "1966c595",
   "metadata": {},
   "outputs": [
    {
     "name": "stdout",
     "output_type": "stream",
     "text": [
      "The autoreload extension is already loaded. To reload it, use:\n",
      "  %reload_ext autoreload\n"
     ]
    },
    {
     "data": {
      "text/html": [
       "<style>.container { width:100% !important; }</style>"
      ],
      "text/plain": [
       "<IPython.core.display.HTML object>"
      ]
     },
     "metadata": {},
     "output_type": "display_data"
    }
   ],
   "source": [
    "%run class_Dataset.ipynb"
   ]
  },
  {
   "cell_type": "markdown",
   "id": "0a9a0163",
   "metadata": {},
   "source": [
    "# GET DATA"
   ]
  },
  {
   "cell_type": "code",
   "execution_count": 6,
   "id": "c707a443",
   "metadata": {},
   "outputs": [],
   "source": [
    "from sklearn.neighbors import NearestNeighbors"
   ]
  },
  {
   "cell_type": "code",
   "execution_count": null,
   "id": "35548f9e",
   "metadata": {},
   "outputs": [],
   "source": [
    "'''\n",
    " 0   title                  1341 non-null   object          TEXT SEARCH\n",
    " 1   title_orig             1341 non-null   object          TEXT SEARCH\n",
    " 2   price                  1341 non-null   float64         NEAREST NEIGHBOUR\n",
    " 3   retail_price           1341 non-null   int64           NEAREST NEIGHBOUR\n",
    " 4   units_sold             1341 non-null   int64  \n",
    " 5   rating                 1341 non-null   float64\n",
    " 6   rating_count           1341 non-null   int64  \n",
    " 7   rating_five_count      1306 non-null   float64\n",
    " 8   rating_four_count      1306 non-null   float64\n",
    " 9   rating_three_count     1306 non-null   float64\n",
    " 10  rating_two_count       1306 non-null   float64\n",
    " 11  rating_one_count       1306 non-null   float64\n",
    " 12  tags                   1341 non-null   object         TEXT SEARCH\n",
    " 13  product_color          1301 non-null   object         TEXT SEARCH\n",
    " 14  merchant_rating_count  1341 non-null   int64  \n",
    " 15  merchant_rating        1341 non-null   float64\n",
    " 16  product_picture        1341 non-null   object         IMG SEARCH\n",
    "'''\n",
    "None"
   ]
  },
  {
   "cell_type": "code",
   "execution_count": 46,
   "id": "1123d432",
   "metadata": {},
   "outputs": [
    {
     "data": {
      "text/html": [
       "<div>\n",
       "<style scoped>\n",
       "    .dataframe tbody tr th:only-of-type {\n",
       "        vertical-align: middle;\n",
       "    }\n",
       "\n",
       "    .dataframe tbody tr th {\n",
       "        vertical-align: top;\n",
       "    }\n",
       "\n",
       "    .dataframe thead th {\n",
       "        text-align: right;\n",
       "    }\n",
       "</style>\n",
       "<table border=\"1\" class=\"dataframe\">\n",
       "  <thead>\n",
       "    <tr style=\"text-align: right;\">\n",
       "      <th></th>\n",
       "      <th>0</th>\n",
       "    </tr>\n",
       "  </thead>\n",
       "  <tbody>\n",
       "    <tr>\n",
       "      <th>title</th>\n",
       "      <td>2020 Summer Vintage Flamingo Print  Pajamas Set Casual Loose T Shirt Top And Elastic Shorts Women Sleepwear Night Wear Loungewear Sets</td>\n",
       "    </tr>\n",
       "    <tr>\n",
       "      <th>title_orig</th>\n",
       "      <td>2020 Summer Vintage Flamingo Print  Pajamas Set Casual Loose T Shirt Top And Elastic Shorts Women Sleepwear Night Wear Loungewear Sets</td>\n",
       "    </tr>\n",
       "    <tr>\n",
       "      <th>price</th>\n",
       "      <td>16.0</td>\n",
       "    </tr>\n",
       "    <tr>\n",
       "      <th>retail_price</th>\n",
       "      <td>14</td>\n",
       "    </tr>\n",
       "    <tr>\n",
       "      <th>currency_buyer</th>\n",
       "      <td>EUR</td>\n",
       "    </tr>\n",
       "    <tr>\n",
       "      <th>units_sold</th>\n",
       "      <td>100</td>\n",
       "    </tr>\n",
       "    <tr>\n",
       "      <th>uses_ad_boosts</th>\n",
       "      <td>0</td>\n",
       "    </tr>\n",
       "    <tr>\n",
       "      <th>rating</th>\n",
       "      <td>3.76</td>\n",
       "    </tr>\n",
       "    <tr>\n",
       "      <th>rating_count</th>\n",
       "      <td>54</td>\n",
       "    </tr>\n",
       "    <tr>\n",
       "      <th>rating_five_count</th>\n",
       "      <td>26.0</td>\n",
       "    </tr>\n",
       "    <tr>\n",
       "      <th>rating_four_count</th>\n",
       "      <td>8.0</td>\n",
       "    </tr>\n",
       "    <tr>\n",
       "      <th>rating_three_count</th>\n",
       "      <td>10.0</td>\n",
       "    </tr>\n",
       "    <tr>\n",
       "      <th>rating_two_count</th>\n",
       "      <td>1.0</td>\n",
       "    </tr>\n",
       "    <tr>\n",
       "      <th>rating_one_count</th>\n",
       "      <td>9.0</td>\n",
       "    </tr>\n",
       "    <tr>\n",
       "      <th>badges_count</th>\n",
       "      <td>0</td>\n",
       "    </tr>\n",
       "    <tr>\n",
       "      <th>badge_local_product</th>\n",
       "      <td>0</td>\n",
       "    </tr>\n",
       "    <tr>\n",
       "      <th>badge_product_quality</th>\n",
       "      <td>0</td>\n",
       "    </tr>\n",
       "    <tr>\n",
       "      <th>badge_fast_shipping</th>\n",
       "      <td>0</td>\n",
       "    </tr>\n",
       "    <tr>\n",
       "      <th>tags</th>\n",
       "      <td>Summer,Fashion,womenunderwearsuit,printedpajamasset,womencasualshort,Women's Fashion,flamingo,loungewearset,Casual,Shirt,casualsleepwear,Shorts,flamingotshirt,Elastic,Vintage,Tops,tshirtandshortsset,Women,Sleepwear,Print,womenpajamasset,womennightwear,Pajamas,womensleepwearset</td>\n",
       "    </tr>\n",
       "    <tr>\n",
       "      <th>product_color</th>\n",
       "      <td>white</td>\n",
       "    </tr>\n",
       "    <tr>\n",
       "      <th>product_variation_size_id</th>\n",
       "      <td>M</td>\n",
       "    </tr>\n",
       "    <tr>\n",
       "      <th>product_variation_inventory</th>\n",
       "      <td>50</td>\n",
       "    </tr>\n",
       "    <tr>\n",
       "      <th>shipping_option_name</th>\n",
       "      <td>Livraison standard</td>\n",
       "    </tr>\n",
       "    <tr>\n",
       "      <th>shipping_option_price</th>\n",
       "      <td>4</td>\n",
       "    </tr>\n",
       "    <tr>\n",
       "      <th>shipping_is_express</th>\n",
       "      <td>0</td>\n",
       "    </tr>\n",
       "    <tr>\n",
       "      <th>countries_shipped_to</th>\n",
       "      <td>34</td>\n",
       "    </tr>\n",
       "    <tr>\n",
       "      <th>inventory_total</th>\n",
       "      <td>50</td>\n",
       "    </tr>\n",
       "    <tr>\n",
       "      <th>has_urgency_banner</th>\n",
       "      <td>1.0</td>\n",
       "    </tr>\n",
       "    <tr>\n",
       "      <th>urgency_text</th>\n",
       "      <td>Quantité limitée !</td>\n",
       "    </tr>\n",
       "    <tr>\n",
       "      <th>origin_country</th>\n",
       "      <td>CN</td>\n",
       "    </tr>\n",
       "    <tr>\n",
       "      <th>merchant_title</th>\n",
       "      <td>zgrdejia</td>\n",
       "    </tr>\n",
       "    <tr>\n",
       "      <th>merchant_name</th>\n",
       "      <td>zgrdejia</td>\n",
       "    </tr>\n",
       "    <tr>\n",
       "      <th>merchant_info_subtitle</th>\n",
       "      <td>(568 notes)</td>\n",
       "    </tr>\n",
       "    <tr>\n",
       "      <th>merchant_rating_count</th>\n",
       "      <td>568</td>\n",
       "    </tr>\n",
       "    <tr>\n",
       "      <th>merchant_rating</th>\n",
       "      <td>4.128521</td>\n",
       "    </tr>\n",
       "    <tr>\n",
       "      <th>merchant_id</th>\n",
       "      <td>595097d6a26f6e070cb878d1</td>\n",
       "    </tr>\n",
       "    <tr>\n",
       "      <th>merchant_has_profile_picture</th>\n",
       "      <td>0</td>\n",
       "    </tr>\n",
       "    <tr>\n",
       "      <th>merchant_profile_picture</th>\n",
       "      <td>NaN</td>\n",
       "    </tr>\n",
       "    <tr>\n",
       "      <th>product_url</th>\n",
       "      <td>https://www.wish.com/c/5e9ae51d43d6a96e303acdb0</td>\n",
       "    </tr>\n",
       "    <tr>\n",
       "      <th>product_picture</th>\n",
       "      <td>https://contestimg.wish.com/api/webimage/5e9ae51d43d6a96e303acdb0-medium.jpg</td>\n",
       "    </tr>\n",
       "    <tr>\n",
       "      <th>product_id</th>\n",
       "      <td>5e9ae51d43d6a96e303acdb0</td>\n",
       "    </tr>\n",
       "    <tr>\n",
       "      <th>theme</th>\n",
       "      <td>summer</td>\n",
       "    </tr>\n",
       "    <tr>\n",
       "      <th>crawl_month</th>\n",
       "      <td>2020-08</td>\n",
       "    </tr>\n",
       "  </tbody>\n",
       "</table>\n",
       "</div>"
      ],
      "text/plain": [
       "                                                                                                                                                                                                                                                                                                                  0\n",
       "title                                                                                                                                                                        2020 Summer Vintage Flamingo Print  Pajamas Set Casual Loose T Shirt Top And Elastic Shorts Women Sleepwear Night Wear Loungewear Sets\n",
       "title_orig                                                                                                                                                                   2020 Summer Vintage Flamingo Print  Pajamas Set Casual Loose T Shirt Top And Elastic Shorts Women Sleepwear Night Wear Loungewear Sets\n",
       "price                                                                                                                                                                                                                                                                                                          16.0\n",
       "retail_price                                                                                                                                                                                                                                                                                                     14\n",
       "currency_buyer                                                                                                                                                                                                                                                                                                  EUR\n",
       "units_sold                                                                                                                                                                                                                                                                                                      100\n",
       "uses_ad_boosts                                                                                                                                                                                                                                                                                                    0\n",
       "rating                                                                                                                                                                                                                                                                                                         3.76\n",
       "rating_count                                                                                                                                                                                                                                                                                                     54\n",
       "rating_five_count                                                                                                                                                                                                                                                                                              26.0\n",
       "rating_four_count                                                                                                                                                                                                                                                                                               8.0\n",
       "rating_three_count                                                                                                                                                                                                                                                                                             10.0\n",
       "rating_two_count                                                                                                                                                                                                                                                                                                1.0\n",
       "rating_one_count                                                                                                                                                                                                                                                                                                9.0\n",
       "badges_count                                                                                                                                                                                                                                                                                                      0\n",
       "badge_local_product                                                                                                                                                                                                                                                                                               0\n",
       "badge_product_quality                                                                                                                                                                                                                                                                                             0\n",
       "badge_fast_shipping                                                                                                                                                                                                                                                                                               0\n",
       "tags                          Summer,Fashion,womenunderwearsuit,printedpajamasset,womencasualshort,Women's Fashion,flamingo,loungewearset,Casual,Shirt,casualsleepwear,Shorts,flamingotshirt,Elastic,Vintage,Tops,tshirtandshortsset,Women,Sleepwear,Print,womenpajamasset,womennightwear,Pajamas,womensleepwearset\n",
       "product_color                                                                                                                                                                                                                                                                                                 white\n",
       "product_variation_size_id                                                                                                                                                                                                                                                                                         M\n",
       "product_variation_inventory                                                                                                                                                                                                                                                                                      50\n",
       "shipping_option_name                                                                                                                                                                                                                                                                             Livraison standard\n",
       "shipping_option_price                                                                                                                                                                                                                                                                                             4\n",
       "shipping_is_express                                                                                                                                                                                                                                                                                               0\n",
       "countries_shipped_to                                                                                                                                                                                                                                                                                             34\n",
       "inventory_total                                                                                                                                                                                                                                                                                                  50\n",
       "has_urgency_banner                                                                                                                                                                                                                                                                                              1.0\n",
       "urgency_text                                                                                                                                                                                                                                                                                     Quantité limitée !\n",
       "origin_country                                                                                                                                                                                                                                                                                                   CN\n",
       "merchant_title                                                                                                                                                                                                                                                                                             zgrdejia\n",
       "merchant_name                                                                                                                                                                                                                                                                                              zgrdejia\n",
       "merchant_info_subtitle                                                                                                                                                                                                                                                                                  (568 notes)\n",
       "merchant_rating_count                                                                                                                                                                                                                                                                                           568\n",
       "merchant_rating                                                                                                                                                                                                                                                                                            4.128521\n",
       "merchant_id                                                                                                                                                                                                                                                                                595097d6a26f6e070cb878d1\n",
       "merchant_has_profile_picture                                                                                                                                                                                                                                                                                      0\n",
       "merchant_profile_picture                                                                                                                                                                                                                                                                                        NaN\n",
       "product_url                                                                                                                                                                                                                                                         https://www.wish.com/c/5e9ae51d43d6a96e303acdb0\n",
       "product_picture                                                                                                                                                                                                                        https://contestimg.wish.com/api/webimage/5e9ae51d43d6a96e303acdb0-medium.jpg\n",
       "product_id                                                                                                                                                                                                                                                                                 5e9ae51d43d6a96e303acdb0\n",
       "theme                                                                                                                                                                                                                                                                                                        summer\n",
       "crawl_month                                                                                                                                                                                                                                                                                                 2020-08"
      ]
     },
     "execution_count": 46,
     "metadata": {},
     "output_type": "execute_result"
    }
   ],
   "source": [
    "    d.raw.head(1).transpose()"
   ]
  },
  {
   "cell_type": "code",
   "execution_count": 43,
   "id": "1205b80e",
   "metadata": {},
   "outputs": [
    {
     "data": {
      "text/html": [
       "<div>\n",
       "<style scoped>\n",
       "    .dataframe tbody tr th:only-of-type {\n",
       "        vertical-align: middle;\n",
       "    }\n",
       "\n",
       "    .dataframe tbody tr th {\n",
       "        vertical-align: top;\n",
       "    }\n",
       "\n",
       "    .dataframe thead th {\n",
       "        text-align: right;\n",
       "    }\n",
       "</style>\n",
       "<table border=\"1\" class=\"dataframe\">\n",
       "  <thead>\n",
       "    <tr style=\"text-align: right;\">\n",
       "      <th></th>\n",
       "      <th>price</th>\n",
       "      <th>retail_price</th>\n",
       "      <th>units_sold</th>\n",
       "      <th>rating</th>\n",
       "      <th>rating_count</th>\n",
       "      <th>rating_five_count</th>\n",
       "      <th>rating_four_count</th>\n",
       "      <th>rating_three_count</th>\n",
       "      <th>rating_two_count</th>\n",
       "      <th>rating_one_count</th>\n",
       "      <th>merchant_rating_count</th>\n",
       "      <th>merchant_rating</th>\n",
       "    </tr>\n",
       "  </thead>\n",
       "  <tbody>\n",
       "    <tr>\n",
       "      <th>0</th>\n",
       "      <td>16.00</td>\n",
       "      <td>14</td>\n",
       "      <td>100</td>\n",
       "      <td>3.76</td>\n",
       "      <td>54</td>\n",
       "      <td>26.0</td>\n",
       "      <td>8.0</td>\n",
       "      <td>10.0</td>\n",
       "      <td>1.0</td>\n",
       "      <td>9.0</td>\n",
       "      <td>568</td>\n",
       "      <td>4.128521</td>\n",
       "    </tr>\n",
       "    <tr>\n",
       "      <th>1</th>\n",
       "      <td>8.00</td>\n",
       "      <td>22</td>\n",
       "      <td>20000</td>\n",
       "      <td>3.45</td>\n",
       "      <td>6135</td>\n",
       "      <td>2269.0</td>\n",
       "      <td>1027.0</td>\n",
       "      <td>1118.0</td>\n",
       "      <td>644.0</td>\n",
       "      <td>1077.0</td>\n",
       "      <td>17752</td>\n",
       "      <td>3.899673</td>\n",
       "    </tr>\n",
       "    <tr>\n",
       "      <th>2</th>\n",
       "      <td>8.00</td>\n",
       "      <td>43</td>\n",
       "      <td>100</td>\n",
       "      <td>3.57</td>\n",
       "      <td>14</td>\n",
       "      <td>5.0</td>\n",
       "      <td>4.0</td>\n",
       "      <td>2.0</td>\n",
       "      <td>0.0</td>\n",
       "      <td>3.0</td>\n",
       "      <td>295</td>\n",
       "      <td>3.989831</td>\n",
       "    </tr>\n",
       "    <tr>\n",
       "      <th>3</th>\n",
       "      <td>8.00</td>\n",
       "      <td>8</td>\n",
       "      <td>5000</td>\n",
       "      <td>4.03</td>\n",
       "      <td>579</td>\n",
       "      <td>295.0</td>\n",
       "      <td>119.0</td>\n",
       "      <td>87.0</td>\n",
       "      <td>42.0</td>\n",
       "      <td>36.0</td>\n",
       "      <td>23832</td>\n",
       "      <td>4.020435</td>\n",
       "    </tr>\n",
       "    <tr>\n",
       "      <th>4</th>\n",
       "      <td>2.72</td>\n",
       "      <td>3</td>\n",
       "      <td>100</td>\n",
       "      <td>3.10</td>\n",
       "      <td>20</td>\n",
       "      <td>6.0</td>\n",
       "      <td>4.0</td>\n",
       "      <td>2.0</td>\n",
       "      <td>2.0</td>\n",
       "      <td>6.0</td>\n",
       "      <td>14482</td>\n",
       "      <td>4.001588</td>\n",
       "    </tr>\n",
       "    <tr>\n",
       "      <th>...</th>\n",
       "      <td>...</td>\n",
       "      <td>...</td>\n",
       "      <td>...</td>\n",
       "      <td>...</td>\n",
       "      <td>...</td>\n",
       "      <td>...</td>\n",
       "      <td>...</td>\n",
       "      <td>...</td>\n",
       "      <td>...</td>\n",
       "      <td>...</td>\n",
       "      <td>...</td>\n",
       "      <td>...</td>\n",
       "    </tr>\n",
       "    <tr>\n",
       "      <th>1565</th>\n",
       "      <td>3.00</td>\n",
       "      <td>8</td>\n",
       "      <td>100</td>\n",
       "      <td>3.79</td>\n",
       "      <td>57</td>\n",
       "      <td>25.0</td>\n",
       "      <td>10.0</td>\n",
       "      <td>13.0</td>\n",
       "      <td>3.0</td>\n",
       "      <td>6.0</td>\n",
       "      <td>4080</td>\n",
       "      <td>3.987990</td>\n",
       "    </tr>\n",
       "    <tr>\n",
       "      <th>1567</th>\n",
       "      <td>8.00</td>\n",
       "      <td>7</td>\n",
       "      <td>20000</td>\n",
       "      <td>4.25</td>\n",
       "      <td>3127</td>\n",
       "      <td>1919.0</td>\n",
       "      <td>580.0</td>\n",
       "      <td>304.0</td>\n",
       "      <td>128.0</td>\n",
       "      <td>196.0</td>\n",
       "      <td>16803</td>\n",
       "      <td>4.155032</td>\n",
       "    </tr>\n",
       "    <tr>\n",
       "      <th>1568</th>\n",
       "      <td>6.00</td>\n",
       "      <td>9</td>\n",
       "      <td>10000</td>\n",
       "      <td>4.08</td>\n",
       "      <td>1367</td>\n",
       "      <td>722.0</td>\n",
       "      <td>293.0</td>\n",
       "      <td>185.0</td>\n",
       "      <td>77.0</td>\n",
       "      <td>90.0</td>\n",
       "      <td>5316</td>\n",
       "      <td>4.224605</td>\n",
       "    </tr>\n",
       "    <tr>\n",
       "      <th>1570</th>\n",
       "      <td>5.00</td>\n",
       "      <td>19</td>\n",
       "      <td>100</td>\n",
       "      <td>3.71</td>\n",
       "      <td>59</td>\n",
       "      <td>24.0</td>\n",
       "      <td>15.0</td>\n",
       "      <td>8.0</td>\n",
       "      <td>3.0</td>\n",
       "      <td>9.0</td>\n",
       "      <td>210</td>\n",
       "      <td>3.961905</td>\n",
       "    </tr>\n",
       "    <tr>\n",
       "      <th>1572</th>\n",
       "      <td>7.00</td>\n",
       "      <td>6</td>\n",
       "      <td>100</td>\n",
       "      <td>4.07</td>\n",
       "      <td>14</td>\n",
       "      <td>8.0</td>\n",
       "      <td>3.0</td>\n",
       "      <td>1.0</td>\n",
       "      <td>0.0</td>\n",
       "      <td>2.0</td>\n",
       "      <td>7023</td>\n",
       "      <td>4.235939</td>\n",
       "    </tr>\n",
       "  </tbody>\n",
       "</table>\n",
       "<p>1341 rows × 12 columns</p>\n",
       "</div>"
      ],
      "text/plain": [
       "      price  retail_price  units_sold  rating  rating_count  \\\n",
       "0     16.00            14         100    3.76            54   \n",
       "1      8.00            22       20000    3.45          6135   \n",
       "2      8.00            43         100    3.57            14   \n",
       "3      8.00             8        5000    4.03           579   \n",
       "4      2.72             3         100    3.10            20   \n",
       "...     ...           ...         ...     ...           ...   \n",
       "1565   3.00             8         100    3.79            57   \n",
       "1567   8.00             7       20000    4.25          3127   \n",
       "1568   6.00             9       10000    4.08          1367   \n",
       "1570   5.00            19         100    3.71            59   \n",
       "1572   7.00             6         100    4.07            14   \n",
       "\n",
       "      rating_five_count  rating_four_count  rating_three_count  \\\n",
       "0                  26.0                8.0                10.0   \n",
       "1                2269.0             1027.0              1118.0   \n",
       "2                   5.0                4.0                 2.0   \n",
       "3                 295.0              119.0                87.0   \n",
       "4                   6.0                4.0                 2.0   \n",
       "...                 ...                ...                 ...   \n",
       "1565               25.0               10.0                13.0   \n",
       "1567             1919.0              580.0               304.0   \n",
       "1568              722.0              293.0               185.0   \n",
       "1570               24.0               15.0                 8.0   \n",
       "1572                8.0                3.0                 1.0   \n",
       "\n",
       "      rating_two_count  rating_one_count  merchant_rating_count  \\\n",
       "0                  1.0               9.0                    568   \n",
       "1                644.0            1077.0                  17752   \n",
       "2                  0.0               3.0                    295   \n",
       "3                 42.0              36.0                  23832   \n",
       "4                  2.0               6.0                  14482   \n",
       "...                ...               ...                    ...   \n",
       "1565               3.0               6.0                   4080   \n",
       "1567             128.0             196.0                  16803   \n",
       "1568              77.0              90.0                   5316   \n",
       "1570               3.0               9.0                    210   \n",
       "1572               0.0               2.0                   7023   \n",
       "\n",
       "      merchant_rating  \n",
       "0            4.128521  \n",
       "1            3.899673  \n",
       "2            3.989831  \n",
       "3            4.020435  \n",
       "4            4.001588  \n",
       "...               ...  \n",
       "1565         3.987990  \n",
       "1567         4.155032  \n",
       "1568         4.224605  \n",
       "1570         3.961905  \n",
       "1572         4.235939  \n",
       "\n",
       "[1341 rows x 12 columns]"
      ]
     },
     "execution_count": 43,
     "metadata": {},
     "output_type": "execute_result"
    }
   ],
   "source": [
    "d.df_numeric(\n",
    "        should_impute_nans       = False,  # rather than trashing entry, populate missing ratings with population mean\n",
    "        should_log_transform     = False,  # make data distribution more normal like\n",
    "        should_standard_scale    = False,  # N(0,1) the data\n",
    "        should_minmax_scale      = False,\n",
    "        should_minmax_scale_abs  = 2,\n",
    "        should_pca               = False,  # reduce dimensionality to speed up analysis\n",
    "        should_pca_components    = 6,    # elbow / eyeballed optimal principal components to use\n",
    ")"
   ]
  },
  {
   "cell_type": "code",
   "execution_count": 40,
   "id": "7c5a4dc9",
   "metadata": {},
   "outputs": [
    {
     "name": "stdout",
     "output_type": "stream",
     "text": [
      "<class 'pandas.core.frame.DataFrame'>\n",
      "Int64Index: 1341 entries, 0 to 1572\n",
      "Data columns (total 17 columns):\n",
      " #   Column                 Non-Null Count  Dtype  \n",
      "---  ------                 --------------  -----  \n",
      " 0   title                  1341 non-null   object \n",
      " 1   title_orig             1341 non-null   object \n",
      " 2   price                  1341 non-null   float64\n",
      " 3   retail_price           1341 non-null   int64  \n",
      " 4   units_sold             1341 non-null   int64  \n",
      " 5   rating                 1341 non-null   float64\n",
      " 6   rating_count           1341 non-null   int64  \n",
      " 7   rating_five_count      1306 non-null   float64\n",
      " 8   rating_four_count      1306 non-null   float64\n",
      " 9   rating_three_count     1306 non-null   float64\n",
      " 10  rating_two_count       1306 non-null   float64\n",
      " 11  rating_one_count       1306 non-null   float64\n",
      " 12  tags                   1341 non-null   object \n",
      " 13  product_color          1301 non-null   object \n",
      " 14  merchant_rating_count  1341 non-null   int64  \n",
      " 15  merchant_rating        1341 non-null   float64\n",
      " 16  product_picture        1341 non-null   object \n",
      "dtypes: float64(8), int64(4), object(5)\n",
      "memory usage: 220.9+ KB\n"
     ]
    }
   ],
   "source": [
    "d.df.info()"
   ]
  },
  {
   "cell_type": "code",
   "execution_count": 3,
   "id": "f2ab84c7",
   "metadata": {},
   "outputs": [
    {
     "data": {
      "text/html": [
       "<div>\n",
       "<style scoped>\n",
       "    .dataframe tbody tr th:only-of-type {\n",
       "        vertical-align: middle;\n",
       "    }\n",
       "\n",
       "    .dataframe tbody tr th {\n",
       "        vertical-align: top;\n",
       "    }\n",
       "\n",
       "    .dataframe thead th {\n",
       "        text-align: right;\n",
       "    }\n",
       "</style>\n",
       "<table border=\"1\" class=\"dataframe\">\n",
       "  <thead>\n",
       "    <tr style=\"text-align: right;\">\n",
       "      <th></th>\n",
       "      <th>ev0</th>\n",
       "      <th>ev1</th>\n",
       "      <th>ev2</th>\n",
       "      <th>ev3</th>\n",
       "      <th>ev4</th>\n",
       "      <th>ev5</th>\n",
       "    </tr>\n",
       "  </thead>\n",
       "  <tbody>\n",
       "    <tr>\n",
       "      <th>0</th>\n",
       "      <td>-2.001931</td>\n",
       "      <td>1.225439</td>\n",
       "      <td>0.116312</td>\n",
       "      <td>0.236709</td>\n",
       "      <td>1.466243</td>\n",
       "      <td>-0.252100</td>\n",
       "    </tr>\n",
       "    <tr>\n",
       "      <th>1</th>\n",
       "      <td>4.439295</td>\n",
       "      <td>-0.213366</td>\n",
       "      <td>1.614180</td>\n",
       "      <td>0.102928</td>\n",
       "      <td>-0.344418</td>\n",
       "      <td>0.346128</td>\n",
       "    </tr>\n",
       "    <tr>\n",
       "      <th>2</th>\n",
       "      <td>-3.367202</td>\n",
       "      <td>0.913908</td>\n",
       "      <td>0.561088</td>\n",
       "      <td>0.066624</td>\n",
       "      <td>0.106623</td>\n",
       "      <td>0.993475</td>\n",
       "    </tr>\n",
       "    <tr>\n",
       "      <th>3</th>\n",
       "      <td>1.482866</td>\n",
       "      <td>-0.358657</td>\n",
       "      <td>-0.251027</td>\n",
       "      <td>0.101840</td>\n",
       "      <td>-0.101393</td>\n",
       "      <td>-0.657393</td>\n",
       "    </tr>\n",
       "    <tr>\n",
       "      <th>4</th>\n",
       "      <td>-2.737343</td>\n",
       "      <td>-2.414666</td>\n",
       "      <td>-0.018018</td>\n",
       "      <td>-1.366523</td>\n",
       "      <td>-0.240100</td>\n",
       "      <td>0.070013</td>\n",
       "    </tr>\n",
       "    <tr>\n",
       "      <th>...</th>\n",
       "      <td>...</td>\n",
       "      <td>...</td>\n",
       "      <td>...</td>\n",
       "      <td>...</td>\n",
       "      <td>...</td>\n",
       "      <td>...</td>\n",
       "    </tr>\n",
       "    <tr>\n",
       "      <th>1336</th>\n",
       "      <td>-1.883906</td>\n",
       "      <td>-1.435790</td>\n",
       "      <td>-0.520066</td>\n",
       "      <td>0.033993</td>\n",
       "      <td>-0.646946</td>\n",
       "      <td>0.498350</td>\n",
       "    </tr>\n",
       "    <tr>\n",
       "      <th>1337</th>\n",
       "      <td>3.467026</td>\n",
       "      <td>-0.402373</td>\n",
       "      <td>-0.607009</td>\n",
       "      <td>0.509966</td>\n",
       "      <td>0.357459</td>\n",
       "      <td>-0.282728</td>\n",
       "    </tr>\n",
       "    <tr>\n",
       "      <th>1338</th>\n",
       "      <td>2.438836</td>\n",
       "      <td>-0.580347</td>\n",
       "      <td>-0.706385</td>\n",
       "      <td>0.365528</td>\n",
       "      <td>0.448197</td>\n",
       "      <td>0.521819</td>\n",
       "    </tr>\n",
       "    <tr>\n",
       "      <th>1339</th>\n",
       "      <td>-2.100603</td>\n",
       "      <td>-0.301515</td>\n",
       "      <td>0.369377</td>\n",
       "      <td>0.772340</td>\n",
       "      <td>0.069382</td>\n",
       "      <td>1.188141</td>\n",
       "    </tr>\n",
       "    <tr>\n",
       "      <th>1340</th>\n",
       "      <td>-2.998532</td>\n",
       "      <td>-0.224255</td>\n",
       "      <td>-1.588769</td>\n",
       "      <td>-0.496712</td>\n",
       "      <td>0.489924</td>\n",
       "      <td>-0.466120</td>\n",
       "    </tr>\n",
       "  </tbody>\n",
       "</table>\n",
       "<p>1341 rows × 6 columns</p>\n",
       "</div>"
      ],
      "text/plain": [
       "           ev0       ev1       ev2       ev3       ev4       ev5\n",
       "0    -2.001931  1.225439  0.116312  0.236709  1.466243 -0.252100\n",
       "1     4.439295 -0.213366  1.614180  0.102928 -0.344418  0.346128\n",
       "2    -3.367202  0.913908  0.561088  0.066624  0.106623  0.993475\n",
       "3     1.482866 -0.358657 -0.251027  0.101840 -0.101393 -0.657393\n",
       "4    -2.737343 -2.414666 -0.018018 -1.366523 -0.240100  0.070013\n",
       "...        ...       ...       ...       ...       ...       ...\n",
       "1336 -1.883906 -1.435790 -0.520066  0.033993 -0.646946  0.498350\n",
       "1337  3.467026 -0.402373 -0.607009  0.509966  0.357459 -0.282728\n",
       "1338  2.438836 -0.580347 -0.706385  0.365528  0.448197  0.521819\n",
       "1339 -2.100603 -0.301515  0.369377  0.772340  0.069382  1.188141\n",
       "1340 -2.998532 -0.224255 -1.588769 -0.496712  0.489924 -0.466120\n",
       "\n",
       "[1341 rows x 6 columns]"
      ]
     },
     "execution_count": 3,
     "metadata": {},
     "output_type": "execute_result"
    }
   ],
   "source": [
    "d=Dataset()\n",
    "d.df_num"
   ]
  },
  {
   "cell_type": "code",
   "execution_count": 47,
   "id": "74e56f99",
   "metadata": {},
   "outputs": [
    {
     "data": {
      "text/html": [
       "<div>\n",
       "<style scoped>\n",
       "    .dataframe tbody tr th:only-of-type {\n",
       "        vertical-align: middle;\n",
       "    }\n",
       "\n",
       "    .dataframe tbody tr th {\n",
       "        vertical-align: top;\n",
       "    }\n",
       "\n",
       "    .dataframe thead th {\n",
       "        text-align: right;\n",
       "    }\n",
       "</style>\n",
       "<table border=\"1\" class=\"dataframe\">\n",
       "  <thead>\n",
       "    <tr style=\"text-align: right;\">\n",
       "      <th></th>\n",
       "      <th>ev0</th>\n",
       "      <th>ev1</th>\n",
       "      <th>ev2</th>\n",
       "      <th>ev3</th>\n",
       "      <th>ev4</th>\n",
       "      <th>ev5</th>\n",
       "    </tr>\n",
       "  </thead>\n",
       "  <tbody>\n",
       "    <tr>\n",
       "      <th>0</th>\n",
       "      <td>-2.001931</td>\n",
       "      <td>1.225439</td>\n",
       "      <td>0.116312</td>\n",
       "      <td>0.236709</td>\n",
       "      <td>1.466243</td>\n",
       "      <td>-0.252100</td>\n",
       "    </tr>\n",
       "    <tr>\n",
       "      <th>1</th>\n",
       "      <td>4.439295</td>\n",
       "      <td>-0.213366</td>\n",
       "      <td>1.614180</td>\n",
       "      <td>0.102928</td>\n",
       "      <td>-0.344418</td>\n",
       "      <td>0.346128</td>\n",
       "    </tr>\n",
       "    <tr>\n",
       "      <th>2</th>\n",
       "      <td>-3.367202</td>\n",
       "      <td>0.913908</td>\n",
       "      <td>0.561088</td>\n",
       "      <td>0.066624</td>\n",
       "      <td>0.106623</td>\n",
       "      <td>0.993475</td>\n",
       "    </tr>\n",
       "    <tr>\n",
       "      <th>3</th>\n",
       "      <td>1.482866</td>\n",
       "      <td>-0.358657</td>\n",
       "      <td>-0.251027</td>\n",
       "      <td>0.101840</td>\n",
       "      <td>-0.101393</td>\n",
       "      <td>-0.657393</td>\n",
       "    </tr>\n",
       "    <tr>\n",
       "      <th>4</th>\n",
       "      <td>-2.737343</td>\n",
       "      <td>-2.414666</td>\n",
       "      <td>-0.018018</td>\n",
       "      <td>-1.366523</td>\n",
       "      <td>-0.240100</td>\n",
       "      <td>0.070013</td>\n",
       "    </tr>\n",
       "    <tr>\n",
       "      <th>...</th>\n",
       "      <td>...</td>\n",
       "      <td>...</td>\n",
       "      <td>...</td>\n",
       "      <td>...</td>\n",
       "      <td>...</td>\n",
       "      <td>...</td>\n",
       "    </tr>\n",
       "    <tr>\n",
       "      <th>1336</th>\n",
       "      <td>-1.883906</td>\n",
       "      <td>-1.435790</td>\n",
       "      <td>-0.520066</td>\n",
       "      <td>0.033993</td>\n",
       "      <td>-0.646946</td>\n",
       "      <td>0.498350</td>\n",
       "    </tr>\n",
       "    <tr>\n",
       "      <th>1337</th>\n",
       "      <td>3.467026</td>\n",
       "      <td>-0.402373</td>\n",
       "      <td>-0.607009</td>\n",
       "      <td>0.509966</td>\n",
       "      <td>0.357459</td>\n",
       "      <td>-0.282728</td>\n",
       "    </tr>\n",
       "    <tr>\n",
       "      <th>1338</th>\n",
       "      <td>2.438836</td>\n",
       "      <td>-0.580347</td>\n",
       "      <td>-0.706385</td>\n",
       "      <td>0.365528</td>\n",
       "      <td>0.448197</td>\n",
       "      <td>0.521819</td>\n",
       "    </tr>\n",
       "    <tr>\n",
       "      <th>1339</th>\n",
       "      <td>-2.100603</td>\n",
       "      <td>-0.301515</td>\n",
       "      <td>0.369377</td>\n",
       "      <td>0.772340</td>\n",
       "      <td>0.069382</td>\n",
       "      <td>1.188141</td>\n",
       "    </tr>\n",
       "    <tr>\n",
       "      <th>1340</th>\n",
       "      <td>-2.998532</td>\n",
       "      <td>-0.224255</td>\n",
       "      <td>-1.588769</td>\n",
       "      <td>-0.496712</td>\n",
       "      <td>0.489924</td>\n",
       "      <td>-0.466120</td>\n",
       "    </tr>\n",
       "  </tbody>\n",
       "</table>\n",
       "<p>1341 rows × 6 columns</p>\n",
       "</div>"
      ],
      "text/plain": [
       "           ev0       ev1       ev2       ev3       ev4       ev5\n",
       "0    -2.001931  1.225439  0.116312  0.236709  1.466243 -0.252100\n",
       "1     4.439295 -0.213366  1.614180  0.102928 -0.344418  0.346128\n",
       "2    -3.367202  0.913908  0.561088  0.066624  0.106623  0.993475\n",
       "3     1.482866 -0.358657 -0.251027  0.101840 -0.101393 -0.657393\n",
       "4    -2.737343 -2.414666 -0.018018 -1.366523 -0.240100  0.070013\n",
       "...        ...       ...       ...       ...       ...       ...\n",
       "1336 -1.883906 -1.435790 -0.520066  0.033993 -0.646946  0.498350\n",
       "1337  3.467026 -0.402373 -0.607009  0.509966  0.357459 -0.282728\n",
       "1338  2.438836 -0.580347 -0.706385  0.365528  0.448197  0.521819\n",
       "1339 -2.100603 -0.301515  0.369377  0.772340  0.069382  1.188141\n",
       "1340 -2.998532 -0.224255 -1.588769 -0.496712  0.489924 -0.466120\n",
       "\n",
       "[1341 rows x 6 columns]"
      ]
     },
     "execution_count": 47,
     "metadata": {},
     "output_type": "execute_result"
    }
   ],
   "source": [
    "d.df_num"
   ]
  },
  {
   "cell_type": "code",
   "execution_count": 51,
   "id": "985d106e",
   "metadata": {},
   "outputs": [
    {
     "data": {
      "text/plain": [
       "array([[0.     , 0.82713, 1.07994, 1.19435, 1.28092],\n",
       "       [0.     , 0.95952, 0.99465, 1.27906, 1.31294]])"
      ]
     },
     "metadata": {},
     "output_type": "display_data"
    },
    {
     "data": {
      "text/plain": [
       "array([[   0,  244,  934,   42, 1164],\n",
       "       [   1, 1132,  675,  533, 1315]], dtype=int64)"
      ]
     },
     "metadata": {},
     "output_type": "display_data"
    }
   ],
   "source": [
    "nneighbor = NearestNeighbors(n_neighbors=5)\n",
    "nneighbor.fit(d.df_num)\n",
    "\n",
    "distances,indices=nneighbor.kneighbors(d.df_num.loc[[0,1]],n_neighbors=5)\n",
    "display(distances)\n",
    "display(indices)"
   ]
  },
  {
   "cell_type": "code",
   "execution_count": 49,
   "id": "4e292385",
   "metadata": {},
   "outputs": [
    {
     "data": {
      "text/plain": [
       "ev0   -2.001931\n",
       "ev1    1.225439\n",
       "ev2    0.116312\n",
       "ev3    0.236709\n",
       "ev4    1.466243\n",
       "ev5   -0.252100\n",
       "Name: 0, dtype: float64"
      ]
     },
     "execution_count": 49,
     "metadata": {},
     "output_type": "execute_result"
    }
   ],
   "source": [
    "d.df_num.loc[0]"
   ]
  },
  {
   "cell_type": "code",
   "execution_count": 38,
   "id": "cb0266b8",
   "metadata": {},
   "outputs": [
    {
     "data": {
      "text/plain": [
       "array([[0.     , 0.82713, 1.07994, 1.19435, 1.28092],\n",
       "       [0.     , 0.95952, 0.99465, 1.27906, 1.31294],\n",
       "       [0.     , 1.12267, 1.1881 , 1.2097 , 1.36495],\n",
       "       ...,\n",
       "       [0.     , 0.46552, 0.79582, 0.82539, 0.84524],\n",
       "       [0.     , 1.13905, 1.17317, 1.42607, 1.47398],\n",
       "       [0.     , 0.6733 , 0.767  , 0.80804, 0.84066]])"
      ]
     },
     "execution_count": 38,
     "metadata": {},
     "output_type": "execute_result"
    }
   ],
   "source": [
    "distances"
   ]
  },
  {
   "cell_type": "code",
   "execution_count": 19,
   "id": "cb6720cb",
   "metadata": {},
   "outputs": [
    {
     "data": {
      "text/plain": [
       "array([[   0,  244,  934,   42, 1164],\n",
       "       [   1, 1132,  675,  533, 1315],\n",
       "       [   2,  101, 1022,  207,  821],\n",
       "       ...,\n",
       "       [1338, 1205, 1210,  568, 1149],\n",
       "       [1339, 1222, 1215,  443, 1213],\n",
       "       [1340,  232,  755,  586,  563]], dtype=int64)"
      ]
     },
     "execution_count": 19,
     "metadata": {},
     "output_type": "execute_result"
    }
   ],
   "source": [
    "indices.shape"
   ]
  },
  {
   "cell_type": "code",
   "execution_count": 28,
   "id": "3bf231d8",
   "metadata": {},
   "outputs": [
    {
     "data": {
      "text/plain": [
       "(1341, 6)"
      ]
     },
     "execution_count": 28,
     "metadata": {},
     "output_type": "execute_result"
    }
   ],
   "source": [
    "d.df_num.shape"
   ]
  },
  {
   "cell_type": "code",
   "execution_count": null,
   "id": "65731d73",
   "metadata": {},
   "outputs": [],
   "source": []
  },
  {
   "cell_type": "code",
   "execution_count": 34,
   "id": "1b68bed1",
   "metadata": {},
   "outputs": [
    {
     "data": {
      "text/plain": [
       "title                                                                          ZANZEA Femme Casual Beach Col V Manche Courte Loose Plage Robe Dresse Maxi Plus\n",
       "title_orig                                                                     ZANZEA Femme Casual Beach Col V Manche Courte Loose Plage Robe Dresse Maxi Plus\n",
       "price                                                                                                                                                     11.0\n",
       "retail_price                                                                                                                                                84\n",
       "units_sold                                                                                                                                                 100\n",
       "rating                                                                                                                                                    3.46\n",
       "rating_count                                                                                                                                                56\n",
       "rating_five_count                                                                                                                                         23.0\n",
       "rating_four_count                                                                                                                                          9.0\n",
       "rating_three_count                                                                                                                                         8.0\n",
       "rating_two_count                                                                                                                                           3.0\n",
       "rating_one_count                                                                                                                                          13.0\n",
       "tags                     pleated dress,robefemme,summer dress,V Neckdress,Casual,kleid,maternitydres,Party Dress,prom dress,maxi dress,Robes,Beach,loose dress\n",
       "product_color                                                                                                                                       orange-red\n",
       "merchant_rating_count                                                                                                                                    90105\n",
       "merchant_rating                                                                                                                                       4.201298\n",
       "product_picture                                                                   https://contestimg.wish.com/api/webimage/5d5bb89494613054c04a2e21-medium.jpg\n",
       "Name: 809, dtype: object"
      ]
     },
     "execution_count": 34,
     "metadata": {},
     "output_type": "execute_result"
    }
   ],
   "source": [
    "d.df.loc[809]"
   ]
  },
  {
   "cell_type": "code",
   "execution_count": 32,
   "id": "92245726",
   "metadata": {},
   "outputs": [
    {
     "data": {
      "text/plain": [
       "ev0    1.309828\n",
       "ev1   -0.048207\n",
       "ev2   -0.529369\n",
       "ev3    0.186669\n",
       "ev4   -0.159761\n",
       "ev5   -0.950964\n",
       "Name: 809, dtype: float64"
      ]
     },
     "execution_count": 32,
     "metadata": {},
     "output_type": "execute_result"
    }
   ],
   "source": [
    "d.df_num.loc[809]"
   ]
  },
  {
   "cell_type": "code",
   "execution_count": 26,
   "id": "2c4a7c08",
   "metadata": {},
   "outputs": [
    {
     "data": {
      "text/plain": [
       "array([  3, 824,  57, 510, 809], dtype=int64)"
      ]
     },
     "execution_count": 26,
     "metadata": {},
     "output_type": "execute_result"
    }
   ],
   "source": [
    "indices[3]"
   ]
  },
  {
   "cell_type": "code",
   "execution_count": 27,
   "id": "6bebfd88",
   "metadata": {},
   "outputs": [
    {
     "ename": "KeyError",
     "evalue": "824",
     "output_type": "error",
     "traceback": [
      "\u001b[1;31m---------------------------------------------------------------------------\u001b[0m",
      "\u001b[1;31mKeyError\u001b[0m                                  Traceback (most recent call last)",
      "\u001b[1;32mC:\\ProgramData\\Anaconda3\\lib\\site-packages\\pandas\\core\\indexes\\base.py\u001b[0m in \u001b[0;36mget_loc\u001b[1;34m(self, key, method, tolerance)\u001b[0m\n\u001b[0;32m   3080\u001b[0m             \u001b[1;32mtry\u001b[0m\u001b[1;33m:\u001b[0m\u001b[1;33m\u001b[0m\u001b[1;33m\u001b[0m\u001b[0m\n\u001b[1;32m-> 3081\u001b[1;33m                 \u001b[1;32mreturn\u001b[0m \u001b[0mself\u001b[0m\u001b[1;33m.\u001b[0m\u001b[0m_engine\u001b[0m\u001b[1;33m.\u001b[0m\u001b[0mget_loc\u001b[0m\u001b[1;33m(\u001b[0m\u001b[0mcasted_key\u001b[0m\u001b[1;33m)\u001b[0m\u001b[1;33m\u001b[0m\u001b[1;33m\u001b[0m\u001b[0m\n\u001b[0m\u001b[0;32m   3082\u001b[0m             \u001b[1;32mexcept\u001b[0m \u001b[0mKeyError\u001b[0m \u001b[1;32mas\u001b[0m \u001b[0merr\u001b[0m\u001b[1;33m:\u001b[0m\u001b[1;33m\u001b[0m\u001b[1;33m\u001b[0m\u001b[0m\n",
      "\u001b[1;32mpandas\\_libs\\index.pyx\u001b[0m in \u001b[0;36mpandas._libs.index.IndexEngine.get_loc\u001b[1;34m()\u001b[0m\n",
      "\u001b[1;32mpandas\\_libs\\index.pyx\u001b[0m in \u001b[0;36mpandas._libs.index.IndexEngine.get_loc\u001b[1;34m()\u001b[0m\n",
      "\u001b[1;32mpandas\\_libs\\hashtable_class_helper.pxi\u001b[0m in \u001b[0;36mpandas._libs.hashtable.Int64HashTable.get_item\u001b[1;34m()\u001b[0m\n",
      "\u001b[1;32mpandas\\_libs\\hashtable_class_helper.pxi\u001b[0m in \u001b[0;36mpandas._libs.hashtable.Int64HashTable.get_item\u001b[1;34m()\u001b[0m\n",
      "\u001b[1;31mKeyError\u001b[0m: 824",
      "\nThe above exception was the direct cause of the following exception:\n",
      "\u001b[1;31mKeyError\u001b[0m                                  Traceback (most recent call last)",
      "\u001b[1;32m<ipython-input-27-ebeff7d54227>\u001b[0m in \u001b[0;36m<module>\u001b[1;34m\u001b[0m\n\u001b[1;32m----> 1\u001b[1;33m \u001b[0md\u001b[0m\u001b[1;33m.\u001b[0m\u001b[0mget_product_pictures\u001b[0m\u001b[1;33m(\u001b[0m\u001b[0mlocs\u001b[0m\u001b[1;33m=\u001b[0m\u001b[0mindices\u001b[0m\u001b[1;33m[\u001b[0m\u001b[1;36m3\u001b[0m\u001b[1;33m]\u001b[0m\u001b[1;33m)\u001b[0m\u001b[1;33m\u001b[0m\u001b[1;33m\u001b[0m\u001b[0m\n\u001b[0m",
      "\u001b[1;32m<ipython-input-2-5c52b755d567>\u001b[0m in \u001b[0;36mget_product_pictures\u001b[1;34m(self, locs)\u001b[0m\n\u001b[0;32m    185\u001b[0m         '''\n\u001b[0;32m    186\u001b[0m         \u001b[1;31m# gather imgs\u001b[0m\u001b[1;33m\u001b[0m\u001b[1;33m\u001b[0m\u001b[1;33m\u001b[0m\u001b[0m\n\u001b[1;32m--> 187\u001b[1;33m         \u001b[0mimgs\u001b[0m \u001b[1;33m=\u001b[0m \u001b[1;33m[\u001b[0m\u001b[0mself\u001b[0m\u001b[1;33m.\u001b[0m\u001b[0mget_product_picture\u001b[0m\u001b[1;33m(\u001b[0m\u001b[0mloc\u001b[0m\u001b[1;33m=\u001b[0m\u001b[0mloc\u001b[0m\u001b[1;33m,\u001b[0m\u001b[0mplot\u001b[0m\u001b[1;33m=\u001b[0m\u001b[1;32mFalse\u001b[0m\u001b[1;33m)\u001b[0m \u001b[1;32mfor\u001b[0m \u001b[0mloc\u001b[0m \u001b[1;32min\u001b[0m \u001b[0mlocs\u001b[0m\u001b[1;33m]\u001b[0m\u001b[1;33m\u001b[0m\u001b[1;33m\u001b[0m\u001b[0m\n\u001b[0m\u001b[0;32m    188\u001b[0m \u001b[1;33m\u001b[0m\u001b[0m\n\u001b[0;32m    189\u001b[0m         \u001b[1;32mdef\u001b[0m \u001b[0mceildiv\u001b[0m\u001b[1;33m(\u001b[0m\u001b[0ma\u001b[0m\u001b[1;33m,\u001b[0m\u001b[0mb\u001b[0m\u001b[1;33m)\u001b[0m\u001b[1;33m:\u001b[0m \u001b[1;32mreturn\u001b[0m \u001b[1;33m-\u001b[0m\u001b[1;33m(\u001b[0m\u001b[0ma\u001b[0m \u001b[1;33m//\u001b[0m \u001b[1;33m-\u001b[0m\u001b[0mb\u001b[0m\u001b[1;33m)\u001b[0m \u001b[1;31m# ceiling division without needing any imports\u001b[0m\u001b[1;33m\u001b[0m\u001b[1;33m\u001b[0m\u001b[0m\n",
      "\u001b[1;32m<ipython-input-2-5c52b755d567>\u001b[0m in \u001b[0;36m<listcomp>\u001b[1;34m(.0)\u001b[0m\n\u001b[0;32m    185\u001b[0m         '''\n\u001b[0;32m    186\u001b[0m         \u001b[1;31m# gather imgs\u001b[0m\u001b[1;33m\u001b[0m\u001b[1;33m\u001b[0m\u001b[1;33m\u001b[0m\u001b[0m\n\u001b[1;32m--> 187\u001b[1;33m         \u001b[0mimgs\u001b[0m \u001b[1;33m=\u001b[0m \u001b[1;33m[\u001b[0m\u001b[0mself\u001b[0m\u001b[1;33m.\u001b[0m\u001b[0mget_product_picture\u001b[0m\u001b[1;33m(\u001b[0m\u001b[0mloc\u001b[0m\u001b[1;33m=\u001b[0m\u001b[0mloc\u001b[0m\u001b[1;33m,\u001b[0m\u001b[0mplot\u001b[0m\u001b[1;33m=\u001b[0m\u001b[1;32mFalse\u001b[0m\u001b[1;33m)\u001b[0m \u001b[1;32mfor\u001b[0m \u001b[0mloc\u001b[0m \u001b[1;32min\u001b[0m \u001b[0mlocs\u001b[0m\u001b[1;33m]\u001b[0m\u001b[1;33m\u001b[0m\u001b[1;33m\u001b[0m\u001b[0m\n\u001b[0m\u001b[0;32m    188\u001b[0m \u001b[1;33m\u001b[0m\u001b[0m\n\u001b[0;32m    189\u001b[0m         \u001b[1;32mdef\u001b[0m \u001b[0mceildiv\u001b[0m\u001b[1;33m(\u001b[0m\u001b[0ma\u001b[0m\u001b[1;33m,\u001b[0m\u001b[0mb\u001b[0m\u001b[1;33m)\u001b[0m\u001b[1;33m:\u001b[0m \u001b[1;32mreturn\u001b[0m \u001b[1;33m-\u001b[0m\u001b[1;33m(\u001b[0m\u001b[0ma\u001b[0m \u001b[1;33m//\u001b[0m \u001b[1;33m-\u001b[0m\u001b[0mb\u001b[0m\u001b[1;33m)\u001b[0m \u001b[1;31m# ceiling division without needing any imports\u001b[0m\u001b[1;33m\u001b[0m\u001b[1;33m\u001b[0m\u001b[0m\n",
      "\u001b[1;32m<ipython-input-2-5c52b755d567>\u001b[0m in \u001b[0;36mget_product_picture\u001b[1;34m(self, url, loc, plot, grayscale, blur, blur_ksize, verbose)\u001b[0m\n\u001b[0;32m    128\u001b[0m         \u001b[1;31m####################################\u001b[0m\u001b[1;33m\u001b[0m\u001b[1;33m\u001b[0m\u001b[1;33m\u001b[0m\u001b[0m\n\u001b[0;32m    129\u001b[0m         \u001b[1;32mif\u001b[0m \u001b[0mloc\u001b[0m \u001b[1;32mis\u001b[0m \u001b[1;32mnot\u001b[0m \u001b[1;32mNone\u001b[0m\u001b[1;33m:\u001b[0m\u001b[1;33m\u001b[0m\u001b[1;33m\u001b[0m\u001b[0m\n\u001b[1;32m--> 130\u001b[1;33m             \u001b[0murl\u001b[0m \u001b[1;33m=\u001b[0m \u001b[0mself\u001b[0m\u001b[1;33m.\u001b[0m\u001b[0mdf\u001b[0m\u001b[1;33m[\u001b[0m\u001b[1;34m'product_picture'\u001b[0m\u001b[1;33m]\u001b[0m\u001b[1;33m.\u001b[0m\u001b[0mloc\u001b[0m\u001b[1;33m[\u001b[0m\u001b[0mloc\u001b[0m\u001b[1;33m]\u001b[0m\u001b[1;33m\u001b[0m\u001b[1;33m\u001b[0m\u001b[0m\n\u001b[0m\u001b[0;32m    131\u001b[0m \u001b[1;33m\u001b[0m\u001b[0m\n\u001b[0;32m    132\u001b[0m         \u001b[1;31m####################################\u001b[0m\u001b[1;33m\u001b[0m\u001b[1;33m\u001b[0m\u001b[1;33m\u001b[0m\u001b[0m\n",
      "\u001b[1;32mC:\\ProgramData\\Anaconda3\\lib\\site-packages\\pandas\\core\\indexing.py\u001b[0m in \u001b[0;36m__getitem__\u001b[1;34m(self, key)\u001b[0m\n\u001b[0;32m    893\u001b[0m \u001b[1;33m\u001b[0m\u001b[0m\n\u001b[0;32m    894\u001b[0m             \u001b[0mmaybe_callable\u001b[0m \u001b[1;33m=\u001b[0m \u001b[0mcom\u001b[0m\u001b[1;33m.\u001b[0m\u001b[0mapply_if_callable\u001b[0m\u001b[1;33m(\u001b[0m\u001b[0mkey\u001b[0m\u001b[1;33m,\u001b[0m \u001b[0mself\u001b[0m\u001b[1;33m.\u001b[0m\u001b[0mobj\u001b[0m\u001b[1;33m)\u001b[0m\u001b[1;33m\u001b[0m\u001b[1;33m\u001b[0m\u001b[0m\n\u001b[1;32m--> 895\u001b[1;33m             \u001b[1;32mreturn\u001b[0m \u001b[0mself\u001b[0m\u001b[1;33m.\u001b[0m\u001b[0m_getitem_axis\u001b[0m\u001b[1;33m(\u001b[0m\u001b[0mmaybe_callable\u001b[0m\u001b[1;33m,\u001b[0m \u001b[0maxis\u001b[0m\u001b[1;33m=\u001b[0m\u001b[0maxis\u001b[0m\u001b[1;33m)\u001b[0m\u001b[1;33m\u001b[0m\u001b[1;33m\u001b[0m\u001b[0m\n\u001b[0m\u001b[0;32m    896\u001b[0m \u001b[1;33m\u001b[0m\u001b[0m\n\u001b[0;32m    897\u001b[0m     \u001b[1;32mdef\u001b[0m \u001b[0m_is_scalar_access\u001b[0m\u001b[1;33m(\u001b[0m\u001b[0mself\u001b[0m\u001b[1;33m,\u001b[0m \u001b[0mkey\u001b[0m\u001b[1;33m:\u001b[0m \u001b[0mTuple\u001b[0m\u001b[1;33m)\u001b[0m\u001b[1;33m:\u001b[0m\u001b[1;33m\u001b[0m\u001b[1;33m\u001b[0m\u001b[0m\n",
      "\u001b[1;32mC:\\ProgramData\\Anaconda3\\lib\\site-packages\\pandas\\core\\indexing.py\u001b[0m in \u001b[0;36m_getitem_axis\u001b[1;34m(self, key, axis)\u001b[0m\n\u001b[0;32m   1122\u001b[0m         \u001b[1;31m# fall thru to straight lookup\u001b[0m\u001b[1;33m\u001b[0m\u001b[1;33m\u001b[0m\u001b[1;33m\u001b[0m\u001b[0m\n\u001b[0;32m   1123\u001b[0m         \u001b[0mself\u001b[0m\u001b[1;33m.\u001b[0m\u001b[0m_validate_key\u001b[0m\u001b[1;33m(\u001b[0m\u001b[0mkey\u001b[0m\u001b[1;33m,\u001b[0m \u001b[0maxis\u001b[0m\u001b[1;33m)\u001b[0m\u001b[1;33m\u001b[0m\u001b[1;33m\u001b[0m\u001b[0m\n\u001b[1;32m-> 1124\u001b[1;33m         \u001b[1;32mreturn\u001b[0m \u001b[0mself\u001b[0m\u001b[1;33m.\u001b[0m\u001b[0m_get_label\u001b[0m\u001b[1;33m(\u001b[0m\u001b[0mkey\u001b[0m\u001b[1;33m,\u001b[0m \u001b[0maxis\u001b[0m\u001b[1;33m=\u001b[0m\u001b[0maxis\u001b[0m\u001b[1;33m)\u001b[0m\u001b[1;33m\u001b[0m\u001b[1;33m\u001b[0m\u001b[0m\n\u001b[0m\u001b[0;32m   1125\u001b[0m \u001b[1;33m\u001b[0m\u001b[0m\n\u001b[0;32m   1126\u001b[0m     \u001b[1;32mdef\u001b[0m \u001b[0m_get_slice_axis\u001b[0m\u001b[1;33m(\u001b[0m\u001b[0mself\u001b[0m\u001b[1;33m,\u001b[0m \u001b[0mslice_obj\u001b[0m\u001b[1;33m:\u001b[0m \u001b[0mslice\u001b[0m\u001b[1;33m,\u001b[0m \u001b[0maxis\u001b[0m\u001b[1;33m:\u001b[0m \u001b[0mint\u001b[0m\u001b[1;33m)\u001b[0m\u001b[1;33m:\u001b[0m\u001b[1;33m\u001b[0m\u001b[1;33m\u001b[0m\u001b[0m\n",
      "\u001b[1;32mC:\\ProgramData\\Anaconda3\\lib\\site-packages\\pandas\\core\\indexing.py\u001b[0m in \u001b[0;36m_get_label\u001b[1;34m(self, label, axis)\u001b[0m\n\u001b[0;32m   1071\u001b[0m     \u001b[1;32mdef\u001b[0m \u001b[0m_get_label\u001b[0m\u001b[1;33m(\u001b[0m\u001b[0mself\u001b[0m\u001b[1;33m,\u001b[0m \u001b[0mlabel\u001b[0m\u001b[1;33m,\u001b[0m \u001b[0maxis\u001b[0m\u001b[1;33m:\u001b[0m \u001b[0mint\u001b[0m\u001b[1;33m)\u001b[0m\u001b[1;33m:\u001b[0m\u001b[1;33m\u001b[0m\u001b[1;33m\u001b[0m\u001b[0m\n\u001b[0;32m   1072\u001b[0m         \u001b[1;31m# GH#5667 this will fail if the label is not present in the axis.\u001b[0m\u001b[1;33m\u001b[0m\u001b[1;33m\u001b[0m\u001b[1;33m\u001b[0m\u001b[0m\n\u001b[1;32m-> 1073\u001b[1;33m         \u001b[1;32mreturn\u001b[0m \u001b[0mself\u001b[0m\u001b[1;33m.\u001b[0m\u001b[0mobj\u001b[0m\u001b[1;33m.\u001b[0m\u001b[0mxs\u001b[0m\u001b[1;33m(\u001b[0m\u001b[0mlabel\u001b[0m\u001b[1;33m,\u001b[0m \u001b[0maxis\u001b[0m\u001b[1;33m=\u001b[0m\u001b[0maxis\u001b[0m\u001b[1;33m)\u001b[0m\u001b[1;33m\u001b[0m\u001b[1;33m\u001b[0m\u001b[0m\n\u001b[0m\u001b[0;32m   1074\u001b[0m \u001b[1;33m\u001b[0m\u001b[0m\n\u001b[0;32m   1075\u001b[0m     \u001b[1;32mdef\u001b[0m \u001b[0m_handle_lowerdim_multi_index_axis0\u001b[0m\u001b[1;33m(\u001b[0m\u001b[0mself\u001b[0m\u001b[1;33m,\u001b[0m \u001b[0mtup\u001b[0m\u001b[1;33m:\u001b[0m \u001b[0mTuple\u001b[0m\u001b[1;33m)\u001b[0m\u001b[1;33m:\u001b[0m\u001b[1;33m\u001b[0m\u001b[1;33m\u001b[0m\u001b[0m\n",
      "\u001b[1;32mC:\\ProgramData\\Anaconda3\\lib\\site-packages\\pandas\\core\\generic.py\u001b[0m in \u001b[0;36mxs\u001b[1;34m(self, key, axis, level, drop_level)\u001b[0m\n\u001b[0;32m   3737\u001b[0m                 \u001b[1;32mraise\u001b[0m \u001b[0mTypeError\u001b[0m\u001b[1;33m(\u001b[0m\u001b[1;34mf\"Expected label or tuple of labels, got {key}\"\u001b[0m\u001b[1;33m)\u001b[0m \u001b[1;32mfrom\u001b[0m \u001b[0me\u001b[0m\u001b[1;33m\u001b[0m\u001b[1;33m\u001b[0m\u001b[0m\n\u001b[0;32m   3738\u001b[0m         \u001b[1;32melse\u001b[0m\u001b[1;33m:\u001b[0m\u001b[1;33m\u001b[0m\u001b[1;33m\u001b[0m\u001b[0m\n\u001b[1;32m-> 3739\u001b[1;33m             \u001b[0mloc\u001b[0m \u001b[1;33m=\u001b[0m \u001b[0mindex\u001b[0m\u001b[1;33m.\u001b[0m\u001b[0mget_loc\u001b[0m\u001b[1;33m(\u001b[0m\u001b[0mkey\u001b[0m\u001b[1;33m)\u001b[0m\u001b[1;33m\u001b[0m\u001b[1;33m\u001b[0m\u001b[0m\n\u001b[0m\u001b[0;32m   3740\u001b[0m \u001b[1;33m\u001b[0m\u001b[0m\n\u001b[0;32m   3741\u001b[0m             \u001b[1;32mif\u001b[0m \u001b[0misinstance\u001b[0m\u001b[1;33m(\u001b[0m\u001b[0mloc\u001b[0m\u001b[1;33m,\u001b[0m \u001b[0mnp\u001b[0m\u001b[1;33m.\u001b[0m\u001b[0mndarray\u001b[0m\u001b[1;33m)\u001b[0m\u001b[1;33m:\u001b[0m\u001b[1;33m\u001b[0m\u001b[1;33m\u001b[0m\u001b[0m\n",
      "\u001b[1;32mC:\\ProgramData\\Anaconda3\\lib\\site-packages\\pandas\\core\\indexes\\base.py\u001b[0m in \u001b[0;36mget_loc\u001b[1;34m(self, key, method, tolerance)\u001b[0m\n\u001b[0;32m   3081\u001b[0m                 \u001b[1;32mreturn\u001b[0m \u001b[0mself\u001b[0m\u001b[1;33m.\u001b[0m\u001b[0m_engine\u001b[0m\u001b[1;33m.\u001b[0m\u001b[0mget_loc\u001b[0m\u001b[1;33m(\u001b[0m\u001b[0mcasted_key\u001b[0m\u001b[1;33m)\u001b[0m\u001b[1;33m\u001b[0m\u001b[1;33m\u001b[0m\u001b[0m\n\u001b[0;32m   3082\u001b[0m             \u001b[1;32mexcept\u001b[0m \u001b[0mKeyError\u001b[0m \u001b[1;32mas\u001b[0m \u001b[0merr\u001b[0m\u001b[1;33m:\u001b[0m\u001b[1;33m\u001b[0m\u001b[1;33m\u001b[0m\u001b[0m\n\u001b[1;32m-> 3083\u001b[1;33m                 \u001b[1;32mraise\u001b[0m \u001b[0mKeyError\u001b[0m\u001b[1;33m(\u001b[0m\u001b[0mkey\u001b[0m\u001b[1;33m)\u001b[0m \u001b[1;32mfrom\u001b[0m \u001b[0merr\u001b[0m\u001b[1;33m\u001b[0m\u001b[1;33m\u001b[0m\u001b[0m\n\u001b[0m\u001b[0;32m   3084\u001b[0m \u001b[1;33m\u001b[0m\u001b[0m\n\u001b[0;32m   3085\u001b[0m         \u001b[1;32mif\u001b[0m \u001b[0mtolerance\u001b[0m \u001b[1;32mis\u001b[0m \u001b[1;32mnot\u001b[0m \u001b[1;32mNone\u001b[0m\u001b[1;33m:\u001b[0m\u001b[1;33m\u001b[0m\u001b[1;33m\u001b[0m\u001b[0m\n",
      "\u001b[1;31mKeyError\u001b[0m: 824"
     ]
    }
   ],
   "source": [
    "d.get_product_pictures(locs=indices[3])"
   ]
  },
  {
   "cell_type": "code",
   "execution_count": 9,
   "id": "7a09ece0",
   "metadata": {},
   "outputs": [
    {
     "data": {
      "image/png": "[encoded data removed]",
      "text/plain": [
       "<Figure size 576x576 with 1 Axes>"
      ]
     },
     "metadata": {
      "needs_background": "light"
     },
     "output_type": "display_data"
    }
   ],
   "source": [
    "linkage_ward = shc.linkage(d.df_num, method ='ward') # perform clustering with `ward` distance metric\n",
    "\n",
    "# plot\n",
    "plt.figure(figsize=(25, 10))\n",
    "plt.title('Hierarchical Clustering Dendrogram')\n",
    "plt.xlabel('sample index')\n",
    "plt.ylabel('distance')\n",
    "shc.dendrogram(linkage_ward)"
   ]
  },
  {
   "cell_type": "code",
   "execution_count": 13,
   "id": "a78229d4",
   "metadata": {},
   "outputs": [
    {
     "data": {
      "text/html": [
       "<div>\n",
       "<style scoped>\n",
       "    .dataframe tbody tr th:only-of-type {\n",
       "        vertical-align: middle;\n",
       "    }\n",
       "\n",
       "    .dataframe tbody tr th {\n",
       "        vertical-align: top;\n",
       "    }\n",
       "\n",
       "    .dataframe thead th {\n",
       "        text-align: right;\n",
       "    }\n",
       "</style>\n",
       "<table border=\"1\" class=\"dataframe\">\n",
       "  <thead>\n",
       "    <tr style=\"text-align: right;\">\n",
       "      <th></th>\n",
       "      <th>idx1</th>\n",
       "      <th>idx2</th>\n",
       "      <th>dist</th>\n",
       "      <th>sample_count</th>\n",
       "    </tr>\n",
       "  </thead>\n",
       "  <tbody>\n",
       "    <tr>\n",
       "      <th>0</th>\n",
       "      <td>551.0</td>\n",
       "      <td>732.0</td>\n",
       "      <td>0.136257</td>\n",
       "      <td>2.0</td>\n",
       "    </tr>\n",
       "    <tr>\n",
       "      <th>1</th>\n",
       "      <td>1100.0</td>\n",
       "      <td>1165.0</td>\n",
       "      <td>0.161259</td>\n",
       "      <td>2.0</td>\n",
       "    </tr>\n",
       "    <tr>\n",
       "      <th>2</th>\n",
       "      <td>54.0</td>\n",
       "      <td>1235.0</td>\n",
       "      <td>0.164446</td>\n",
       "      <td>2.0</td>\n",
       "    </tr>\n",
       "    <tr>\n",
       "      <th>3</th>\n",
       "      <td>1292.0</td>\n",
       "      <td>1337.0</td>\n",
       "      <td>0.199422</td>\n",
       "      <td>2.0</td>\n",
       "    </tr>\n",
       "    <tr>\n",
       "      <th>4</th>\n",
       "      <td>563.0</td>\n",
       "      <td>586.0</td>\n",
       "      <td>0.206336</td>\n",
       "      <td>2.0</td>\n",
       "    </tr>\n",
       "    <tr>\n",
       "      <th>...</th>\n",
       "      <td>...</td>\n",
       "      <td>...</td>\n",
       "      <td>...</td>\n",
       "      <td>...</td>\n",
       "    </tr>\n",
       "    <tr>\n",
       "      <th>1335</th>\n",
       "      <td>2664.0</td>\n",
       "      <td>2669.0</td>\n",
       "      <td>28.360560</td>\n",
       "      <td>431.0</td>\n",
       "    </tr>\n",
       "    <tr>\n",
       "      <th>1336</th>\n",
       "      <td>2671.0</td>\n",
       "      <td>2676.0</td>\n",
       "      <td>35.063615</td>\n",
       "      <td>590.0</td>\n",
       "    </tr>\n",
       "    <tr>\n",
       "      <th>1337</th>\n",
       "      <td>2673.0</td>\n",
       "      <td>2675.0</td>\n",
       "      <td>35.487121</td>\n",
       "      <td>482.0</td>\n",
       "    </tr>\n",
       "    <tr>\n",
       "      <th>1338</th>\n",
       "      <td>2674.0</td>\n",
       "      <td>2677.0</td>\n",
       "      <td>49.842188</td>\n",
       "      <td>859.0</td>\n",
       "    </tr>\n",
       "    <tr>\n",
       "      <th>1339</th>\n",
       "      <td>2678.0</td>\n",
       "      <td>2679.0</td>\n",
       "      <td>110.992212</td>\n",
       "      <td>1341.0</td>\n",
       "    </tr>\n",
       "  </tbody>\n",
       "</table>\n",
       "<p>1340 rows × 4 columns</p>\n",
       "</div>"
      ],
      "text/plain": [
       "        idx1    idx2        dist  sample_count\n",
       "0      551.0   732.0    0.136257           2.0\n",
       "1     1100.0  1165.0    0.161259           2.0\n",
       "2       54.0  1235.0    0.164446           2.0\n",
       "3     1292.0  1337.0    0.199422           2.0\n",
       "4      563.0   586.0    0.206336           2.0\n",
       "...      ...     ...         ...           ...\n",
       "1335  2664.0  2669.0   28.360560         431.0\n",
       "1336  2671.0  2676.0   35.063615         590.0\n",
       "1337  2673.0  2675.0   35.487121         482.0\n",
       "1338  2674.0  2677.0   49.842188         859.0\n",
       "1339  2678.0  2679.0  110.992212        1341.0\n",
       "\n",
       "[1340 rows x 4 columns]"
      ]
     },
     "execution_count": 13,
     "metadata": {},
     "output_type": "execute_result"
    }
   ],
   "source": [
    "# \n",
    "pd.DataFrame(\n",
    "    linkage_ward,\n",
    "    columns = ['idx1', 'idx2', 'dist', 'sample_count'],\n",
    ")"
   ]
  },
  {
   "cell_type": "code",
   "execution_count": 10,
   "id": "4e706c09",
   "metadata": {},
   "outputs": [
    {
     "data": {
      "text/plain": [
       "0.5963282525033745"
      ]
     },
     "execution_count": 10,
     "metadata": {},
     "output_type": "execute_result"
    }
   ],
   "source": [
    "from scipy.cluster.hierarchy import cophenet\n",
    "from scipy.spatial.distance import pdist\n",
    "\n",
    "c, coph_dists = cophenet(linkage_ward, pdist(d.df_num))\n",
    "c\n"
   ]
  },
  {
   "cell_type": "markdown",
   "id": "444666a3",
   "metadata": {},
   "source": [
    "# REPEAT WITH PIPELINE"
   ]
  },
  {
   "cell_type": "code",
   "execution_count": 18,
   "id": "85701389",
   "metadata": {},
   "outputs": [],
   "source": [
    "from sklearn.decomposition import PCA\n",
    "from sklearn.preprocessing import StandardScaler\n",
    "from sklearn.preprocessing import MinMaxScaler\n",
    "from sklearn.pipeline import make_pipeline\n",
    "from sklearn.cluster import AgglomerativeClustering"
   ]
  },
  {
   "cell_type": "markdown",
   "id": "a1831b09",
   "metadata": {},
   "source": [
    "### [figure out best `k` to use] Impute + StandardScaler (+ MinMaxScaler)"
   ]
  },
  {
   "cell_type": "code",
   "execution_count": 21,
   "id": "efc707b7",
   "metadata": {},
   "outputs": [],
   "source": [
    "ac=AgglomerativeClustering(memory='mycachedir',compute_full_tree=True)"
   ]
  },
  {
   "cell_type": "code",
   "execution_count": 22,
   "id": "e87cff76",
   "metadata": {},
   "outputs": [
    {
     "data": {
      "text/plain": [
       "AgglomerativeClustering(compute_full_tree=True, memory='mycachedir')"
      ]
     },
     "execution_count": 22,
     "metadata": {},
     "output_type": "execute_result"
    }
   ],
   "source": [
    "ac.fit(d.df_num)"
   ]
  },
  {
   "cell_type": "code",
   "execution_count": 23,
   "id": "726049a2",
   "metadata": {},
   "outputs": [
    {
     "data": {
      "text/plain": [
       "array([1, 0], dtype=int64)"
      ]
     },
     "execution_count": 23,
     "metadata": {},
     "output_type": "execute_result"
    }
   ],
   "source": [
    "pd.Series(ac.labels_).unique()"
   ]
  },
  {
   "cell_type": "code",
   "execution_count": 25,
   "id": "2b8e83fd",
   "metadata": {},
   "outputs": [],
   "source": [
    "model = AgglomerativeClustering(n_clusters=5, affinity='euclidean', linkage='ward')\n",
    "model.fit(d.df_num)\n",
    "labels = model.labels_"
   ]
  },
  {
   "cell_type": "code",
   "execution_count": 26,
   "id": "608fa8c8",
   "metadata": {},
   "outputs": [
    {
     "data": {
      "text/plain": [
       "0    431\n",
       "1    348\n",
       "2    269\n",
       "4    159\n",
       "3    134\n",
       "dtype: int64"
      ]
     },
     "execution_count": 26,
     "metadata": {},
     "output_type": "execute_result"
    }
   ],
   "source": [
    "pd.Series(labels).value_counts()"
   ]
  }
 ],
 "metadata": {
  "kernelspec": {
   "display_name": "Python 3",
   "language": "python",
   "name": "python3"
  },
  "language_info": {
   "codemirror_mode": {
    "name": "ipython",
    "version": 3
   },
   "file_extension": ".py",
   "mimetype": "text/x-python",
   "name": "python",
   "nbconvert_exporter": "python",
   "pygments_lexer": "ipython3",
   "version": "3.8.10"
  }
 },
 "nbformat": 4,
 "nbformat_minor": 5
}
