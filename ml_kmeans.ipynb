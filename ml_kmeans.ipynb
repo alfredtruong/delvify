{
 "cells": [
  {
   "cell_type": "markdown",
   "id": "776b1627",
   "metadata": {},
   "source": [
    "# [TLDR] exploratory work with KMeans"
   ]
  },
  {
   "cell_type": "markdown",
   "id": "b68c198c",
   "metadata": {},
   "source": [
    "# [LONGER VERSION]\n",
    "- much like `AgglomerativeClustering`, `KMeans` seems more adept at identifying and encoding clusters than for my problem at hand"
   ]
  },
  {
   "cell_type": "markdown",
   "id": "d20d3547",
   "metadata": {},
   "source": [
    "# [RESULT] PASS"
   ]
  },
  {
   "cell_type": "markdown",
   "id": "aba59712",
   "metadata": {},
   "source": [
    "# IMPORTS"
   ]
  },
  {
   "cell_type": "code",
   "execution_count": null,
   "id": "d93d8ee2",
   "metadata": {},
   "outputs": [],
   "source": [
    "%run ipynb_setup.ipynb"
   ]
  },
  {
   "cell_type": "code",
   "execution_count": null,
   "id": "1966c595",
   "metadata": {},
   "outputs": [],
   "source": [
    "%run class_DataSet.ipynb"
   ]
  },
  {
   "cell_type": "markdown",
   "id": "2849b195",
   "metadata": {},
   "source": [
    "# GET DATASET"
   ]
  },
  {
   "cell_type": "code",
   "execution_count": null,
   "id": "ac49f7f8",
   "metadata": {
    "scrolled": false
   },
   "outputs": [],
   "source": [
    "d=Dataset()"
   ]
  },
  {
   "cell_type": "code",
   "execution_count": null,
   "id": "f02d912d",
   "metadata": {},
   "outputs": [],
   "source": [
    "d.raw.head(2) # raw data"
   ]
  },
  {
   "cell_type": "code",
   "execution_count": null,
   "id": "cb76a94f",
   "metadata": {},
   "outputs": [],
   "source": [
    "d.df.head(2) # numeric data"
   ]
  },
  {
   "cell_type": "markdown",
   "id": "46ef5bd0",
   "metadata": {},
   "source": [
    "# PREP DATA FOR K-MEANS"
   ]
  },
  {
   "cell_type": "code",
   "execution_count": null,
   "id": "4e4e5418",
   "metadata": {},
   "outputs": [],
   "source": [
    "import matplotlib.pyplot as plt\n",
    "from sklearn.cluster import KMeans"
   ]
  },
  {
   "cell_type": "markdown",
   "id": "bcf5a671",
   "metadata": {},
   "source": [
    "# SCALE NUMERICAL DATA"
   ]
  },
  {
   "cell_type": "markdown",
   "id": "6884fc91",
   "metadata": {},
   "source": [
    "### get"
   ]
  },
  {
   "cell_type": "code",
   "execution_count": null,
   "id": "617e6d95",
   "metadata": {},
   "outputs": [],
   "source": [
    "df_num = d.df.select_dtypes(include=['int64','float64'])\n",
    "df_num"
   ]
  },
  {
   "cell_type": "code",
   "execution_count": null,
   "id": "7c1fdbfd",
   "metadata": {},
   "outputs": [],
   "source": [
    "df_num.describe()"
   ]
  },
  {
   "cell_type": "markdown",
   "id": "0619255b",
   "metadata": {},
   "source": [
    "### impute nans"
   ]
  },
  {
   "cell_type": "code",
   "execution_count": null,
   "id": "a32ee03c",
   "metadata": {},
   "outputs": [],
   "source": [
    "df_num.isna().sum() # check nans"
   ]
  },
  {
   "cell_type": "code",
   "execution_count": null,
   "id": "4730d82b",
   "metadata": {},
   "outputs": [],
   "source": [
    "# look at rows with nans\n",
    "d.raw.select_dtypes(include=['int64','float64']).loc[\n",
    "    df_num[\n",
    "        d.raw['rating_five_count'].isna()\n",
    "    ].index\n",
    "]"
   ]
  },
  {
   "cell_type": "markdown",
   "id": "e218f3dd",
   "metadata": {},
   "source": [
    "##### manually impute"
   ]
  },
  {
   "cell_type": "code",
   "execution_count": null,
   "id": "5f2c621a",
   "metadata": {},
   "outputs": [],
   "source": [
    "mean_values=df_num.mean(axis=0) # populate nans with mean\n",
    "mean_values"
   ]
  },
  {
   "cell_type": "code",
   "execution_count": null,
   "id": "113be3d3",
   "metadata": {},
   "outputs": [],
   "source": [
    "df_num = df_num.fillna(mean_values)"
   ]
  },
  {
   "cell_type": "markdown",
   "id": "c95e1d25",
   "metadata": {},
   "source": [
    "##### sklearn impute"
   ]
  },
  {
   "cell_type": "code",
   "execution_count": null,
   "id": "85613430",
   "metadata": {},
   "outputs": [],
   "source": [
    "from sklearn.impute import SimpleImputer"
   ]
  },
  {
   "cell_type": "code",
   "execution_count": null,
   "id": "918765b0",
   "metadata": {},
   "outputs": [],
   "source": [
    "imp = SimpleImputer(missing_values=np.nan, strategy='mean') # impute with mean\n",
    "imputed = imp.fit_transform(df_num)\n",
    "imputed"
   ]
  },
  {
   "cell_type": "code",
   "execution_count": null,
   "id": "74454282",
   "metadata": {},
   "outputs": [],
   "source": [
    "df_num_imputed = pd.DataFrame(imputed,index=df_num.index,columns=df_num.columns)\n",
    "df_num_imputed.isna().sum() # check no more nans"
   ]
  },
  {
   "cell_type": "markdown",
   "id": "fca66254",
   "metadata": {},
   "source": [
    "### scale"
   ]
  },
  {
   "cell_type": "code",
   "execution_count": null,
   "id": "d7da8c14",
   "metadata": {},
   "outputs": [],
   "source": [
    "from sklearn.preprocessing import StandardScaler"
   ]
  },
  {
   "cell_type": "code",
   "execution_count": null,
   "id": "6c77acab",
   "metadata": {},
   "outputs": [],
   "source": [
    "scaler = StandardScaler()\n",
    "scaled_features = scaler.fit_transform(df_num_imputed)"
   ]
  },
  {
   "cell_type": "code",
   "execution_count": null,
   "id": "50e39d4c",
   "metadata": {},
   "outputs": [],
   "source": [
    "df_num_imputed_scaled = pd.DataFrame(scaled_features, index=df_num.index, columns=df_num.columns)"
   ]
  },
  {
   "cell_type": "code",
   "execution_count": null,
   "id": "bd7755cc",
   "metadata": {},
   "outputs": [],
   "source": [
    "df_num_imputed_scaled.describe()"
   ]
  },
  {
   "cell_type": "markdown",
   "id": "f2008152",
   "metadata": {},
   "source": [
    "### check no nans "
   ]
  },
  {
   "cell_type": "code",
   "execution_count": null,
   "id": "c45914c2",
   "metadata": {},
   "outputs": [],
   "source": [
    "df_num_imputed_scaled.isna().sum() # ensure no more nans"
   ]
  },
  {
   "cell_type": "markdown",
   "id": "fd447c89",
   "metadata": {},
   "source": [
    "# APPLY K-MEANS\n",
    "- partitional clustering\n",
    "- hierarchical clustering / agglomerative vs divisive\n",
    "- density-based clustering"
   ]
  },
  {
   "cell_type": "markdown",
   "id": "159e03a3",
   "metadata": {},
   "source": [
    "### figure out best `k` to use"
   ]
  },
  {
   "cell_type": "code",
   "execution_count": null,
   "id": "92a5aa22",
   "metadata": {},
   "outputs": [],
   "source": [
    "# A list holds the SSE values for each k\n",
    "sse     = {}\n",
    "k_range = range(1, 50) \n",
    "for k in k_range:\n",
    "    kmeans = KMeans(\n",
    "        init         = \"random\",\n",
    "        n_clusters   = k, \n",
    "        n_init       = 10,\n",
    "        max_iter     = 300,\n",
    "        random_state = 42\n",
    "    )\n",
    "    kmeans.fit(scaled_features)\n",
    "    sse[k] = kmeans.inertia_"
   ]
  },
  {
   "cell_type": "code",
   "execution_count": null,
   "id": "f52f9e8d",
   "metadata": {},
   "outputs": [],
   "source": [
    "pd.Series(sse).plot() # see how residual decays with increasing `k`, looks like 10 groups is pretty good"
   ]
  },
  {
   "cell_type": "markdown",
   "id": "8b3d4460",
   "metadata": {},
   "source": [
    "### do fit for single `k`"
   ]
  },
  {
   "cell_type": "code",
   "execution_count": null,
   "id": "5f8ec386",
   "metadata": {},
   "outputs": [],
   "source": [
    "kmeans = KMeans(\n",
    "    init         = \"random\",\n",
    "    n_clusters   = 15,\n",
    "    n_init       = 10,\n",
    "    max_iter     = 300,\n",
    "    random_state = 42\n",
    ")"
   ]
  },
  {
   "cell_type": "code",
   "execution_count": null,
   "id": "cfb34be1",
   "metadata": {},
   "outputs": [],
   "source": [
    "kmeans.fit(df_num_imputed_scaled) # apply kmeans on scaled features cos kmeans metric sensitive to scale"
   ]
  },
  {
   "cell_type": "code",
   "execution_count": null,
   "id": "1d6f6027",
   "metadata": {},
   "outputs": [],
   "source": [
    "kmeans.labels_ # predictions"
   ]
  },
  {
   "cell_type": "code",
   "execution_count": null,
   "id": "9203fb32",
   "metadata": {},
   "outputs": [],
   "source": [
    "pd.Series(kmeans.labels_).unique()"
   ]
  },
  {
   "cell_type": "code",
   "execution_count": null,
   "id": "dddafe17",
   "metadata": {},
   "outputs": [],
   "source": [
    "df_num_imputed_scaled.shape"
   ]
  },
  {
   "cell_type": "code",
   "execution_count": null,
   "id": "49906649",
   "metadata": {},
   "outputs": [],
   "source": [
    "len(pd.Series(kmeans.labels_).unique())"
   ]
  },
  {
   "cell_type": "markdown",
   "id": "a7895841",
   "metadata": {},
   "source": [
    "# REPEAT WITH PIPELINE"
   ]
  },
  {
   "cell_type": "code",
   "execution_count": null,
   "id": "031ec4f8",
   "metadata": {},
   "outputs": [],
   "source": [
    "from sklearn.decomposition import PCA\n",
    "from sklearn.preprocessing import StandardScaler\n",
    "from sklearn.preprocessing import MinMaxScaler\n",
    "from sklearn.pipeline import make_pipeline"
   ]
  },
  {
   "cell_type": "markdown",
   "id": "7917a195",
   "metadata": {},
   "source": [
    "### [figure out best `k` to use] Impute"
   ]
  },
  {
   "cell_type": "code",
   "execution_count": null,
   "id": "f5d899f4",
   "metadata": {},
   "outputs": [],
   "source": [
    "# pipeline\n",
    "pl = make_pipeline(\n",
    "    SimpleImputer(missing_values=np.nan, strategy='mean'), # PCA can't have nans\n",
    ")\n",
    "\n",
    "reduced = pl.fit_transform(df_num)\n",
    "\n",
    "# A list holds the SSE values for each k\n",
    "sse     = {}\n",
    "k_range = range(1, 50) \n",
    "for k in k_range:\n",
    "    kmeans = KMeans(\n",
    "        init         = \"random\",\n",
    "        n_clusters   = k, \n",
    "        n_init       = 10,\n",
    "        max_iter     = 300,\n",
    "        random_state = 42\n",
    "    )\n",
    "    kmeans.fit(reduced)\n",
    "    sse[k] = kmeans.inertia_\n",
    "\n",
    "pd.Series(sse).plot()"
   ]
  },
  {
   "cell_type": "markdown",
   "id": "1a061967",
   "metadata": {},
   "source": [
    "### [figure out best `k` to use] Impute + StandardScaler"
   ]
  },
  {
   "cell_type": "code",
   "execution_count": null,
   "id": "4baf90d8",
   "metadata": {},
   "outputs": [],
   "source": [
    "# pipeline\n",
    "pl = make_pipeline(\n",
    "    SimpleImputer(missing_values=np.nan, strategy='mean'), # PCA can't have nans\n",
    "    StandardScaler(), # apply standard scaler first, PCA super sensitive to scaling\n",
    ")\n",
    "\n",
    "reduced = pl.fit_transform(df_num)\n",
    "\n",
    "# A list holds the SSE values for each k\n",
    "sse     = {}\n",
    "k_range = range(1, 50) \n",
    "for k in k_range:\n",
    "    kmeans = KMeans(\n",
    "        init         = \"random\",\n",
    "        n_clusters   = k, \n",
    "        n_init       = 10,\n",
    "        max_iter     = 300,\n",
    "        random_state = 42\n",
    "    )\n",
    "    kmeans.fit(reduced)\n",
    "    sse[k] = kmeans.inertia_\n",
    "\n",
    "pd.Series(sse).plot()"
   ]
  },
  {
   "cell_type": "markdown",
   "id": "73356665",
   "metadata": {},
   "source": [
    "### [figure out best `k` to use] Impute + StandardScaler + PCA"
   ]
  },
  {
   "cell_type": "code",
   "execution_count": null,
   "id": "06141c98",
   "metadata": {},
   "outputs": [],
   "source": [
    "# pipeline\n",
    "pl = make_pipeline(\n",
    "    SimpleImputer(missing_values=np.nan, strategy='mean'), # PCA can't have nans\n",
    "    StandardScaler(), # apply standard scaler first, PCA super sensitive to scaling\n",
    "    PCA(n_components=5),\n",
    ")\n",
    "\n",
    "reduced = pl.fit_transform(df_num)\n",
    "\n",
    "# A list holds the SSE values for each k\n",
    "sse     = {}\n",
    "k_range = range(1, 50) \n",
    "for k in k_range:\n",
    "    kmeans = KMeans(\n",
    "        init         = \"random\",\n",
    "        n_clusters   = k, \n",
    "        n_init       = 10,\n",
    "        max_iter     = 300,\n",
    "        random_state = 42\n",
    "    )\n",
    "    kmeans.fit(reduced)\n",
    "    sse[k] = kmeans.inertia_\n",
    "\n",
    "pd.Series(sse).plot()"
   ]
  },
  {
   "cell_type": "markdown",
   "id": "1f493d54",
   "metadata": {},
   "source": [
    "### [figure out best `k` to use] Impute + StandardScaler + MinMaxScaler"
   ]
  },
  {
   "cell_type": "code",
   "execution_count": null,
   "id": "18512c79",
   "metadata": {},
   "outputs": [],
   "source": [
    "# pipeline\n",
    "pl = make_pipeline(\n",
    "    SimpleImputer(missing_values=np.nan, strategy='mean'), # PCA can't have nans\n",
    "    StandardScaler(), # apply standard scaler first, PCA super sensitive to scaling\n",
    "    MinMaxScaler(feature_range=(-1,1)), # consider apply minmax scaler on 1 sd of the data as well smooth outliers\n",
    ")\n",
    "\n",
    "reduced = pl.fit_transform(df_num)\n",
    "\n",
    "# A list holds the SSE values for each k\n",
    "sse     = {}\n",
    "k_range = range(1, 50) \n",
    "for k in k_range:\n",
    "    kmeans = KMeans(\n",
    "        init         = \"random\",\n",
    "        n_clusters   = k, \n",
    "        n_init       = 10,\n",
    "        max_iter     = 300,\n",
    "        random_state = 42\n",
    "    )\n",
    "    kmeans.fit(reduced)\n",
    "    sse[k] = kmeans.inertia_\n",
    "\n",
    "pd.Series(sse).plot()"
   ]
  },
  {
   "cell_type": "markdown",
   "id": "d6714483",
   "metadata": {},
   "source": [
    "### [figure out best `k` to use] Impute + StandardScaler + MinMaxScaler + PCA"
   ]
  },
  {
   "cell_type": "code",
   "execution_count": null,
   "id": "31520f30",
   "metadata": {},
   "outputs": [],
   "source": [
    "# pipeline\n",
    "pl = make_pipeline(\n",
    "    SimpleImputer(missing_values=np.nan, strategy='mean'), # PCA can't have nans\n",
    "    StandardScaler(), # apply standard scaler first, PCA super sensitive to scaling\n",
    "    MinMaxScaler(feature_range=(-1,1)), # consider apply minmax scaler on 1 sd of the data as well smooth outliers\n",
    "    PCA(n_components=5),\n",
    ")\n",
    "\n",
    "reduced = pl.fit_transform(df_num)\n",
    "\n",
    "# A list holds the SSE values for each k\n",
    "sse     = {}\n",
    "k_range = range(1, 50) \n",
    "for k in k_range:\n",
    "    kmeans = KMeans(\n",
    "        init         = \"random\",\n",
    "        n_clusters   = k, \n",
    "        n_init       = 10,\n",
    "        max_iter     = 300,\n",
    "        random_state = 42\n",
    "    )\n",
    "    kmeans.fit(reduced)\n",
    "    sse[k] = kmeans.inertia_\n",
    "\n",
    "pd.Series(sse).plot()"
   ]
  }
 ],
 "metadata": {
  "kernelspec": {
   "display_name": "Python 3",
   "language": "python",
   "name": "python3"
  },
  "language_info": {
   "codemirror_mode": {
    "name": "ipython",
    "version": 3
   },
   "file_extension": ".py",
   "mimetype": "text/x-python",
   "name": "python",
   "nbconvert_exporter": "python",
   "pygments_lexer": "ipython3",
   "version": "3.8.10"
  }
 },
 "nbformat": 4,
 "nbformat_minor": 5
}
