{
 "cells": [
  {
   "cell_type": "markdown",
   "id": "18c5f698",
   "metadata": {},
   "source": [
    "# PURPOSE"
   ]
  },
  {
   "cell_type": "code",
   "execution_count": null,
   "id": "f699184d",
   "metadata": {},
   "outputs": [],
   "source": [
    "'''\n",
    "spectral analysis of numeric data via pca\n",
    "'''\n",
    "None"
   ]
  },
  {
   "cell_type": "markdown",
   "id": "aba59712",
   "metadata": {},
   "source": [
    "# IMPORTS"
   ]
  },
  {
   "cell_type": "code",
   "execution_count": null,
   "id": "8e3ffc8a",
   "metadata": {},
   "outputs": [],
   "source": [
    "%run ipynb_setup.ipynb"
   ]
  },
  {
   "cell_type": "code",
   "execution_count": null,
   "id": "1966c595",
   "metadata": {},
   "outputs": [],
   "source": [
    "%run class_def.ipynb"
   ]
  },
  {
   "cell_type": "markdown",
   "id": "bbe30f19",
   "metadata": {},
   "source": [
    "# GET DATASET"
   ]
  },
  {
   "cell_type": "code",
   "execution_count": null,
   "id": "ac49f7f8",
   "metadata": {
    "scrolled": false
   },
   "outputs": [],
   "source": [
    "d=Dataset()"
   ]
  },
  {
   "cell_type": "markdown",
   "id": "3e573ce4",
   "metadata": {},
   "source": [
    "# PCA"
   ]
  },
  {
   "cell_type": "code",
   "execution_count": null,
   "id": "bfe3969d",
   "metadata": {},
   "outputs": [],
   "source": [
    "from sklearn.decomposition import PCA\n",
    "from sklearn.preprocessing import StandardScaler\n",
    "from sklearn.preprocessing import MinMaxScaler\n",
    "from sklearn.pipeline import make_pipeline"
   ]
  },
  {
   "cell_type": "code",
   "execution_count": null,
   "id": "8b005963",
   "metadata": {},
   "outputs": [],
   "source": [
    "df_num = d.df.select_dtypes(include=['int64','float64'])\n",
    "df_num"
   ]
  },
  {
   "cell_type": "markdown",
   "id": "29dd3983",
   "metadata": {},
   "source": [
    "### full decomposition"
   ]
  },
  {
   "cell_type": "code",
   "execution_count": null,
   "id": "c31e9b86",
   "metadata": {
    "scrolled": true
   },
   "outputs": [],
   "source": [
    "# pipeline\n",
    "pl = make_pipeline(\n",
    "    SimpleImputer(missing_values=np.nan, strategy='mean'), # PCA can't have nans\n",
    "    StandardScaler(), # apply standard scaler first, PCA super sensitive to scaling\n",
    "    PCA(),\n",
    ")\n",
    "pl.fit(df_num)\n",
    "\n",
    "pca=pl.named_steps['pca']\n",
    "\n",
    "pd.Series(pca.explained_variance_ratio_).cumsum().plot() # looks like 5/6 principal components already does the job of explaining the variance within the selected dataset"
   ]
  },
  {
   "cell_type": "markdown",
   "id": "4f426583",
   "metadata": {},
   "source": [
    "### try sticking in a MinMaxScaler as well to tighten up data"
   ]
  },
  {
   "cell_type": "code",
   "execution_count": null,
   "id": "af80f69b",
   "metadata": {
    "scrolled": true
   },
   "outputs": [],
   "source": [
    "# pipeline\n",
    "pl = make_pipeline(\n",
    "    SimpleImputer(missing_values=np.nan, strategy='mean'), # PCA can't have nans\n",
    "    StandardScaler(), # apply standard scaler first, PCA super sensitive to scaling\n",
    "    MinMaxScaler(feature_range=(-1,1)), # consider apply minmax scaler on 1 sd of the data as well smooth outliers\n",
    "    PCA(),\n",
    ")\n",
    "pl.fit(df_num)\n",
    "\n",
    "pca=pl.named_steps['pca']\n",
    "\n",
    "pd.Series(pca.explained_variance_ratio_).cumsum().plot() # looks like 5/6 principal components already does the job of explaining the variance within the selected dataset"
   ]
  },
  {
   "cell_type": "markdown",
   "id": "0cb0867e",
   "metadata": {},
   "source": [
    "### look at 2d projection"
   ]
  },
  {
   "cell_type": "code",
   "execution_count": null,
   "id": "f99b34d7",
   "metadata": {},
   "outputs": [],
   "source": [
    "# pipeline\n",
    "pl = make_pipeline(\n",
    "    SimpleImputer(missing_values=np.nan, strategy='mean'), # PCA can't have nans\n",
    "    StandardScaler(), # apply standard scaler first, PCA super sensitive to scaling\n",
    "    #MinMaxScaler(feature_range=(-1,1)), # consider apply minmax scaler on 1 sd of the data as well smooth outliers\n",
    "    PCA(n_components=2),\n",
    ")\n",
    "reduced = pl.fit_transform(df_num)\n",
    "\n",
    "# plot\n",
    "pd.DataFrame(reduced,columns=['ev1','ev2']).plot(kind='scatter',x='ev1',y='ev2')"
   ]
  },
  {
   "cell_type": "markdown",
   "id": "d7e84509",
   "metadata": {},
   "source": [
    "### 3d plot"
   ]
  },
  {
   "cell_type": "code",
   "execution_count": null,
   "id": "3d93438b",
   "metadata": {},
   "outputs": [],
   "source": [
    "from mpl_toolkits import mplot3d"
   ]
  },
  {
   "cell_type": "code",
   "execution_count": null,
   "id": "7b86e541",
   "metadata": {},
   "outputs": [],
   "source": [
    "# pipeline\n",
    "pl = make_pipeline(\n",
    "    SimpleImputer(missing_values=np.nan, strategy='mean'), # PCA can't have nans\n",
    "    StandardScaler(), # apply standard scaler first, PCA super sensitive to scaling\n",
    "    #MinMaxScaler(feature_range=(-1,1)), # consider apply minmax scaler on 1 sd of the data as well smooth outliers\n",
    "    PCA(n_components=3),\n",
    ")\n",
    "reduced = pl.fit_transform(df_num)\n",
    "\n",
    "# plot\n",
    "fig = plt.figure(figsize=(20,20)) \n",
    "ax = plt.axes(projection='3d')\n",
    "ax.scatter3D(reduced[:,0],reduced[:,1],reduced[:,2], 'gray') \n",
    "\n",
    "# plot to see if anything nice structures in 3d"
   ]
  },
  {
   "cell_type": "markdown",
   "id": "a253ad1a",
   "metadata": {},
   "source": [
    "### extract partial decomposition"
   ]
  },
  {
   "cell_type": "code",
   "execution_count": null,
   "id": "8d688965",
   "metadata": {},
   "outputs": [],
   "source": [
    "# pipeline\n",
    "pl = make_pipeline(\n",
    "    SimpleImputer(missing_values=np.nan, strategy='mean'), # PCA can't have nans\n",
    "    StandardScaler(), # apply standard scaler first, PCA super sensitive to scaling\n",
    "    #MinMaxScaler(feature_range=(-1,1)), # consider apply minmax scaler on 1 sd of the data as well smooth outliers\n",
    "    PCA(n_components=5),\n",
    ")\n",
    "reduced = pl.fit_transform(df_num)\n",
    "\n",
    "pd.DataFrame(reduced) # look at partial decomp"
   ]
  }
 ],
 "metadata": {
  "kernelspec": {
   "display_name": "Python 3",
   "language": "python",
   "name": "python3"
  },
  "language_info": {
   "codemirror_mode": {
    "name": "ipython",
    "version": 3
   },
   "file_extension": ".py",
   "mimetype": "text/x-python",
   "name": "python",
   "nbconvert_exporter": "python",
   "pygments_lexer": "ipython3",
   "version": "3.8.10"
  }
 },
 "nbformat": 4,
 "nbformat_minor": 5
}
