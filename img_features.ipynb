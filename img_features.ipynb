{
 "cells": [
  {
   "cell_type": "markdown",
   "id": "a9153b52",
   "metadata": {},
   "source": [
    "# [TLDR] greyscale and/or blur images to compare images with `psnr` metric found in `image-similarity-measures`"
   ]
  },
  {
   "cell_type": "markdown",
   "id": "082d1850",
   "metadata": {},
   "source": [
    "# [LONGER VERSION]"
   ]
  },
  {
   "cell_type": "markdown",
   "id": "b71381f5",
   "metadata": {},
   "source": [
    "- in this notebook I test out different image distance metrics available in `image_similarity_measures` considering their\n",
    "  - adeptness at finding similar images (by eyeballing results)\n",
    "  - its speed of compute (by timing big requests)  "
   ]
  },
  {
   "cell_type": "markdown",
   "id": "54b8b6b5",
   "metadata": {},
   "source": [
    "- re timing, some metrics\n",
    "  - take way too long to compute (`fsim` and `uiq`)\n",
    "  - others are much faster (`issm` and `ssim`)\n",
    "  - and some are even faster (`psnr`, `rmse`, `sam` and `sre`)"
   ]
  },
  {
   "cell_type": "markdown",
   "id": "4b349ac8",
   "metadata": {},
   "source": [
    "- with these metrics I noticed that\n",
    "    1. some products are listed multiple times (potential solution : throwing duplicate listings)\n",
    "    2. some images differ only in colour (potential solution : do image differences on grey scale)\n",
    "    3. some images differ only in image markups (potential solution : do image differences on blurred images)"
   ]
  },
  {
   "cell_type": "markdown",
   "id": "9048fece",
   "metadata": {},
   "source": [
    "- no metric seems to be significantly better so I settle with `psnr` as it is\n",
    "  - not only among the fastest of the choices available\n",
    "  - it's results are similar to other measures\n",
    "  - it's the package default\n",
    "  \n"
   ]
  },
  {
   "cell_type": "markdown",
   "id": "aba59712",
   "metadata": {},
   "source": [
    "# IMPORTS"
   ]
  },
  {
   "cell_type": "code",
   "execution_count": null,
   "id": "5e9a6464",
   "metadata": {},
   "outputs": [],
   "source": [
    "%run ipynb_setup.ipynb"
   ]
  },
  {
   "cell_type": "code",
   "execution_count": null,
   "id": "1966c595",
   "metadata": {},
   "outputs": [],
   "source": [
    "%run class_ImageSearch.ipynb"
   ]
  },
  {
   "cell_type": "code",
   "execution_count": null,
   "id": "d5732384",
   "metadata": {},
   "outputs": [],
   "source": [
    "import time"
   ]
  },
  {
   "cell_type": "markdown",
   "id": "bbe30f19",
   "metadata": {},
   "source": [
    "# time each type of similarity measure"
   ]
  },
  {
   "cell_type": "code",
   "execution_count": null,
   "id": "23bd4cc0",
   "metadata": {},
   "outputs": [],
   "source": [
    "###############################################################################\n",
    "# initialize\n",
    "###############################################################################\n",
    "im_search=ImageSearch(dataset=Dataset())"
   ]
  },
  {
   "cell_type": "code",
   "execution_count": null,
   "id": "ac49f7f8",
   "metadata": {
    "scrolled": false
   },
   "outputs": [],
   "source": [
    "'''\n",
    "###############################################################################\n",
    "# time each type measure singly\n",
    "###############################################################################\n",
    "st=time.time()\n",
    "sim_raw_do_fsim = im_search.img_similarity_tgt_locs(loc=3,do_fsim=True) # 1091.9723105430603\n",
    "et=time.time()\n",
    "print(et-st)\n",
    "\n",
    "st=time.time()\n",
    "sim_raw_do_issm = im_search.img_similarity_tgt_locs(loc=3,do_issm=True) # 43.62554740905762\n",
    "et=time.time()\n",
    "print(et-st)\n",
    "\n",
    "st=time.time()\n",
    "sim_raw_do_psnr = im_search.img_similarity_tgt_locs(loc=3,do_psnr=True) # 10.773506164550781\n",
    "et=time.time()\n",
    "print(et-st)\n",
    "\n",
    "st=time.time()\n",
    "sim_raw_do_rmse = im_search.img_similarity_tgt_locs(loc=3,do_rmse=True) # 14.554333209991455\n",
    "et=time.time()\n",
    "print(et-st)\n",
    "\n",
    "st=time.time()\n",
    "sim_raw_do_sam = im_search.img_similarity_tgt_locs(loc=3,do_sam=True) # 16.528496980667114\n",
    "et=time.time()\n",
    "print(et-st)\n",
    "\n",
    "st=time.time()\n",
    "sim_raw_do_sre = im_search.img_similarity_tgt_locs(loc=3,do_sre=True) # 12.952892541885376\n",
    "et=time.time()\n",
    "print(et-st)\n",
    "\n",
    "st=time.time()\n",
    "sim_raw_do_ssim = im_search.img_similarity_tgt_locs(loc=3,do_ssim=True) # 38.041083097457886\n",
    "et=time.time()\n",
    "print(et-st)\n",
    "\n",
    "st=time.time()\n",
    "sim_raw_do_uiq = im_search.img_similarity_tgt_locs(loc=3,do_uiq=True)\n",
    "et=time.time()\n",
    "print(et-st)\n",
    "'''\n",
    "None"
   ]
  },
  {
   "cell_type": "markdown",
   "id": "adc8cf7a",
   "metadata": {},
   "source": [
    "# time fastest couple of measures"
   ]
  },
  {
   "cell_type": "code",
   "execution_count": null,
   "id": "896f4c9f",
   "metadata": {
    "scrolled": false
   },
   "outputs": [],
   "source": [
    "###############################################################################\n",
    "# time fastest couple of measures\n",
    "###############################################################################\n",
    "st=time.time()\n",
    "sim_raw = im_search.img_similarity_tgt_locs(src_loc=3) # 83.10340213775635\n",
    "et=time.time()\n",
    "print(et-st)\n",
    "\n",
    "st=time.time()\n",
    "sim_blur = im_search.img_similarity_tgt_locs(src_loc=3,blur=True) # 80.66669917106628\n",
    "et=time.time()\n",
    "print(et-st)\n",
    "\n",
    "st=time.time()\n",
    "sim_grayscale = im_search.img_similarity_tgt_locs(src_loc=3,grayscale=True,plot_tgt=True) # 113.59069466590881\n",
    "et=time.time()\n",
    "print(et-st)\n",
    "\n",
    "st=time.time()\n",
    "sim_grayscale_blur = im_search.img_similarity_tgt_locs(src_loc=3,grayscale=True,blur=True) # 74.6272337436676\n",
    "et=time.time()\n",
    "print(et-st)"
   ]
  },
  {
   "cell_type": "markdown",
   "id": "e873c499",
   "metadata": {},
   "source": [
    "# plot `IMG_SIMILARITY_DF`s"
   ]
  },
  {
   "cell_type": "code",
   "execution_count": null,
   "id": "2ec35101",
   "metadata": {},
   "outputs": [],
   "source": [
    "im_search.img_similarity_plot(sim_raw)"
   ]
  },
  {
   "cell_type": "code",
   "execution_count": null,
   "id": "7d56b169",
   "metadata": {},
   "outputs": [],
   "source": [
    "im_search.img_similarity_plot(sim_blur)"
   ]
  },
  {
   "cell_type": "code",
   "execution_count": null,
   "id": "00a1c837",
   "metadata": {},
   "outputs": [],
   "source": [
    "im_search.img_similarity_plot(sim_grayscale)"
   ]
  },
  {
   "cell_type": "code",
   "execution_count": null,
   "id": "02d07a67",
   "metadata": {},
   "outputs": [],
   "source": [
    "im_search.img_similarity_plot(sim_grayscale_blur)"
   ]
  },
  {
   "cell_type": "markdown",
   "id": "697852c2",
   "metadata": {},
   "source": [
    "# look at top 10 chosen by each measure"
   ]
  },
  {
   "cell_type": "code",
   "execution_count": null,
   "id": "a9735b54",
   "metadata": {
    "scrolled": true
   },
   "outputs": [],
   "source": [
    "[im_search.dataset.get_product_picture(loc=x) for x in sim_grayscale_blur['psnr'].sort_values(ascending=False)[:10].index];"
   ]
  },
  {
   "cell_type": "code",
   "execution_count": null,
   "id": "0cb918c2",
   "metadata": {
    "scrolled": true
   },
   "outputs": [],
   "source": [
    "[im_search.dataset.get_product_picture(loc=x) for x in sim_grayscale_blur['rmse'].sort_values(ascending=True)[:10].index];"
   ]
  },
  {
   "cell_type": "code",
   "execution_count": null,
   "id": "a0612bcc",
   "metadata": {
    "scrolled": true
   },
   "outputs": [],
   "source": [
    "[im_search.dataset.get_product_picture(loc=x) for x in sim_grayscale_blur['sam'].sort_values(ascending=False)[:10].index];"
   ]
  },
  {
   "cell_type": "code",
   "execution_count": null,
   "id": "78497d18",
   "metadata": {
    "scrolled": true
   },
   "outputs": [],
   "source": [
    "[im_search.dataset.get_product_picture(loc=x) for x in sim_grayscale_blur['sre'].sort_values(ascending=False)[:10].index];"
   ]
  },
  {
   "cell_type": "code",
   "execution_count": null,
   "id": "6d7722f7",
   "metadata": {
    "scrolled": true
   },
   "outputs": [],
   "source": [
    "[im_search.dataset.get_product_picture(loc=x) for x in sim_grayscale_blur['ssim'].sort_values(ascending=False)[:10].index];"
   ]
  },
  {
   "cell_type": "markdown",
   "id": "b1983209",
   "metadata": {},
   "source": [
    "# try using all measures at the same time"
   ]
  },
  {
   "cell_type": "code",
   "execution_count": null,
   "id": "ea4fa521",
   "metadata": {},
   "outputs": [],
   "source": [
    "all_merged=pd.DataFrame(\n",
    "    [\n",
    "        sim_raw['psnr'].rank(ascending=False),\n",
    "        sim_raw['rmse'].rank(ascending=True),\n",
    "        sim_raw['sam'].rank(ascending=False),\n",
    "        sim_raw['sre'].rank(ascending=False),\n",
    "        sim_raw['ssim'].rank(ascending=False),\n",
    "    ],\n",
    ").transpose().min(axis=1)"
   ]
  },
  {
   "cell_type": "code",
   "execution_count": null,
   "id": "927189dc",
   "metadata": {
    "scrolled": false
   },
   "outputs": [],
   "source": [
    "(lambda x:[im_search.dataset.get_product_picture(loc=idx) for idx in x.sort_values(ascending=True)[:10].index])(sim_grayscale_blur['psnr'].rank(ascending=False));"
   ]
  },
  {
   "cell_type": "code",
   "execution_count": null,
   "id": "50c8810f",
   "metadata": {
    "scrolled": false
   },
   "outputs": [],
   "source": [
    "(lambda x:[im_search.dataset.get_product_picture(loc=idx) for idx in x.sort_values(ascending=True)[:10].index])(all_merged.sort_values(ascending=True));"
   ]
  }
 ],
 "metadata": {
  "kernelspec": {
   "display_name": "Python 3",
   "language": "python",
   "name": "python3"
  },
  "language_info": {
   "codemirror_mode": {
    "name": "ipython",
    "version": 3
   },
   "file_extension": ".py",
   "mimetype": "text/x-python",
   "name": "python",
   "nbconvert_exporter": "python",
   "pygments_lexer": "ipython3",
   "version": "3.8.10"
  }
 },
 "nbformat": 4,
 "nbformat_minor": 5
}
