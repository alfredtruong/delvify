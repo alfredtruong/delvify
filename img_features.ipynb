{
 "cells": [
  {
   "cell_type": "markdown",
   "id": "aba59712",
   "metadata": {},
   "source": [
    "# IMPORTS"
   ]
  },
  {
   "cell_type": "code",
   "execution_count": null,
   "id": "5e9a6464",
   "metadata": {},
   "outputs": [],
   "source": [
    "%run ipynb_setup.ipynb"
   ]
  },
  {
   "cell_type": "code",
   "execution_count": null,
   "id": "1966c595",
   "metadata": {},
   "outputs": [],
   "source": [
    "%run class_def.ipynb"
   ]
  },
  {
   "cell_type": "markdown",
   "id": "bbe30f19",
   "metadata": {},
   "source": [
    "# time each type of similarity measure"
   ]
  },
  {
   "cell_type": "code",
   "execution_count": null,
   "id": "ac49f7f8",
   "metadata": {
    "scrolled": false
   },
   "outputs": [],
   "source": [
    "###############################################################################\n",
    "# initialize\n",
    "###############################################################################\n",
    "d=Dataset()\n",
    "\n",
    "###############################################################################\n",
    "# time each type measure singly\n",
    "###############################################################################\n",
    "st=time.time()\n",
    "sim_raw_do_fsim = d.img_similarity_all(loc=3,do_fsim=True) # 1091.9723105430603\n",
    "et=time.time()\n",
    "print(et-st)\n",
    "\n",
    "st=time.time()\n",
    "sim_raw_do_issm = d.img_similarity_all(loc=3,do_issm=True) # 43.62554740905762\n",
    "et=time.time()\n",
    "print(et-st)\n",
    "\n",
    "st=time.time()\n",
    "sim_raw_do_psnr = d.img_similarity_all(loc=3,do_psnr=True) # 10.773506164550781\n",
    "et=time.time()\n",
    "print(et-st)\n",
    "\n",
    "st=time.time()\n",
    "sim_raw_do_rmse = d.img_similarity_all(loc=3,do_rmse=True) # 14.554333209991455\n",
    "et=time.time()\n",
    "print(et-st)\n",
    "\n",
    "st=time.time()\n",
    "sim_raw_do_sam = d.img_similarity_all(loc=3,do_sam=True) # 16.528496980667114\n",
    "et=time.time()\n",
    "print(et-st)\n",
    "\n",
    "st=time.time()\n",
    "sim_raw_do_sre = d.img_similarity_all(loc=3,do_sre=True) # 12.952892541885376\n",
    "et=time.time()\n",
    "print(et-st)\n",
    "\n",
    "st=time.time()\n",
    "sim_raw_do_ssim = d.img_similarity_all(loc=3,do_ssim=True) # 38.041083097457886\n",
    "et=time.time()\n",
    "print(et-st)\n",
    "\n",
    "st=time.time()\n",
    "sim_raw_do_uiq = d.img_similarity_all(loc=3,do_uiq=True)\n",
    "et=time.time()\n",
    "print(et-st)"
   ]
  },
  {
   "cell_type": "markdown",
   "id": "adc8cf7a",
   "metadata": {},
   "source": [
    "# time fastest couple of measures"
   ]
  },
  {
   "cell_type": "code",
   "execution_count": null,
   "id": "896f4c9f",
   "metadata": {
    "scrolled": false
   },
   "outputs": [],
   "source": [
    "###############################################################################\n",
    "# initialize\n",
    "###############################################################################\n",
    "d=Dataset()\n",
    "\n",
    "###############################################################################\n",
    "# time fastest couple of measures\n",
    "###############################################################################\n",
    "st=time.time()\n",
    "sim_raw = d.img_similarity_all(loc=3) # 83.10340213775635\n",
    "et=time.time()\n",
    "print(et-st)\n",
    "\n",
    "st=time.time()\n",
    "sim_blur = d.img_similarity_all(loc=3,blur=True) # 80.66669917106628\n",
    "et=time.time()\n",
    "print(et-st)\n",
    "\n",
    "st=time.time()\n",
    "sim_grayscale = d.img_similarity_all(loc=3,grayscale=True,plot_tgt=True) # 113.59069466590881\n",
    "et=time.time()\n",
    "print(et-st)\n",
    "\n",
    "st=time.time()\n",
    "sim_grayscale_blur = d.img_similarity_all(loc=3,grayscale=True,blur=True) # 74.6272337436676\n",
    "et=time.time()\n",
    "print(et-st)"
   ]
  },
  {
   "cell_type": "markdown",
   "id": "e873c499",
   "metadata": {},
   "source": [
    "# plot `IMG_SIMILARITY_DF`s"
   ]
  },
  {
   "cell_type": "code",
   "execution_count": null,
   "id": "201ba7f7",
   "metadata": {},
   "outputs": [],
   "source": [
    "d.img_similarity_plot(sim_raw)"
   ]
  },
  {
   "cell_type": "code",
   "execution_count": null,
   "id": "0adc3d73",
   "metadata": {},
   "outputs": [],
   "source": [
    "d.img_similarity_plot(sim_blur)"
   ]
  },
  {
   "cell_type": "code",
   "execution_count": null,
   "id": "fa75a15b",
   "metadata": {},
   "outputs": [],
   "source": [
    "d.img_similarity_plot(sim_grayscale)"
   ]
  },
  {
   "cell_type": "code",
   "execution_count": null,
   "id": "1e68e1e5",
   "metadata": {},
   "outputs": [],
   "source": [
    "d.img_similarity_plot(sim_grayscale_blur)"
   ]
  },
  {
   "cell_type": "markdown",
   "id": "697852c2",
   "metadata": {},
   "source": [
    "# look at top 10 chosen by each measure"
   ]
  },
  {
   "cell_type": "code",
   "execution_count": null,
   "id": "a9735b54",
   "metadata": {},
   "outputs": [],
   "source": [
    "[d.get_product_picture(loc=x) for x in sim_grayscale_blur['psnr'].sort_values(ascending=False)[:10].index];"
   ]
  },
  {
   "cell_type": "code",
   "execution_count": null,
   "id": "0cb918c2",
   "metadata": {},
   "outputs": [],
   "source": [
    "[d.get_product_picture(loc=x) for x in sim_grayscale_blur['rmse'].sort_values(ascending=True)[:10].index];"
   ]
  },
  {
   "cell_type": "code",
   "execution_count": null,
   "id": "a0612bcc",
   "metadata": {},
   "outputs": [],
   "source": [
    "[d.get_product_picture(loc=x) for x in sim_grayscale_blur['sam'].sort_values(ascending=False)[:10].index];"
   ]
  },
  {
   "cell_type": "code",
   "execution_count": null,
   "id": "78497d18",
   "metadata": {},
   "outputs": [],
   "source": [
    "[d.get_product_picture(loc=x) for x in sim_grayscale_blur['sre'].sort_values(ascending=False)[:10].index];"
   ]
  },
  {
   "cell_type": "code",
   "execution_count": null,
   "id": "6d7722f7",
   "metadata": {
    "scrolled": false
   },
   "outputs": [],
   "source": [
    "[d.get_product_picture(loc=x) for x in sim_grayscale_blur['ssim'].sort_values(ascending=False)[:10].index];"
   ]
  },
  {
   "cell_type": "markdown",
   "id": "b1983209",
   "metadata": {},
   "source": [
    "# try using all measures at the same time"
   ]
  },
  {
   "cell_type": "code",
   "execution_count": null,
   "id": "ea4fa521",
   "metadata": {},
   "outputs": [],
   "source": [
    "all_merged=pd.DataFrame(\n",
    "    [\n",
    "        sim_raw['psnr'].rank(ascending=False),\n",
    "        sim_raw['rmse'].rank(ascending=True),\n",
    "        sim_raw['sam'].rank(ascending=False),\n",
    "        sim_raw['sre'].rank(ascending=False),\n",
    "        sim_raw['ssim'].rank(ascending=False),\n",
    "    ],\n",
    ").transpose().min(axis=1)"
   ]
  },
  {
   "cell_type": "code",
   "execution_count": null,
   "id": "927189dc",
   "metadata": {
    "scrolled": true
   },
   "outputs": [],
   "source": [
    "(lambda x:[d.get_product_picture(loc=idx) for idx in x.sort_values(ascending=True)[:10].index])(sim_grayscale_blur['psnr'].rank(ascending=False));"
   ]
  },
  {
   "cell_type": "code",
   "execution_count": null,
   "id": "50c8810f",
   "metadata": {
    "scrolled": true
   },
   "outputs": [],
   "source": [
    "(lambda x:[d.get_product_picture(loc=idx) for idx in x.sort_values(ascending=True)[:10].index])(all_merged.sort_values(ascending=True));"
   ]
  }
 ],
 "metadata": {
  "kernelspec": {
   "display_name": "Python 3",
   "language": "python",
   "name": "python3"
  },
  "language_info": {
   "codemirror_mode": {
    "name": "ipython",
    "version": 3
   },
   "file_extension": ".py",
   "mimetype": "text/x-python",
   "name": "python",
   "nbconvert_exporter": "python",
   "pygments_lexer": "ipython3",
   "version": "3.8.10"
  }
 },
 "nbformat": 4,
 "nbformat_minor": 5
}
