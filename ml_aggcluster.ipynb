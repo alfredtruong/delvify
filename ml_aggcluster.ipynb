{
 "cells": [
  {
   "cell_type": "markdown",
   "id": "b68c198c",
   "metadata": {},
   "source": [
    "# PURPOSE"
   ]
  },
  {
   "cell_type": "code",
   "execution_count": null,
   "id": "d5ae540f",
   "metadata": {},
   "outputs": [],
   "source": [
    "'''\n",
    "use bottom-up approach\n",
    "'''\n",
    "None"
   ]
  },
  {
   "cell_type": "markdown",
   "id": "aba59712",
   "metadata": {},
   "source": [
    "# IMPORTS"
   ]
  },
  {
   "cell_type": "code",
   "execution_count": 3,
   "id": "d93d8ee2",
   "metadata": {},
   "outputs": [
    {
     "name": "stdout",
     "output_type": "stream",
     "text": [
      "The autoreload extension is already loaded. To reload it, use:\n",
      "  %reload_ext autoreload\n"
     ]
    },
    {
     "data": {
      "text/html": [
       "<style>.container { width:100% !important; }</style>"
      ],
      "text/plain": [
       "<IPython.core.display.HTML object>"
      ]
     },
     "metadata": {},
     "output_type": "display_data"
    }
   ],
   "source": [
    "%run ipynb_setup.ipynb"
   ]
  },
  {
   "cell_type": "code",
   "execution_count": 5,
   "id": "1966c595",
   "metadata": {},
   "outputs": [
    {
     "name": "stdout",
     "output_type": "stream",
     "text": [
      "The autoreload extension is already loaded. To reload it, use:\n",
      "  %reload_ext autoreload\n"
     ]
    },
    {
     "data": {
      "text/html": [
       "<style>.container { width:100% !important; }</style>"
      ],
      "text/plain": [
       "<IPython.core.display.HTML object>"
      ]
     },
     "metadata": {},
     "output_type": "display_data"
    }
   ],
   "source": [
    "%run class_def.ipynb"
   ]
  },
  {
   "cell_type": "markdown",
   "id": "0a9a0163",
   "metadata": {},
   "source": [
    "# GET DATA"
   ]
  },
  {
   "cell_type": "code",
   "execution_count": 6,
   "id": "975cde31",
   "metadata": {},
   "outputs": [
    {
     "data": {
      "text/html": [
       "<div>\n",
       "<style scoped>\n",
       "    .dataframe tbody tr th:only-of-type {\n",
       "        vertical-align: middle;\n",
       "    }\n",
       "\n",
       "    .dataframe tbody tr th {\n",
       "        vertical-align: top;\n",
       "    }\n",
       "\n",
       "    .dataframe thead th {\n",
       "        text-align: right;\n",
       "    }\n",
       "</style>\n",
       "<table border=\"1\" class=\"dataframe\">\n",
       "  <thead>\n",
       "    <tr style=\"text-align: right;\">\n",
       "      <th></th>\n",
       "      <th>price</th>\n",
       "      <th>retail_price</th>\n",
       "      <th>units_sold</th>\n",
       "      <th>rating</th>\n",
       "      <th>rating_count</th>\n",
       "      <th>rating_five_count</th>\n",
       "      <th>rating_four_count</th>\n",
       "      <th>rating_three_count</th>\n",
       "      <th>rating_two_count</th>\n",
       "      <th>rating_one_count</th>\n",
       "      <th>merchant_rating_count</th>\n",
       "      <th>merchant_rating</th>\n",
       "    </tr>\n",
       "  </thead>\n",
       "  <tbody>\n",
       "    <tr>\n",
       "      <th>0</th>\n",
       "      <td>16.00</td>\n",
       "      <td>14</td>\n",
       "      <td>100</td>\n",
       "      <td>3.76</td>\n",
       "      <td>54</td>\n",
       "      <td>26.0</td>\n",
       "      <td>8.0</td>\n",
       "      <td>10.0</td>\n",
       "      <td>1.0</td>\n",
       "      <td>9.0</td>\n",
       "      <td>568</td>\n",
       "      <td>4.128521</td>\n",
       "    </tr>\n",
       "    <tr>\n",
       "      <th>1</th>\n",
       "      <td>8.00</td>\n",
       "      <td>22</td>\n",
       "      <td>20000</td>\n",
       "      <td>3.45</td>\n",
       "      <td>6135</td>\n",
       "      <td>2269.0</td>\n",
       "      <td>1027.0</td>\n",
       "      <td>1118.0</td>\n",
       "      <td>644.0</td>\n",
       "      <td>1077.0</td>\n",
       "      <td>17752</td>\n",
       "      <td>3.899673</td>\n",
       "    </tr>\n",
       "    <tr>\n",
       "      <th>2</th>\n",
       "      <td>8.00</td>\n",
       "      <td>43</td>\n",
       "      <td>100</td>\n",
       "      <td>3.57</td>\n",
       "      <td>14</td>\n",
       "      <td>5.0</td>\n",
       "      <td>4.0</td>\n",
       "      <td>2.0</td>\n",
       "      <td>0.0</td>\n",
       "      <td>3.0</td>\n",
       "      <td>295</td>\n",
       "      <td>3.989831</td>\n",
       "    </tr>\n",
       "    <tr>\n",
       "      <th>3</th>\n",
       "      <td>8.00</td>\n",
       "      <td>8</td>\n",
       "      <td>5000</td>\n",
       "      <td>4.03</td>\n",
       "      <td>579</td>\n",
       "      <td>295.0</td>\n",
       "      <td>119.0</td>\n",
       "      <td>87.0</td>\n",
       "      <td>42.0</td>\n",
       "      <td>36.0</td>\n",
       "      <td>23832</td>\n",
       "      <td>4.020435</td>\n",
       "    </tr>\n",
       "    <tr>\n",
       "      <th>4</th>\n",
       "      <td>2.72</td>\n",
       "      <td>3</td>\n",
       "      <td>100</td>\n",
       "      <td>3.10</td>\n",
       "      <td>20</td>\n",
       "      <td>6.0</td>\n",
       "      <td>4.0</td>\n",
       "      <td>2.0</td>\n",
       "      <td>2.0</td>\n",
       "      <td>6.0</td>\n",
       "      <td>14482</td>\n",
       "      <td>4.001588</td>\n",
       "    </tr>\n",
       "    <tr>\n",
       "      <th>...</th>\n",
       "      <td>...</td>\n",
       "      <td>...</td>\n",
       "      <td>...</td>\n",
       "      <td>...</td>\n",
       "      <td>...</td>\n",
       "      <td>...</td>\n",
       "      <td>...</td>\n",
       "      <td>...</td>\n",
       "      <td>...</td>\n",
       "      <td>...</td>\n",
       "      <td>...</td>\n",
       "      <td>...</td>\n",
       "    </tr>\n",
       "    <tr>\n",
       "      <th>1565</th>\n",
       "      <td>3.00</td>\n",
       "      <td>8</td>\n",
       "      <td>100</td>\n",
       "      <td>3.79</td>\n",
       "      <td>57</td>\n",
       "      <td>25.0</td>\n",
       "      <td>10.0</td>\n",
       "      <td>13.0</td>\n",
       "      <td>3.0</td>\n",
       "      <td>6.0</td>\n",
       "      <td>4080</td>\n",
       "      <td>3.987990</td>\n",
       "    </tr>\n",
       "    <tr>\n",
       "      <th>1567</th>\n",
       "      <td>8.00</td>\n",
       "      <td>7</td>\n",
       "      <td>20000</td>\n",
       "      <td>4.25</td>\n",
       "      <td>3127</td>\n",
       "      <td>1919.0</td>\n",
       "      <td>580.0</td>\n",
       "      <td>304.0</td>\n",
       "      <td>128.0</td>\n",
       "      <td>196.0</td>\n",
       "      <td>16803</td>\n",
       "      <td>4.155032</td>\n",
       "    </tr>\n",
       "    <tr>\n",
       "      <th>1568</th>\n",
       "      <td>6.00</td>\n",
       "      <td>9</td>\n",
       "      <td>10000</td>\n",
       "      <td>4.08</td>\n",
       "      <td>1367</td>\n",
       "      <td>722.0</td>\n",
       "      <td>293.0</td>\n",
       "      <td>185.0</td>\n",
       "      <td>77.0</td>\n",
       "      <td>90.0</td>\n",
       "      <td>5316</td>\n",
       "      <td>4.224605</td>\n",
       "    </tr>\n",
       "    <tr>\n",
       "      <th>1570</th>\n",
       "      <td>5.00</td>\n",
       "      <td>19</td>\n",
       "      <td>100</td>\n",
       "      <td>3.71</td>\n",
       "      <td>59</td>\n",
       "      <td>24.0</td>\n",
       "      <td>15.0</td>\n",
       "      <td>8.0</td>\n",
       "      <td>3.0</td>\n",
       "      <td>9.0</td>\n",
       "      <td>210</td>\n",
       "      <td>3.961905</td>\n",
       "    </tr>\n",
       "    <tr>\n",
       "      <th>1572</th>\n",
       "      <td>7.00</td>\n",
       "      <td>6</td>\n",
       "      <td>100</td>\n",
       "      <td>4.07</td>\n",
       "      <td>14</td>\n",
       "      <td>8.0</td>\n",
       "      <td>3.0</td>\n",
       "      <td>1.0</td>\n",
       "      <td>0.0</td>\n",
       "      <td>2.0</td>\n",
       "      <td>7023</td>\n",
       "      <td>4.235939</td>\n",
       "    </tr>\n",
       "  </tbody>\n",
       "</table>\n",
       "<p>1341 rows × 12 columns</p>\n",
       "</div>"
      ],
      "text/plain": [
       "      price  retail_price  units_sold  rating  rating_count  \\\n",
       "0     16.00            14         100    3.76            54   \n",
       "1      8.00            22       20000    3.45          6135   \n",
       "2      8.00            43         100    3.57            14   \n",
       "3      8.00             8        5000    4.03           579   \n",
       "4      2.72             3         100    3.10            20   \n",
       "...     ...           ...         ...     ...           ...   \n",
       "1565   3.00             8         100    3.79            57   \n",
       "1567   8.00             7       20000    4.25          3127   \n",
       "1568   6.00             9       10000    4.08          1367   \n",
       "1570   5.00            19         100    3.71            59   \n",
       "1572   7.00             6         100    4.07            14   \n",
       "\n",
       "      rating_five_count  rating_four_count  rating_three_count  \\\n",
       "0                  26.0                8.0                10.0   \n",
       "1                2269.0             1027.0              1118.0   \n",
       "2                   5.0                4.0                 2.0   \n",
       "3                 295.0              119.0                87.0   \n",
       "4                   6.0                4.0                 2.0   \n",
       "...                 ...                ...                 ...   \n",
       "1565               25.0               10.0                13.0   \n",
       "1567             1919.0              580.0               304.0   \n",
       "1568              722.0              293.0               185.0   \n",
       "1570               24.0               15.0                 8.0   \n",
       "1572                8.0                3.0                 1.0   \n",
       "\n",
       "      rating_two_count  rating_one_count  merchant_rating_count  \\\n",
       "0                  1.0               9.0                    568   \n",
       "1                644.0            1077.0                  17752   \n",
       "2                  0.0               3.0                    295   \n",
       "3                 42.0              36.0                  23832   \n",
       "4                  2.0               6.0                  14482   \n",
       "...                ...               ...                    ...   \n",
       "1565               3.0               6.0                   4080   \n",
       "1567             128.0             196.0                  16803   \n",
       "1568              77.0              90.0                   5316   \n",
       "1570               3.0               9.0                    210   \n",
       "1572               0.0               2.0                   7023   \n",
       "\n",
       "      merchant_rating  \n",
       "0            4.128521  \n",
       "1            3.899673  \n",
       "2            3.989831  \n",
       "3            4.020435  \n",
       "4            4.001588  \n",
       "...               ...  \n",
       "1565         3.987990  \n",
       "1567         4.155032  \n",
       "1568         4.224605  \n",
       "1570         3.961905  \n",
       "1572         4.235939  \n",
       "\n",
       "[1341 rows x 12 columns]"
      ]
     },
     "execution_count": 6,
     "metadata": {},
     "output_type": "execute_result"
    }
   ],
   "source": [
    "d=Dataset()\n",
    "df_num = d.df.select_dtypes(include=['int64','float64'])\n",
    "df_num"
   ]
  },
  {
   "cell_type": "markdown",
   "id": "444666a3",
   "metadata": {},
   "source": [
    "# REPEAT WITH PIPELINE"
   ]
  },
  {
   "cell_type": "code",
   "execution_count": 17,
   "id": "85701389",
   "metadata": {},
   "outputs": [],
   "source": [
    "from sklearn.decomposition import PCA\n",
    "from sklearn.preprocessing import StandardScaler\n",
    "from sklearn.preprocessing import MinMaxScaler\n",
    "from sklearn.pipeline import make_pipeline\n",
    "from sklearn.cluster import AgglomerativeClustering\n",
    "from sklearn.model_selection import GridSearchCV"
   ]
  },
  {
   "cell_type": "code",
   "execution_count": 51,
   "id": "f7735ac7",
   "metadata": {},
   "outputs": [],
   "source": [
    "import pandas as pd\n",
    "import numpy as np\n",
    "import scipy.cluster.hierarchy as sch"
   ]
  },
  {
   "cell_type": "markdown",
   "id": "a1831b09",
   "metadata": {},
   "source": [
    "### [figure out best `k` to use] Impute + StandardScaler (+ MinMaxScaler)"
   ]
  },
  {
   "cell_type": "code",
   "execution_count": 37,
   "id": "e851e7ae",
   "metadata": {},
   "outputs": [],
   "source": [
    "# pipeline\n",
    "pl = make_pipeline(\n",
    "    SimpleImputer(missing_values=np.nan, strategy='mean'), # PCA can't have nans\n",
    "    StandardScaler(), # apply standard scaler first, PCA super sensitive to scaling\n",
    "    #MinMaxScaler(feature_range=(-1,1)), # consider apply minmax scaler on 1 sd of the data as well smooth outliers\n",
    ")\n",
    "reduced = pl.fit_transform(df_num)"
   ]
  },
  {
   "cell_type": "code",
   "execution_count": 34,
   "id": "efc707b7",
   "metadata": {},
   "outputs": [],
   "source": [
    "ac=AgglomerativeClustering(memory='mycachedir',compute_full_tree=True)"
   ]
  },
  {
   "cell_type": "code",
   "execution_count": 35,
   "id": "e87cff76",
   "metadata": {},
   "outputs": [
    {
     "data": {
      "text/plain": [
       "AgglomerativeClustering(compute_full_tree=True, memory='mycachedir')"
      ]
     },
     "execution_count": 35,
     "metadata": {},
     "output_type": "execute_result"
    }
   ],
   "source": [
    "ac.fit(reduced)"
   ]
  },
  {
   "cell_type": "code",
   "execution_count": 36,
   "id": "c9eb812b",
   "metadata": {},
   "outputs": [
    {
     "data": {
      "text/plain": [
       "AgglomerativeClustering(compute_full_tree=True, memory='mycachedir')"
      ]
     },
     "execution_count": 36,
     "metadata": {},
     "output_type": "execute_result"
    }
   ],
   "source": [
    "ac"
   ]
  },
  {
   "cell_type": "code",
   "execution_count": 33,
   "id": "726049a2",
   "metadata": {},
   "outputs": [
    {
     "data": {
      "text/plain": [
       "array([0, 1], dtype=int64)"
      ]
     },
     "execution_count": 33,
     "metadata": {},
     "output_type": "execute_result"
    }
   ],
   "source": [
    "pd.Series(ac.labels_).unique()"
   ]
  },
  {
   "cell_type": "code",
   "execution_count": 27,
   "id": "f6493b88",
   "metadata": {},
   "outputs": [
    {
     "ename": "AttributeError",
     "evalue": "'AgglomerativeClustering' object has no attribute 'plot'",
     "output_type": "error",
     "traceback": [
      "\u001b[1;31m---------------------------------------------------------------------------\u001b[0m",
      "\u001b[1;31mAttributeError\u001b[0m                            Traceback (most recent call last)",
      "\u001b[1;32m<ipython-input-27-2d0d95042201>\u001b[0m in \u001b[0;36m<module>\u001b[1;34m\u001b[0m\n\u001b[1;32m----> 1\u001b[1;33m \u001b[0mac\u001b[0m\u001b[1;33m.\u001b[0m\u001b[0mplot\u001b[0m\u001b[1;33m(\u001b[0m\u001b[1;33m)\u001b[0m\u001b[1;33m\u001b[0m\u001b[1;33m\u001b[0m\u001b[0m\n\u001b[0m",
      "\u001b[1;31mAttributeError\u001b[0m: 'AgglomerativeClustering' object has no attribute 'plot'"
     ]
    }
   ],
   "source": [
    "ac.plot()"
   ]
  },
  {
   "cell_type": "code",
   "execution_count": 22,
   "id": "e9511f0f",
   "metadata": {},
   "outputs": [
    {
     "ename": "NameError",
     "evalue": "name 'n_clusters' is not defined",
     "output_type": "error",
     "traceback": [
      "\u001b[1;31m---------------------------------------------------------------------------\u001b[0m",
      "\u001b[1;31mNameError\u001b[0m                                 Traceback (most recent call last)",
      "\u001b[1;32m<ipython-input-22-e5f653d1c6ef>\u001b[0m in \u001b[0;36m<module>\u001b[1;34m\u001b[0m\n\u001b[0;32m      1\u001b[0m classifier = GridSearchCV(\n\u001b[0;32m      2\u001b[0m     \u001b[0mac\u001b[0m\u001b[1;33m,\u001b[0m\u001b[1;33m\u001b[0m\u001b[1;33m\u001b[0m\u001b[0m\n\u001b[1;32m----> 3\u001b[1;33m     \u001b[1;33m{\u001b[0m\u001b[0mn_clusters\u001b[0m\u001b[1;33m:\u001b[0m \u001b[0mrange\u001b[0m\u001b[1;33m(\u001b[0m\u001b[1;36m2\u001b[0m\u001b[1;33m,\u001b[0m\u001b[1;36m6\u001b[0m\u001b[1;33m)\u001b[0m\u001b[1;33m}\u001b[0m\u001b[1;33m,\u001b[0m\u001b[1;33m\u001b[0m\u001b[1;33m\u001b[0m\u001b[0m\n\u001b[0m\u001b[0;32m      4\u001b[0m     \u001b[0mscoring\u001b[0m \u001b[1;33m=\u001b[0m \u001b[1;34m'adjusted_rand_score'\u001b[0m\u001b[1;33m,\u001b[0m\u001b[1;33m\u001b[0m\u001b[1;33m\u001b[0m\u001b[0m\n\u001b[0;32m      5\u001b[0m     \u001b[0mn_jobs\u001b[0m\u001b[1;33m=\u001b[0m\u001b[1;33m-\u001b[0m\u001b[1;36m1\u001b[0m\u001b[1;33m,\u001b[0m\u001b[1;33m\u001b[0m\u001b[1;33m\u001b[0m\u001b[0m\n",
      "\u001b[1;31mNameError\u001b[0m: name 'n_clusters' is not defined"
     ]
    }
   ],
   "source": [
    "classifier = GridSearchCV(\n",
    "    ac,\n",
    "    {n_clusters : range(2,6)},\n",
    "    scoring = 'adjusted_rand_score',\n",
    "    n_jobs=-1,\n",
    "    verbose=2,\n",
    ")\n",
    "classifier.fit(reduced)"
   ]
  },
  {
   "cell_type": "code",
   "execution_count": 7,
   "id": "2b8e83fd",
   "metadata": {},
   "outputs": [],
   "source": [
    "model = AgglomerativeClustering(n_clusters=5, affinity='euclidean', linkage='ward')\n",
    "model.fit(reduced)\n",
    "labels = model.labels_"
   ]
  },
  {
   "cell_type": "code",
   "execution_count": 11,
   "id": "608fa8c8",
   "metadata": {},
   "outputs": [
    {
     "data": {
      "text/plain": [
       "1    661\n",
       "4    283\n",
       "2    208\n",
       "3    139\n",
       "0     50\n",
       "dtype: int64"
      ]
     },
     "execution_count": 11,
     "metadata": {},
     "output_type": "execute_result"
    }
   ],
   "source": [
    "pd.Series(labels).value_counts()"
   ]
  },
  {
   "cell_type": "markdown",
   "id": "0db6b815",
   "metadata": {},
   "source": [
    "### [figure out best `k` to use] Impute + StandardScaler + MinMaxScaler + PCA"
   ]
  },
  {
   "cell_type": "code",
   "execution_count": 60,
   "id": "26e7d0f0",
   "metadata": {},
   "outputs": [
    {
     "data": {
      "text/plain": [
       "<AxesSubplot:>"
      ]
     },
     "execution_count": 60,
     "metadata": {},
     "output_type": "execute_result"
    },
    {
     "data": {
      "image/png": "[encoded data removed]",
      "text/plain": [
       "<Figure size 432x288 with 1 Axes>"
      ]
     },
     "metadata": {
      "needs_background": "light"
     },
     "output_type": "display_data"
    }
   ],
   "source": [
    "# pipeline\n",
    "pl = make_pipeline(\n",
    "    SimpleImputer(missing_values=np.nan, strategy='mean'), # PCA can't have nans\n",
    "    StandardScaler(), # apply standard scaler first, PCA super sensitive to scaling\n",
    "    MinMaxScaler(feature_range=(-1,1)), # consider apply minmax scaler on 1 sd of the data as well smooth outliers\n",
    "    PCA(n_components=5),\n",
    ")\n",
    "\n",
    "reduced = pl.fit_transform(df_num)\n",
    "\n",
    "# A list holds the SSE values for each k\n",
    "sse     = {}\n",
    "k_range = range(1, 50) \n",
    "for k in k_range:\n",
    "    kmeans = KMeans(\n",
    "        init         = \"random\",\n",
    "        n_clusters   = k, \n",
    "        n_init       = 10,\n",
    "        max_iter     = 300,\n",
    "        random_state = 42\n",
    "    )\n",
    "    kmeans.fit(reduced)\n",
    "    sse[k] = kmeans.inertia_\n",
    "\n",
    "pd.Series(sse).plot()"
   ]
  }
 ],
 "metadata": {
  "kernelspec": {
   "display_name": "Python 3",
   "language": "python",
   "name": "python3"
  },
  "language_info": {
   "codemirror_mode": {
    "name": "ipython",
    "version": 3
   },
   "file_extension": ".py",
   "mimetype": "text/x-python",
   "name": "python",
   "nbconvert_exporter": "python",
   "pygments_lexer": "ipython3",
   "version": "3.8.10"
  }
 },
 "nbformat": 4,
 "nbformat_minor": 5
}
