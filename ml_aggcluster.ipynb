{
 "cells": [
  {
   "cell_type": "markdown",
   "id": "cda69fd6",
   "metadata": {},
   "source": [
    "# [TLDR] exploratory work with AgglomerativeClustering"
   ]
  },
  {
   "cell_type": "markdown",
   "id": "c6de915a",
   "metadata": {},
   "source": [
    "# [LONGER VERSION]\n",
    "- eventually decided against\n",
    "- is more for cluster identification\n",
    "- can't really do much with clusters that CAN be identified for our problem"
   ]
  },
  {
   "cell_type": "markdown",
   "id": "b68c198c",
   "metadata": {},
   "source": [
    "# [RESULT] PASS"
   ]
  },
  {
   "cell_type": "markdown",
   "id": "aba59712",
   "metadata": {},
   "source": [
    "# IMPORTS"
   ]
  },
  {
   "cell_type": "code",
   "execution_count": null,
   "id": "d93d8ee2",
   "metadata": {},
   "outputs": [],
   "source": [
    "%run ipynb_setup.ipynb"
   ]
  },
  {
   "cell_type": "code",
   "execution_count": null,
   "id": "1966c595",
   "metadata": {},
   "outputs": [],
   "source": [
    "%run class_DataSet.ipynb"
   ]
  },
  {
   "cell_type": "markdown",
   "id": "0a9a0163",
   "metadata": {},
   "source": [
    "# GET DATA"
   ]
  },
  {
   "cell_type": "code",
   "execution_count": null,
   "id": "834973ff",
   "metadata": {},
   "outputs": [],
   "source": [
    "from sklearn.cluster import AgglomerativeClustering\n",
    "import scipy.cluster.hierarchy as shc"
   ]
  },
  {
   "cell_type": "code",
   "execution_count": null,
   "id": "94711170",
   "metadata": {
    "scrolled": true
   },
   "outputs": [],
   "source": [
    "d=Dataset()\n",
    "d.df_num"
   ]
  },
  {
   "cell_type": "markdown",
   "id": "2e4a5b5b",
   "metadata": {},
   "source": [
    "### with scipi"
   ]
  },
  {
   "cell_type": "code",
   "execution_count": null,
   "id": "ecdda218",
   "metadata": {},
   "outputs": [],
   "source": [
    "linkage_ward = shc.linkage(d.df_num, method ='ward') # perform clustering with `ward` distance metric\n",
    "\n",
    "# plot\n",
    "plt.figure(figsize=(25, 10))\n",
    "plt.title('Hierarchical Clustering Dendrogram')\n",
    "plt.xlabel('sample index')\n",
    "plt.ylabel('distance')\n",
    "shc.dendrogram(linkage_ward)"
   ]
  },
  {
   "cell_type": "code",
   "execution_count": null,
   "id": "b024fbd0",
   "metadata": {},
   "outputs": [],
   "source": [
    "pd.DataFrame(\n",
    "    linkage_ward,\n",
    "    columns = ['idx1', 'idx2', 'dist', 'sample_count'],\n",
    ")"
   ]
  },
  {
   "cell_type": "code",
   "execution_count": null,
   "id": "74111d70",
   "metadata": {},
   "outputs": [],
   "source": [
    "from scipy.cluster.hierarchy import cophenet\n",
    "from scipy.spatial.distance import pdist\n",
    "\n",
    "c, coph_dists = cophenet(linkage_ward, pdist(d.df_num))\n",
    "c\n"
   ]
  },
  {
   "cell_type": "markdown",
   "id": "a4d5d154",
   "metadata": {},
   "source": [
    "### with sklearn"
   ]
  },
  {
   "cell_type": "code",
   "execution_count": null,
   "id": "efc707b7",
   "metadata": {},
   "outputs": [],
   "source": [
    "ac=AgglomerativeClustering(memory='mycachedir',compute_full_tree=True)"
   ]
  },
  {
   "cell_type": "code",
   "execution_count": null,
   "id": "e87cff76",
   "metadata": {},
   "outputs": [],
   "source": [
    "ac.fit(d.df_num)"
   ]
  },
  {
   "cell_type": "code",
   "execution_count": null,
   "id": "726049a2",
   "metadata": {},
   "outputs": [],
   "source": [
    "pd.Series(ac.labels_).unique()"
   ]
  },
  {
   "cell_type": "code",
   "execution_count": null,
   "id": "2b8e83fd",
   "metadata": {},
   "outputs": [],
   "source": [
    "model = AgglomerativeClustering(n_clusters=5, affinity='euclidean', linkage='ward')\n",
    "model.fit(d.df_num)\n",
    "labels = model.labels_"
   ]
  },
  {
   "cell_type": "code",
   "execution_count": null,
   "id": "608fa8c8",
   "metadata": {},
   "outputs": [],
   "source": [
    "pd.Series(labels).value_counts()"
   ]
  }
 ],
 "metadata": {
  "kernelspec": {
   "display_name": "Python 3",
   "language": "python",
   "name": "python3"
  },
  "language_info": {
   "codemirror_mode": {
    "name": "ipython",
    "version": 3
   },
   "file_extension": ".py",
   "mimetype": "text/x-python",
   "name": "python",
   "nbconvert_exporter": "python",
   "pygments_lexer": "ipython3",
   "version": "3.8.10"
  }
 },
 "nbformat": 4,
 "nbformat_minor": 5
}
