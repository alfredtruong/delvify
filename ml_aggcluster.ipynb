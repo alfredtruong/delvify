{
 "cells": [
  {
   "cell_type": "markdown",
   "id": "b68c198c",
   "metadata": {},
   "source": [
    "# PURPOSE"
   ]
  },
  {
   "cell_type": "code",
   "execution_count": null,
   "id": "d5ae540f",
   "metadata": {},
   "outputs": [],
   "source": [
    "'''\n",
    "use bottom-up approach\n",
    "'''\n",
    "None"
   ]
  },
  {
   "cell_type": "markdown",
   "id": "aba59712",
   "metadata": {},
   "source": [
    "# IMPORTS"
   ]
  },
  {
   "cell_type": "code",
   "execution_count": null,
   "id": "d93d8ee2",
   "metadata": {},
   "outputs": [],
   "source": [
    "%run ipynb_setup.ipynb"
   ]
  },
  {
   "cell_type": "code",
   "execution_count": null,
   "id": "1966c595",
   "metadata": {},
   "outputs": [],
   "source": [
    "%run class_def.ipynb"
   ]
  },
  {
   "cell_type": "markdown",
   "id": "0a9a0163",
   "metadata": {},
   "source": [
    "# GET DATA"
   ]
  },
  {
   "cell_type": "code",
   "execution_count": null,
   "id": "975cde31",
   "metadata": {},
   "outputs": [],
   "source": [
    "d=Dataset()\n",
    "df_num = d.df.select_dtypes(include=['int64','float64'])\n",
    "df_num"
   ]
  },
  {
   "cell_type": "markdown",
   "id": "444666a3",
   "metadata": {},
   "source": [
    "# REPEAT WITH PIPELINE"
   ]
  },
  {
   "cell_type": "code",
   "execution_count": null,
   "id": "85701389",
   "metadata": {},
   "outputs": [],
   "source": [
    "from sklearn.decomposition import PCA\n",
    "from sklearn.preprocessing import StandardScaler\n",
    "from sklearn.preprocessing import MinMaxScaler\n",
    "from sklearn.pipeline import make_pipeline\n",
    "from sklearn.cluster import AgglomerativeClustering\n",
    "from sklearn.model_selection import GridSearchCV"
   ]
  },
  {
   "cell_type": "code",
   "execution_count": null,
   "id": "f7735ac7",
   "metadata": {},
   "outputs": [],
   "source": [
    "import pandas as pd\n",
    "import numpy as np\n",
    "import scipy.cluster.hierarchy as sch"
   ]
  },
  {
   "cell_type": "markdown",
   "id": "a1831b09",
   "metadata": {},
   "source": [
    "### [figure out best `k` to use] Impute + StandardScaler (+ MinMaxScaler)"
   ]
  },
  {
   "cell_type": "code",
   "execution_count": null,
   "id": "e851e7ae",
   "metadata": {},
   "outputs": [],
   "source": [
    "# pipeline\n",
    "pl = make_pipeline(\n",
    "    SimpleImputer(missing_values=np.nan, strategy='mean'), # PCA can't have nans\n",
    "    StandardScaler(), # apply standard scaler first, PCA super sensitive to scaling\n",
    "    #MinMaxScaler(feature_range=(-1,1)), # consider apply minmax scaler on 1 sd of the data as well smooth outliers\n",
    ")\n",
    "reduced = pl.fit_transform(df_num)"
   ]
  },
  {
   "cell_type": "code",
   "execution_count": null,
   "id": "efc707b7",
   "metadata": {},
   "outputs": [],
   "source": [
    "ac=AgglomerativeClustering(memory='mycachedir',compute_full_tree=True)"
   ]
  },
  {
   "cell_type": "code",
   "execution_count": null,
   "id": "e87cff76",
   "metadata": {},
   "outputs": [],
   "source": [
    "ac.fit(reduced)"
   ]
  },
  {
   "cell_type": "code",
   "execution_count": null,
   "id": "c9eb812b",
   "metadata": {},
   "outputs": [],
   "source": [
    "ac"
   ]
  },
  {
   "cell_type": "code",
   "execution_count": null,
   "id": "726049a2",
   "metadata": {},
   "outputs": [],
   "source": [
    "pd.Series(ac.labels_).unique()"
   ]
  },
  {
   "cell_type": "code",
   "execution_count": null,
   "id": "f6493b88",
   "metadata": {},
   "outputs": [],
   "source": [
    "ac.plot()"
   ]
  },
  {
   "cell_type": "code",
   "execution_count": null,
   "id": "e9511f0f",
   "metadata": {},
   "outputs": [],
   "source": [
    "classifier = GridSearchCV(\n",
    "    ac,\n",
    "    {n_clusters : range(2,6)},\n",
    "    scoring = 'adjusted_rand_score',\n",
    "    n_jobs=-1,\n",
    "    verbose=2,\n",
    ")\n",
    "classifier.fit(reduced)"
   ]
  },
  {
   "cell_type": "code",
   "execution_count": null,
   "id": "2b8e83fd",
   "metadata": {},
   "outputs": [],
   "source": [
    "model = AgglomerativeClustering(n_clusters=5, affinity='euclidean', linkage='ward')\n",
    "model.fit(reduced)\n",
    "labels = model.labels_"
   ]
  },
  {
   "cell_type": "code",
   "execution_count": null,
   "id": "608fa8c8",
   "metadata": {},
   "outputs": [],
   "source": [
    "pd.Series(labels).value_counts()"
   ]
  },
  {
   "cell_type": "markdown",
   "id": "0db6b815",
   "metadata": {},
   "source": [
    "### [figure out best `k` to use] Impute + StandardScaler + MinMaxScaler + PCA"
   ]
  },
  {
   "cell_type": "code",
   "execution_count": null,
   "id": "26e7d0f0",
   "metadata": {},
   "outputs": [],
   "source": [
    "# pipeline\n",
    "pl = make_pipeline(\n",
    "    SimpleImputer(missing_values=np.nan, strategy='mean'), # PCA can't have nans\n",
    "    StandardScaler(), # apply standard scaler first, PCA super sensitive to scaling\n",
    "    MinMaxScaler(feature_range=(-1,1)), # consider apply minmax scaler on 1 sd of the data as well smooth outliers\n",
    "    PCA(n_components=5),\n",
    ")\n",
    "\n",
    "reduced = pl.fit_transform(df_num)\n",
    "\n",
    "# A list holds the SSE values for each k\n",
    "sse     = {}\n",
    "k_range = range(1, 50) \n",
    "for k in k_range:\n",
    "    kmeans = KMeans(\n",
    "        init         = \"random\",\n",
    "        n_clusters   = k, \n",
    "        n_init       = 10,\n",
    "        max_iter     = 300,\n",
    "        random_state = 42\n",
    "    )\n",
    "    kmeans.fit(reduced)\n",
    "    sse[k] = kmeans.inertia_\n",
    "\n",
    "pd.Series(sse).plot()"
   ]
  }
 ],
 "metadata": {
  "kernelspec": {
   "display_name": "Python 3",
   "language": "python",
   "name": "python3"
  },
  "language_info": {
   "codemirror_mode": {
    "name": "ipython",
    "version": 3
   },
   "file_extension": ".py",
   "mimetype": "text/x-python",
   "name": "python",
   "nbconvert_exporter": "python",
   "pygments_lexer": "ipython3",
   "version": "3.8.10"
  }
 },
 "nbformat": 4,
 "nbformat_minor": 5
}
