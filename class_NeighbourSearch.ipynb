{
 "cells": [
  {
   "cell_type": "markdown",
   "id": "aba59712",
   "metadata": {},
   "source": [
    "# IMPORTS"
   ]
  },
  {
   "cell_type": "code",
   "execution_count": null,
   "id": "1966c595",
   "metadata": {},
   "outputs": [],
   "source": [
    "%run ipynb_setup.ipynb"
   ]
  },
  {
   "cell_type": "code",
   "execution_count": null,
   "id": "2cfba2f5",
   "metadata": {},
   "outputs": [],
   "source": [
    "%run class_Dataset.ipynb"
   ]
  },
  {
   "cell_type": "code",
   "execution_count": null,
   "id": "b8a3426d",
   "metadata": {},
   "outputs": [],
   "source": [
    "from typing import List\n",
    "from sklearn.neighbors import NearestNeighbors"
   ]
  },
  {
   "cell_type": "markdown",
   "id": "cbf7428c",
   "metadata": {},
   "source": [
    "# CLASS DEF"
   ]
  },
  {
   "cell_type": "code",
   "execution_count": null,
   "id": "c907a8ea",
   "metadata": {},
   "outputs": [],
   "source": [
    "class NeighbourSearch():\n",
    "\n",
    "    def __init__(\n",
    "        self,\n",
    "        dataset   : Dataset,\n",
    "        ) -> None :\n",
    "\n",
    "        self.dataset   = dataset\n",
    "        self.model     = NearestNeighbors().fit(self.dataset.df_num)\n",
    "        \n",
    "    def get_n_nearest_from_locs(\n",
    "        self,\n",
    "        n    : int,\n",
    "        locs : List[int],\n",
    "        ):\n",
    "        # return nearest_n neighbors from each element of locs \n",
    "        distances,indices=self.model.kneighbors(\n",
    "            self.dataset.df_num.loc[locs],\n",
    "            n_neighbors=n,\n",
    "        )\n",
    "        \n",
    "        return distances,indices"
   ]
  },
  {
   "cell_type": "code",
   "execution_count": null,
   "id": "bad7381e",
   "metadata": {},
   "outputs": [],
   "source": [
    "neighbour_search=NeighbourSearch(dataset=Dataset())\n",
    "distances,indices=neighbour_search.get_n_nearest_from_locs(n=5,locs=[0,1])\n"
   ]
  },
  {
   "cell_type": "code",
   "execution_count": null,
   "id": "57d238ec",
   "metadata": {},
   "outputs": [],
   "source": [
    "1/(1+distances)"
   ]
  },
  {
   "cell_type": "code",
   "execution_count": null,
   "id": "08edcf8a",
   "metadata": {},
   "outputs": [],
   "source": [
    "distances"
   ]
  }
 ],
 "metadata": {
  "kernelspec": {
   "display_name": "Python 3",
   "language": "python",
   "name": "python3"
  },
  "language_info": {
   "codemirror_mode": {
    "name": "ipython",
    "version": 3
   },
   "file_extension": ".py",
   "mimetype": "text/x-python",
   "name": "python",
   "nbconvert_exporter": "python",
   "pygments_lexer": "ipython3",
   "version": "3.8.10"
  }
 },
 "nbformat": 4,
 "nbformat_minor": 5
}
