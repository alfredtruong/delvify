{
 "cells": [
  {
   "cell_type": "markdown",
   "id": "dab6305e",
   "metadata": {},
   "source": [
    "# [TLDR] given several `home planets`, we simultaneously look outwards from all home worlds to find the `nearest` new `neighbouring planets` to our civilization\n",
    "\n",
    "- `home planets`\n",
    "  - they denote products that match our search tokens\n",
    "  - as they match on search tokens I consider them pretty good starting locations to look for new products from\n",
    "  - these new products don't need to have token matches, just to be \"similar\"\n",
    "- `neighbouring planets`\n",
    "  - they denote products that didn't satisfy our original search token request\n",
    "  - being \"close\" in numerical space is prob not a bad place to look for additional products\n",
    "- `nearest`\n",
    "  - this nearness in numerical sense, i.e. making use of numerical attributes in our dataset\n",
    "  - numerical attributes deemed to be useful (in some sense) are cleaned up and normalized on which we can apply a numeric metric for nearness\n",
    "    - nan's are imputed (to avoid throwing away products, imputed with population mean)\n",
    "    - log-transformations are done to make the data more normalized\n",
    "    - means are stripped and variances normalized to put all attributes into a similar scale (as the numeric metric is sensitive to scale)"
   ]
  },
  {
   "cell_type": "markdown",
   "id": "aba59712",
   "metadata": {},
   "source": [
    "# IMPORTS"
   ]
  },
  {
   "cell_type": "code",
   "execution_count": null,
   "id": "1966c595",
   "metadata": {},
   "outputs": [],
   "source": [
    "%run ipynb_setup.ipynb"
   ]
  },
  {
   "cell_type": "code",
   "execution_count": null,
   "id": "2cfba2f5",
   "metadata": {},
   "outputs": [],
   "source": [
    "%run class_Dataset.ipynb"
   ]
  },
  {
   "cell_type": "code",
   "execution_count": null,
   "id": "b8a3426d",
   "metadata": {},
   "outputs": [],
   "source": [
    "from typing import List\n",
    "from sklearn.neighbors import NearestNeighbors"
   ]
  },
  {
   "cell_type": "markdown",
   "id": "cbf7428c",
   "metadata": {},
   "source": [
    "# CLASS DEF"
   ]
  },
  {
   "cell_type": "code",
   "execution_count": null,
   "id": "c907a8ea",
   "metadata": {},
   "outputs": [],
   "source": [
    "class NeighbourSearch():\n",
    "\n",
    "    def __init__(\n",
    "        self,\n",
    "        dataset   : Dataset,\n",
    "        ) -> None :\n",
    "\n",
    "        self.dataset   = dataset\n",
    "        self.model     = NearestNeighbors().fit(self.dataset.df_num)\n",
    "    \n",
    "    # given list of locs, return a larger list of size `n` x len(locs) of locs that are closest to original locs\n",
    "    def get_n_nearest_from_locs(\n",
    "        self,\n",
    "        n_nearest : int,\n",
    "        locs      : List[int],\n",
    "        ):\n",
    "        # get nearest_n neighbors from each element of locs \n",
    "        distances,indices=self.model.kneighbors(\n",
    "            self.dataset.df_num.loc[locs],\n",
    "            n_neighbors = n_nearest,\n",
    "        )\n",
    "        \n",
    "        # merge results into single vector\n",
    "        nearest_results = pd.Series(np.ravel(distances),index=np.ravel(indices)).sort_values(ascending=True) # ordered from nearest to furthest, want globally nearest to origin family\n",
    "        \n",
    "        # return\n",
    "        return nearest_results"
   ]
  },
  {
   "cell_type": "code",
   "execution_count": null,
   "id": "bad7381e",
   "metadata": {},
   "outputs": [],
   "source": [
    "'''\n",
    "neighbour_search=NeighbourSearch(dataset=Dataset())\n",
    "neighbour_search.get_n_nearest_from_locs(n=5,locs=[0,1,2])\n",
    "neighbour_search.get_n_nearest_from_locs(n=5,locs=[0,1,2,3,4,5,6])\n",
    "'''\n",
    "None"
   ]
  }
 ],
 "metadata": {
  "kernelspec": {
   "display_name": "Python 3",
   "language": "python",
   "name": "python3"
  },
  "language_info": {
   "codemirror_mode": {
    "name": "ipython",
    "version": 3
   },
   "file_extension": ".py",
   "mimetype": "text/x-python",
   "name": "python",
   "nbconvert_exporter": "python",
   "pygments_lexer": "ipython3",
   "version": "3.8.10"
  }
 },
 "nbformat": 4,
 "nbformat_minor": 5
}
