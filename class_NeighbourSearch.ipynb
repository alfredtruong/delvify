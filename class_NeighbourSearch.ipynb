{
 "cells": [
  {
   "cell_type": "markdown",
   "id": "9f7153b6",
   "metadata": {},
   "source": [
    "# [TLDR] `sklearn.neighbors` logic related to `kneighbors` gathered here\n",
    "\n",
    "# [LONGER VERSION]\n",
    "- want to get `similar points` a set of `source points`\n",
    "- `source points`\n",
    "  - refers to products that got matched with text token grepping\n",
    "  - they are the starting points of the search extension\n",
    "- `similar points`\n",
    "  - refers to non text matched products that in some way is close to the `source points`\n",
    "- the final approach taken is to use `kneighbors` on normalized numeric data from the dataset to find `similar points`\n",
    "  - I toyed with kmeans and agglomerative clustering before deciding on `kneighbors`"
   ]
  },
  {
   "cell_type": "markdown",
   "id": "aba59712",
   "metadata": {},
   "source": [
    "# IMPORTS"
   ]
  },
  {
   "cell_type": "code",
   "execution_count": null,
   "id": "1966c595",
   "metadata": {},
   "outputs": [],
   "source": [
    "%run ipynb_setup.ipynb"
   ]
  },
  {
   "cell_type": "code",
   "execution_count": null,
   "id": "2cfba2f5",
   "metadata": {},
   "outputs": [],
   "source": [
    "%run class_Dataset.ipynb"
   ]
  },
  {
   "cell_type": "code",
   "execution_count": null,
   "id": "b8a3426d",
   "metadata": {},
   "outputs": [],
   "source": [
    "from inspect import currentframe \n",
    "from typing import List\n",
    "from sklearn.neighbors import NearestNeighbors"
   ]
  },
  {
   "cell_type": "markdown",
   "id": "cbf7428c",
   "metadata": {},
   "source": [
    "# CLASS DEF"
   ]
  },
  {
   "cell_type": "code",
   "execution_count": null,
   "id": "c907a8ea",
   "metadata": {},
   "outputs": [],
   "source": [
    "class NeighbourSearch():\n",
    "\n",
    "    def __init__(\n",
    "        self,\n",
    "        dataset   : Dataset,\n",
    "        verbose   : int = 0,\n",
    "        ) -> None :\n",
    "\n",
    "        self.dataset   = dataset\n",
    "        self.model     = NearestNeighbors().fit(self.dataset.df_num)    \n",
    "    \n",
    "    # given list of locs, return a larger list of size `n` x len(locs) of locs that are closest to original locs\n",
    "    def get_n_nearest_from_locs(\n",
    "        self,\n",
    "        n_nearest : int,\n",
    "        locs      : List[int],\n",
    "        verbose   : int = 0,\n",
    "        ) -> pd.Series :\n",
    "        if verbose>0: print(f'[{currentframe().f_code.co_name}] n_nearest = {n_nearest}')\n",
    "        if verbose>0: print(f'[{currentframe().f_code.co_name}] locs = {locs}')\n",
    "        if verbose>0: print(f'[{currentframe().f_code.co_name}] df_num = {self.dataset.df_num}, type = {type(self.dataset.df_num)}')\n",
    "        \n",
    "        # get nearest_n neighbors from each element of locs \n",
    "        distances,indices=self.model.kneighbors(\n",
    "            self.dataset.df_num.loc[locs],\n",
    "            n_neighbors = n_nearest,\n",
    "        )\n",
    "        \n",
    "        # merge results into single vector\n",
    "        flat_distances = np.ravel(distances)\n",
    "        flat_ilocs     = np.ravel(indices)\n",
    "        flat_locs      = self.dataset.df_num.index[flat_ilocs]\n",
    "        #nearest_results_ilocs = pd.Series(flat_distances,index=flat_ilocs).sort_values(ascending=True) # ordered from nearest to furthest, want globally nearest to origin family\n",
    "        nearest_results_locs = pd.Series(flat_distances,index=flat_locs).sort_values(ascending=True) # ordered from nearest to furthest, want globally nearest to origin family\n",
    "        \n",
    "        # return\n",
    "        #return nearest_results_ilocs\n",
    "        return nearest_results_locs\n",
    "    \n",
    "    # incrementally grab more nearest neighbours from some `source_results` list until we get more than we need\n",
    "    def nearby_results(\n",
    "        self,\n",
    "        locs        : List[int],\n",
    "        min_results : int,\n",
    "        verbose     : int = 0,\n",
    "        ) -> pd.Series :\n",
    "            \n",
    "        # protect input\n",
    "        if min_results > len(self.dataset.df): min_results = len(self.dataset.df)\n",
    "            \n",
    "        # initialize while loop\n",
    "        n_nearest = 1\n",
    "        res_unique = locs\n",
    "        \n",
    "        # look outwards and find nearest results (including self) until we get more that what we need\n",
    "        while len(res_unique) < min_results:\n",
    "            # get next nearest result from each source_result\n",
    "            res = self.get_n_nearest_from_locs(\n",
    "                n_nearest = n_nearest,\n",
    "                locs      = locs,\n",
    "            )\n",
    "            \n",
    "            # avoid situation where same neighbor is found jas\n",
    "            res_unique = res.groupby(res.index).min()\n",
    "        \n",
    "            if verbose>0: print(f'[{currentframe().f_code.co_name}] n_nearest = {n_nearest}, len(res) = {len(res)}, len(res_unique) = {len(res_unique)}, min_results = {min_results}')\n",
    "\n",
    "            # prep for next loop\n",
    "            n_nearest = n_nearest + 1\n",
    "            \n",
    "        # return required number of results sorted by distance away from original locs\n",
    "        return res_unique.sort_values()"
   ]
  },
  {
   "cell_type": "code",
   "execution_count": null,
   "id": "bad7381e",
   "metadata": {
    "scrolled": false
   },
   "outputs": [],
   "source": [
    "'''\n",
    "d=Dataset()\n",
    "neighbour_search=NeighbourSearch(dataset=d)\n",
    "#neighbour_search.get_n_nearest_from_locs(n_nearest=5,locs=[1483, 1307, 1362, 1485, 172, 375])\n",
    "#neighbour_search.get_n_nearest_from_locs(n_nearest=1,locs=[172, 375, 1307, 1362, 1483, 1485])\n",
    "#neighbour_search.get_n_nearest_from_locs(n_nearest=5,locs=[0,1,2])\n",
    "#neighbour_search.get_n_nearest_from_locs(n_nearest=5,locs=[0,1,2,3,4,5,6])\n",
    "#neighbour_search.get_n_nearest_from_locs(n_nearest=100,locs=[0,1,2,3,4,5,6])\n",
    "#neighbour_search.nearby_results(locs=[0,2,4,6],min_results=10000) # ensure while loop finishes\n",
    "neighbour_search.nearby_results(locs=[0,2,4,6],min_results=10) # ensure while loop finishes\n",
    "#'''\n",
    "None"
   ]
  },
  {
   "cell_type": "code",
   "execution_count": null,
   "id": "13a87ddb",
   "metadata": {},
   "outputs": [],
   "source": [
    "#neighbour_search.get_n_nearest_from_locs(n_nearest=2,locs=d.df.index[:4])\n",
    "#neighbour_search.nearby_results(locs=d.df.index[:4],min_results=20) # ensure while loop finishes"
   ]
  }
 ],
 "metadata": {
  "kernelspec": {
   "display_name": "Python 3",
   "language": "python",
   "name": "python3"
  },
  "language_info": {
   "codemirror_mode": {
    "name": "ipython",
    "version": 3
   },
   "file_extension": ".py",
   "mimetype": "text/x-python",
   "name": "python",
   "nbconvert_exporter": "python",
   "pygments_lexer": "ipython3",
   "version": "3.8.10"
  }
 },
 "nbformat": 4,
 "nbformat_minor": 5
}
