{
 "cells": [
  {
   "cell_type": "markdown",
   "id": "30864b01",
   "metadata": {},
   "source": [
    "# OVERVIEW OF NOTEBOOKS"
   ]
  },
  {
   "cell_type": "markdown",
   "id": "25840067",
   "metadata": {},
   "source": [
    "quick reference notebooks\n",
    "```\n",
    "future_directions.ipynb                 = project summary + ideas for future directions\n",
    "example_queries.ipynb                   = ProductSearch().query()  usage tutorial\n",
    "```\n",
    "\n",
    "class definitions\n",
    "```\n",
    "class_Dataset.ipynb                     = class to handle data\n",
    "class_TokenSearch.ipynb                 = class to grep search tokens\n",
    "class_NeighbourSearch.ipynb             = class to perform nearest-neighbour searching\n",
    "class_ImageSearch.ipynb                 = class to perform image distance metrics\n",
    "class_ProductSearch.ipynb               = class to string everything together to do queries\n",
    "```\n",
    "\n",
    "generic Jupyter notebook prepping\n",
    "```\n",
    "ipynb_setup.ipynb                       = admin notebook for bookkeeping\n",
    "```\n",
    "\n",
    "exploratory dabbling notebooks\n",
    "```\n",
    "exploration.ipynb                       = initial exploratory analysis\n",
    "text_search.ipynb                       = building + testing of TokenSearch() functions\n",
    "img_features.ipynb                      = building + testing of ImageSearch() functions\n",
    "ml_aggcluster.ipynb                     = considering usage of agglomerative clustering\n",
    "ml_kmeans.ipynb                         = considering usage of k-means\n",
    "ml_NearestNeighbors.ipynb               = considering usage of k-nearest neighbours\n",
    "ml_pca.ipynb                            = considering usage of PCA\n",
    "```\n",
    "\n"
   ]
  },
  {
   "cell_type": "markdown",
   "id": "0e12c733",
   "metadata": {},
   "source": [
    "# FUTURE DIRECTIONS"
   ]
  },
  {
   "cell_type": "markdown",
   "id": "239aa193",
   "metadata": {},
   "source": [
    "- `lemmatization` within `TokenSearch` class\n",
    "  - extract root meanings from search tokens\n",
    "  - don't want a specific search term to throw off `TokenSearch` class, e.g. strips / stripped / stripy VS strip"
   ]
  },
  {
   "cell_type": "markdown",
   "id": "a383434c",
   "metadata": {},
   "source": [
    "- `convolutional neural nets` to replace the `ImageSearch` class\n",
    "  - I read a lot of good things re CNN's in image search but had no time to play"
   ]
  }
 ],
 "metadata": {
  "kernelspec": {
   "display_name": "Python 3",
   "language": "python",
   "name": "python3"
  },
  "language_info": {
   "codemirror_mode": {
    "name": "ipython",
    "version": 3
   },
   "file_extension": ".py",
   "mimetype": "text/x-python",
   "name": "python",
   "nbconvert_exporter": "python",
   "pygments_lexer": "ipython3",
   "version": "3.8.10"
  }
 },
 "nbformat": 4,
 "nbformat_minor": 5
}
